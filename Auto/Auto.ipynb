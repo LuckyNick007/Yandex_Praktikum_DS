{
 "cells": [
  {
   "cell_type": "markdown",
   "metadata": {},
   "source": [
    "# Определение стоимости автомобилей"
   ]
  },
  {
   "cell_type": "markdown",
   "metadata": {},
   "source": [
    "## Описание проекта"
   ]
  },
  {
   "cell_type": "markdown",
   "metadata": {},
   "source": [
    "Сервис по продаже автомобилей с пробегом «Не бит, не крашен» разрабатывает приложение для привлечения новых клиентов. В нём можно быстро узнать рыночную стоимость своего автомобиля. В вашем распоряжении исторические данные: технические характеристики, комплектации и цены автомобилей. Вам нужно построить модель для определения стоимости.\n",
    "\n",
    "Заказчику важны:\n",
    "\n",
    "* качество предсказания;\n",
    "* скорость предсказания;\n",
    "* время обучения."
   ]
  },
  {
   "cell_type": "markdown",
   "metadata": {},
   "source": [
    "---"
   ]
  },
  {
   "cell_type": "markdown",
   "metadata": {},
   "source": [
    "**Инструкция по выполнению проекта**\n",
    "\n",
    "Чтобы усилить исследование, не ограничивайтесь градиентным бустингом. Попробуйте более простые модели — иногда они работают лучше. Это редкие случаи, которые легко пропустить, если всегда применять только бустинг. Поэкспериментируйте и сравните характеристики моделей: скорость работы, точность результата.\n",
    "\n",
    "* Загрузите и подготовьте данные.\n",
    "* Обучите разные модели. Для каждой попробуйте различные гиперпараметры.\n",
    "* Проанализируйте скорость работы и качество моделей.\n",
    "\n",
    "***Примечания:***\n",
    "* Для оценки качества моделей применяйте метрику RMSE.\n",
    "* Время выполнения ячейки кода Jupyter Notebook можно получить специальной командой. Найдите её.\n",
    "* Поскольку модель градиентного бустинга может обучаться долго, измените у неё только два-три параметра.\n",
    "* Год выгрузки данных 2016."
   ]
  },
  {
   "cell_type": "markdown",
   "metadata": {},
   "source": [
    "---"
   ]
  },
  {
   "cell_type": "markdown",
   "metadata": {},
   "source": [
    "**Описание данных**\n",
    "\n",
    "Данные находятся в файле `/datasets/autos.csv`.\n",
    "\n",
    "***Признаки***\n",
    "* `DateCrawled` — дата скачивания анкеты из базы\n",
    "* `VehicleType` — тип автомобильного кузова\n",
    "* `RegistrationYear` — год регистрации автомобиля\n",
    "* `Gearbox` — тип коробки передач\n",
    "* `Power` — мощность (л. с.)\n",
    "* `Model` — модель автомобиля\n",
    "* `Kilometer` — пробег (км)\n",
    "* `RegistrationMonth` — месяц регистрации автомобиля\n",
    "* `FuelType` — тип топлива\n",
    "* `Brand` — марка автомобиля\n",
    "* `NotRepaired` — была машина в ремонте или нет\n",
    "* `DateCreated` — дата создания анкеты\n",
    "* `NumberOfPictures` — количество фотографий автомобиля\n",
    "* `PostalCode` — почтовый индекс владельца анкеты (пользователя)\n",
    "* `LastSeen` — дата последней активности пользователя\n",
    "\n",
    "***Целевой признак***\n",
    "* `Price` — цена (евро)"
   ]
  },
  {
   "cell_type": "markdown",
   "metadata": {},
   "source": [
    "## Подготовка данных"
   ]
  },
  {
   "cell_type": "code",
   "execution_count": 1,
   "metadata": {},
   "outputs": [],
   "source": [
    "# импорт библиотек\n",
    "import pandas as pd\n",
    "import numpy as np\n",
    "import matplotlib.pyplot as plt\n",
    "import matplotlib\n",
    "import seaborn as sns\n",
    "\n",
    "from sklearn.preprocessing import OneHotEncoder\n",
    "from sklearn.model_selection import train_test_split\n",
    "\n",
    "from sklearn.linear_model import LinearRegression\n",
    "from sklearn.tree import DecisionTreeRegressor\n",
    "from sklearn.ensemble import RandomForestRegressor\n",
    "from lightgbm import LGBMRegressor\n",
    "from catboost import CatBoostRegressor\n",
    "\n",
    "from sklearn.metrics import mean_squared_error\n",
    "import time"
   ]
  },
  {
   "cell_type": "markdown",
   "metadata": {},
   "source": [
    "**Проанализируем данные на предмет дубликатов, пропусков, лишних признаков.**"
   ]
  },
  {
   "cell_type": "code",
   "execution_count": 2,
   "metadata": {},
   "outputs": [],
   "source": [
    "df = pd.read_csv('/datasets/autos.csv')"
   ]
  },
  {
   "cell_type": "code",
   "execution_count": 3,
   "metadata": {
    "scrolled": true
   },
   "outputs": [
    {
     "data": {
      "text/html": [
       "<div>\n",
       "<style scoped>\n",
       "    .dataframe tbody tr th:only-of-type {\n",
       "        vertical-align: middle;\n",
       "    }\n",
       "\n",
       "    .dataframe tbody tr th {\n",
       "        vertical-align: top;\n",
       "    }\n",
       "\n",
       "    .dataframe thead th {\n",
       "        text-align: right;\n",
       "    }\n",
       "</style>\n",
       "<table border=\"1\" class=\"dataframe\">\n",
       "  <thead>\n",
       "    <tr style=\"text-align: right;\">\n",
       "      <th></th>\n",
       "      <th>DateCrawled</th>\n",
       "      <th>Price</th>\n",
       "      <th>VehicleType</th>\n",
       "      <th>RegistrationYear</th>\n",
       "      <th>Gearbox</th>\n",
       "      <th>Power</th>\n",
       "      <th>Model</th>\n",
       "      <th>Kilometer</th>\n",
       "      <th>RegistrationMonth</th>\n",
       "      <th>FuelType</th>\n",
       "      <th>Brand</th>\n",
       "      <th>NotRepaired</th>\n",
       "      <th>DateCreated</th>\n",
       "      <th>NumberOfPictures</th>\n",
       "      <th>PostalCode</th>\n",
       "      <th>LastSeen</th>\n",
       "    </tr>\n",
       "  </thead>\n",
       "  <tbody>\n",
       "    <tr>\n",
       "      <th>0</th>\n",
       "      <td>2016-03-24 11:52:17</td>\n",
       "      <td>480</td>\n",
       "      <td>NaN</td>\n",
       "      <td>1993</td>\n",
       "      <td>manual</td>\n",
       "      <td>0</td>\n",
       "      <td>golf</td>\n",
       "      <td>150000</td>\n",
       "      <td>0</td>\n",
       "      <td>petrol</td>\n",
       "      <td>volkswagen</td>\n",
       "      <td>NaN</td>\n",
       "      <td>2016-03-24 00:00:00</td>\n",
       "      <td>0</td>\n",
       "      <td>70435</td>\n",
       "      <td>2016-04-07 03:16:57</td>\n",
       "    </tr>\n",
       "    <tr>\n",
       "      <th>1</th>\n",
       "      <td>2016-03-24 10:58:45</td>\n",
       "      <td>18300</td>\n",
       "      <td>coupe</td>\n",
       "      <td>2011</td>\n",
       "      <td>manual</td>\n",
       "      <td>190</td>\n",
       "      <td>NaN</td>\n",
       "      <td>125000</td>\n",
       "      <td>5</td>\n",
       "      <td>gasoline</td>\n",
       "      <td>audi</td>\n",
       "      <td>yes</td>\n",
       "      <td>2016-03-24 00:00:00</td>\n",
       "      <td>0</td>\n",
       "      <td>66954</td>\n",
       "      <td>2016-04-07 01:46:50</td>\n",
       "    </tr>\n",
       "    <tr>\n",
       "      <th>2</th>\n",
       "      <td>2016-03-14 12:52:21</td>\n",
       "      <td>9800</td>\n",
       "      <td>suv</td>\n",
       "      <td>2004</td>\n",
       "      <td>auto</td>\n",
       "      <td>163</td>\n",
       "      <td>grand</td>\n",
       "      <td>125000</td>\n",
       "      <td>8</td>\n",
       "      <td>gasoline</td>\n",
       "      <td>jeep</td>\n",
       "      <td>NaN</td>\n",
       "      <td>2016-03-14 00:00:00</td>\n",
       "      <td>0</td>\n",
       "      <td>90480</td>\n",
       "      <td>2016-04-05 12:47:46</td>\n",
       "    </tr>\n",
       "    <tr>\n",
       "      <th>3</th>\n",
       "      <td>2016-03-17 16:54:04</td>\n",
       "      <td>1500</td>\n",
       "      <td>small</td>\n",
       "      <td>2001</td>\n",
       "      <td>manual</td>\n",
       "      <td>75</td>\n",
       "      <td>golf</td>\n",
       "      <td>150000</td>\n",
       "      <td>6</td>\n",
       "      <td>petrol</td>\n",
       "      <td>volkswagen</td>\n",
       "      <td>no</td>\n",
       "      <td>2016-03-17 00:00:00</td>\n",
       "      <td>0</td>\n",
       "      <td>91074</td>\n",
       "      <td>2016-03-17 17:40:17</td>\n",
       "    </tr>\n",
       "    <tr>\n",
       "      <th>4</th>\n",
       "      <td>2016-03-31 17:25:20</td>\n",
       "      <td>3600</td>\n",
       "      <td>small</td>\n",
       "      <td>2008</td>\n",
       "      <td>manual</td>\n",
       "      <td>69</td>\n",
       "      <td>fabia</td>\n",
       "      <td>90000</td>\n",
       "      <td>7</td>\n",
       "      <td>gasoline</td>\n",
       "      <td>skoda</td>\n",
       "      <td>no</td>\n",
       "      <td>2016-03-31 00:00:00</td>\n",
       "      <td>0</td>\n",
       "      <td>60437</td>\n",
       "      <td>2016-04-06 10:17:21</td>\n",
       "    </tr>\n",
       "  </tbody>\n",
       "</table>\n",
       "</div>"
      ],
      "text/plain": [
       "           DateCrawled  Price VehicleType  RegistrationYear Gearbox  Power  \\\n",
       "0  2016-03-24 11:52:17    480         NaN              1993  manual      0   \n",
       "1  2016-03-24 10:58:45  18300       coupe              2011  manual    190   \n",
       "2  2016-03-14 12:52:21   9800         suv              2004    auto    163   \n",
       "3  2016-03-17 16:54:04   1500       small              2001  manual     75   \n",
       "4  2016-03-31 17:25:20   3600       small              2008  manual     69   \n",
       "\n",
       "   Model  Kilometer  RegistrationMonth  FuelType       Brand NotRepaired  \\\n",
       "0   golf     150000                  0    petrol  volkswagen         NaN   \n",
       "1    NaN     125000                  5  gasoline        audi         yes   \n",
       "2  grand     125000                  8  gasoline        jeep         NaN   \n",
       "3   golf     150000                  6    petrol  volkswagen          no   \n",
       "4  fabia      90000                  7  gasoline       skoda          no   \n",
       "\n",
       "           DateCreated  NumberOfPictures  PostalCode             LastSeen  \n",
       "0  2016-03-24 00:00:00                 0       70435  2016-04-07 03:16:57  \n",
       "1  2016-03-24 00:00:00                 0       66954  2016-04-07 01:46:50  \n",
       "2  2016-03-14 00:00:00                 0       90480  2016-04-05 12:47:46  \n",
       "3  2016-03-17 00:00:00                 0       91074  2016-03-17 17:40:17  \n",
       "4  2016-03-31 00:00:00                 0       60437  2016-04-06 10:17:21  "
      ]
     },
     "execution_count": 3,
     "metadata": {},
     "output_type": "execute_result"
    }
   ],
   "source": [
    "df.head()"
   ]
  },
  {
   "cell_type": "code",
   "execution_count": 4,
   "metadata": {
    "scrolled": false
   },
   "outputs": [
    {
     "name": "stdout",
     "output_type": "stream",
     "text": [
      "<class 'pandas.core.frame.DataFrame'>\n",
      "RangeIndex: 354369 entries, 0 to 354368\n",
      "Data columns (total 16 columns):\n",
      " #   Column             Non-Null Count   Dtype \n",
      "---  ------             --------------   ----- \n",
      " 0   DateCrawled        354369 non-null  object\n",
      " 1   Price              354369 non-null  int64 \n",
      " 2   VehicleType        316879 non-null  object\n",
      " 3   RegistrationYear   354369 non-null  int64 \n",
      " 4   Gearbox            334536 non-null  object\n",
      " 5   Power              354369 non-null  int64 \n",
      " 6   Model              334664 non-null  object\n",
      " 7   Kilometer          354369 non-null  int64 \n",
      " 8   RegistrationMonth  354369 non-null  int64 \n",
      " 9   FuelType           321474 non-null  object\n",
      " 10  Brand              354369 non-null  object\n",
      " 11  NotRepaired        283215 non-null  object\n",
      " 12  DateCreated        354369 non-null  object\n",
      " 13  NumberOfPictures   354369 non-null  int64 \n",
      " 14  PostalCode         354369 non-null  int64 \n",
      " 15  LastSeen           354369 non-null  object\n",
      "dtypes: int64(7), object(9)\n",
      "memory usage: 43.3+ MB\n"
     ]
    }
   ],
   "source": [
    "# общая информация\n",
    "df.info()"
   ]
  },
  {
   "cell_type": "markdown",
   "metadata": {},
   "source": [
    "---"
   ]
  },
  {
   "cell_type": "code",
   "execution_count": 5,
   "metadata": {
    "scrolled": false
   },
   "outputs": [
    {
     "data": {
      "text/plain": [
       "NotRepaired          0.200791\n",
       "VehicleType          0.105794\n",
       "FuelType             0.092827\n",
       "Gearbox              0.055967\n",
       "Model                0.055606\n",
       "DateCrawled          0.000000\n",
       "Price                0.000000\n",
       "RegistrationYear     0.000000\n",
       "Power                0.000000\n",
       "Kilometer            0.000000\n",
       "RegistrationMonth    0.000000\n",
       "Brand                0.000000\n",
       "DateCreated          0.000000\n",
       "NumberOfPictures     0.000000\n",
       "PostalCode           0.000000\n",
       "LastSeen             0.000000\n",
       "dtype: float64"
      ]
     },
     "execution_count": 5,
     "metadata": {},
     "output_type": "execute_result"
    }
   ],
   "source": [
    "# просмотр признаков с пропущенными значениями в процентном соотношении\n",
    "df.isna().mean().sort_values(ascending=False)"
   ]
  },
  {
   "cell_type": "code",
   "execution_count": 6,
   "metadata": {},
   "outputs": [],
   "source": [
    "# создание списка признаков с пропусками\n",
    "t = df.isna().mean().sort_values(ascending=False)\n",
    "columns_with_nan = list(t[t > 0].index)"
   ]
  },
  {
   "cell_type": "code",
   "execution_count": 7,
   "metadata": {
    "scrolled": true
   },
   "outputs": [
    {
     "data": {
      "text/plain": [
       "['NotRepaired', 'VehicleType', 'FuelType', 'Gearbox', 'Model']"
      ]
     },
     "execution_count": 7,
     "metadata": {},
     "output_type": "execute_result"
    }
   ],
   "source": [
    "columns_with_nan"
   ]
  },
  {
   "cell_type": "code",
   "execution_count": 8,
   "metadata": {
    "scrolled": true
   },
   "outputs": [
    {
     "data": {
      "text/plain": [
       "NotRepaired    object\n",
       "VehicleType    object\n",
       "FuelType       object\n",
       "Gearbox        object\n",
       "Model          object\n",
       "dtype: object"
      ]
     },
     "execution_count": 8,
     "metadata": {},
     "output_type": "execute_result"
    }
   ],
   "source": [
    "df[columns_with_nan].dtypes"
   ]
  },
  {
   "cell_type": "markdown",
   "metadata": {},
   "source": [
    "**Все признаки с пропущенными значениями имеют тип `object`. Принято решение заполнить все пропуски строкой: `no_info`.**"
   ]
  },
  {
   "cell_type": "code",
   "execution_count": 9,
   "metadata": {},
   "outputs": [],
   "source": [
    "df = df.fillna('no_info')"
   ]
  },
  {
   "cell_type": "code",
   "execution_count": 10,
   "metadata": {
    "scrolled": true
   },
   "outputs": [
    {
     "data": {
      "text/plain": [
       "4"
      ]
     },
     "execution_count": 10,
     "metadata": {},
     "output_type": "execute_result"
    }
   ],
   "source": [
    "# поиск дубликатов\n",
    "df.duplicated().sum()"
   ]
  },
  {
   "cell_type": "markdown",
   "metadata": {},
   "source": [
    "**Найдено `4шт.` явных дубликатов, удалим данные строки.**"
   ]
  },
  {
   "cell_type": "code",
   "execution_count": 11,
   "metadata": {},
   "outputs": [],
   "source": [
    "df = df.drop_duplicates().reset_index(drop=True) "
   ]
  },
  {
   "cell_type": "markdown",
   "metadata": {},
   "source": [
    "**Признаки `DateCrawled`, `DateCreated`, `NumberOfPictures`, `PostalCode`, `LastSeen`, `RegistrationMonth` не несут значимо важной информации и никак не помогут в обучении моделей, принято решение их удалить.**"
   ]
  },
  {
   "cell_type": "code",
   "execution_count": 12,
   "metadata": {},
   "outputs": [],
   "source": [
    "to_del = ['DateCrawled', 'DateCreated', 'NumberOfPictures', 'PostalCode', 'LastSeen', 'RegistrationMonth']\n",
    "df = df.drop(to_del, axis=1)"
   ]
  },
  {
   "cell_type": "markdown",
   "metadata": {},
   "source": [
    "---"
   ]
  },
  {
   "cell_type": "markdown",
   "metadata": {},
   "source": [
    "**Разобьем параметр год регистрации авто на категории. Для этого создадим новый параметр `YearCategory`. Столетия разобьем на кварталы:**\n",
    "\n",
    "* `20_I` - с 1900 по 1924, (двадцатый век, 1ая четверть)\n",
    "* `20_II` - с 1925 по 1949, (двадцатый век, 2ая четверть)\n",
    "* `20_III` - с 1950 по 1974, (двадцатый век, 3ья четверть)\n",
    "* `20_IV` - с 1975 по 1999, (двадцатый век, 4ая четверть)\n",
    "* `21_I` - с 2000, (двадцать первый век, 1ая четверть)"
   ]
  },
  {
   "cell_type": "code",
   "execution_count": 13,
   "metadata": {},
   "outputs": [],
   "source": [
    "df['YearCategory'] = 'year'\n",
    "df.loc[df['RegistrationYear'] < 1925, 'YearCategory'] = '20_I'\n",
    "df.loc[(df['RegistrationYear'] >= 1925) & (df['RegistrationYear'] < 1950), 'YearCategory'] = '20_II'\n",
    "df.loc[(df['RegistrationYear'] >= 1950) & (df['RegistrationYear'] < 1975), 'YearCategory'] = '20_III'\n",
    "df.loc[(df['RegistrationYear'] >= 1975) & (df['RegistrationYear'] < 2000), 'YearCategory'] = '20_IV'\n",
    "df.loc[df['RegistrationYear'] >= 2000, 'YearCategory'] = '21_I'"
   ]
  },
  {
   "cell_type": "markdown",
   "metadata": {},
   "source": [
    "**Выделим обучающие признаки и целевой признак, а также разобьем данные на три части: `train` - для обучения, `valid` - валидационные и `test` - тестовые. Для этого используем метод `train_test_split` два раза.**"
   ]
  },
  {
   "cell_type": "code",
   "execution_count": 14,
   "metadata": {},
   "outputs": [],
   "source": [
    "# обучающие признаки\n",
    "features_100 = df.drop('Price', axis=1)"
   ]
  },
  {
   "cell_type": "code",
   "execution_count": 15,
   "metadata": {},
   "outputs": [],
   "source": [
    "# целевой признак\n",
    "target_100 = df['Price']"
   ]
  },
  {
   "cell_type": "code",
   "execution_count": 16,
   "metadata": {},
   "outputs": [],
   "source": [
    "features_40, features_train, target_40, target_train = train_test_split(\n",
    "    features_100, target_100, test_size=0.60, random_state=777)"
   ]
  },
  {
   "cell_type": "code",
   "execution_count": 17,
   "metadata": {},
   "outputs": [],
   "source": [
    "features_valid, features_test, target_valid, target_test = train_test_split(\n",
    "    features_40, target_40, test_size=0.50, random_state=777)"
   ]
  },
  {
   "cell_type": "code",
   "execution_count": 18,
   "metadata": {},
   "outputs": [
    {
     "name": "stdout",
     "output_type": "stream",
     "text": [
      "Размер обучаемого набора: 212619, доля всех данных: 0.6\n",
      "Размер набора валидации: 70873, доля всех данных: 0.2\n",
      "Размер тестового набора: 70873, доля всех данных: 0.2\n"
     ]
    }
   ],
   "source": [
    "print(f'Размер обучаемого набора: {len(features_train)}, доля всех данных: \\\n",
    "{round(len(features_train) / len(features_100), 2)}')\n",
    "\n",
    "print(f'Размер набора валидации: {len(features_valid)}, доля всех данных: \\\n",
    "{round(len(features_valid) / len(features_100), 2)}')\n",
    "\n",
    "print(f'Размер тестового набора: {len(features_test)}, доля всех данных: \\\n",
    "{round(len(features_test) / len(features_100), 2)}')"
   ]
  },
  {
   "cell_type": "markdown",
   "metadata": {},
   "source": [
    "**В итоге получаем:**\n",
    "* `features_train`, `target_train` - обучающий набор, 60% всех данных.\n",
    "* `features_valid`, `target_valid` - данные валидации, 20% всех данных.\n",
    "* `features_test`, `target_test` - тестовый набор, 20% всех данных."
   ]
  },
  {
   "cell_type": "markdown",
   "metadata": {},
   "source": [
    "**На данном этапе сохраним копии выборок для обучения моделей `catboost`, `lgbm` в дальнешем.**"
   ]
  },
  {
   "cell_type": "code",
   "execution_count": 19,
   "metadata": {},
   "outputs": [],
   "source": [
    "# для catboost сохраним фичи\\таргет набора train, признаки валидации\\теста\n",
    "features_train_cat, target_train_cat = features_train.copy(), target_train.copy()\n",
    "features_valid_cat = features_valid.copy()\n",
    "features_test_cat = features_test.copy()\n",
    "\n",
    "# для LGBD сохраним исходный формат фичей train\\valid\\test\n",
    "features_train_lgbm = features_train.copy()\n",
    "features_valid_lgbm = features_valid.copy()\n",
    "features_test_lgbm = features_test.copy()"
   ]
  },
  {
   "cell_type": "markdown",
   "metadata": {},
   "source": [
    "---"
   ]
  },
  {
   "cell_type": "code",
   "execution_count": 20,
   "metadata": {
    "scrolled": true
   },
   "outputs": [
    {
     "data": {
      "text/html": [
       "<div>\n",
       "<style scoped>\n",
       "    .dataframe tbody tr th:only-of-type {\n",
       "        vertical-align: middle;\n",
       "    }\n",
       "\n",
       "    .dataframe tbody tr th {\n",
       "        vertical-align: top;\n",
       "    }\n",
       "\n",
       "    .dataframe thead th {\n",
       "        text-align: right;\n",
       "    }\n",
       "</style>\n",
       "<table border=\"1\" class=\"dataframe\">\n",
       "  <thead>\n",
       "    <tr style=\"text-align: right;\">\n",
       "      <th></th>\n",
       "      <th>Price</th>\n",
       "      <th>RegistrationYear</th>\n",
       "      <th>Power</th>\n",
       "      <th>Kilometer</th>\n",
       "    </tr>\n",
       "  </thead>\n",
       "  <tbody>\n",
       "    <tr>\n",
       "      <th>count</th>\n",
       "      <td>354365.000000</td>\n",
       "      <td>354365.000000</td>\n",
       "      <td>354365.000000</td>\n",
       "      <td>354365.000000</td>\n",
       "    </tr>\n",
       "    <tr>\n",
       "      <th>mean</th>\n",
       "      <td>4416.679830</td>\n",
       "      <td>2004.234481</td>\n",
       "      <td>110.093816</td>\n",
       "      <td>128211.363989</td>\n",
       "    </tr>\n",
       "    <tr>\n",
       "      <th>std</th>\n",
       "      <td>4514.176349</td>\n",
       "      <td>90.228466</td>\n",
       "      <td>189.851330</td>\n",
       "      <td>37905.083858</td>\n",
       "    </tr>\n",
       "    <tr>\n",
       "      <th>min</th>\n",
       "      <td>0.000000</td>\n",
       "      <td>1000.000000</td>\n",
       "      <td>0.000000</td>\n",
       "      <td>5000.000000</td>\n",
       "    </tr>\n",
       "    <tr>\n",
       "      <th>25%</th>\n",
       "      <td>1050.000000</td>\n",
       "      <td>1999.000000</td>\n",
       "      <td>69.000000</td>\n",
       "      <td>125000.000000</td>\n",
       "    </tr>\n",
       "    <tr>\n",
       "      <th>50%</th>\n",
       "      <td>2700.000000</td>\n",
       "      <td>2003.000000</td>\n",
       "      <td>105.000000</td>\n",
       "      <td>150000.000000</td>\n",
       "    </tr>\n",
       "    <tr>\n",
       "      <th>75%</th>\n",
       "      <td>6400.000000</td>\n",
       "      <td>2008.000000</td>\n",
       "      <td>143.000000</td>\n",
       "      <td>150000.000000</td>\n",
       "    </tr>\n",
       "    <tr>\n",
       "      <th>max</th>\n",
       "      <td>20000.000000</td>\n",
       "      <td>9999.000000</td>\n",
       "      <td>20000.000000</td>\n",
       "      <td>150000.000000</td>\n",
       "    </tr>\n",
       "  </tbody>\n",
       "</table>\n",
       "</div>"
      ],
      "text/plain": [
       "               Price  RegistrationYear          Power      Kilometer\n",
       "count  354365.000000     354365.000000  354365.000000  354365.000000\n",
       "mean     4416.679830       2004.234481     110.093816  128211.363989\n",
       "std      4514.176349         90.228466     189.851330   37905.083858\n",
       "min         0.000000       1000.000000       0.000000    5000.000000\n",
       "25%      1050.000000       1999.000000      69.000000  125000.000000\n",
       "50%      2700.000000       2003.000000     105.000000  150000.000000\n",
       "75%      6400.000000       2008.000000     143.000000  150000.000000\n",
       "max     20000.000000       9999.000000   20000.000000  150000.000000"
      ]
     },
     "execution_count": 20,
     "metadata": {},
     "output_type": "execute_result"
    }
   ],
   "source": [
    "# просмотр инфо по количественным признакам\n",
    "df.describe()"
   ]
  },
  {
   "cell_type": "markdown",
   "metadata": {},
   "source": [
    "**Из представленной информации определены некорретные значения в параметрах:**\n",
    "\n",
    "* год регистрации авто - некорректные значения `min`, `max`.\n",
    "* стоимость авто - некорректные значения `min`."
   ]
  },
  {
   "cell_type": "markdown",
   "metadata": {},
   "source": [
    "---"
   ]
  },
  {
   "cell_type": "markdown",
   "metadata": {},
   "source": [
    "**Построим диаграмму размаха для параметра года регистрации.**"
   ]
  },
  {
   "cell_type": "code",
   "execution_count": 21,
   "metadata": {},
   "outputs": [],
   "source": [
    "# настройка размера для всех графиков.\n",
    "matplotlib.rcParams[\"figure.figsize\"] = (15, 3)"
   ]
  },
  {
   "cell_type": "code",
   "execution_count": 22,
   "metadata": {
    "scrolled": true
   },
   "outputs": [
    {
     "data": {
      "image/png": "[encoded data removed]",
      "text/plain": [
       "<Figure size 1080x216 with 1 Axes>"
      ]
     },
     "metadata": {
      "needs_background": "light"
     },
     "output_type": "display_data"
    }
   ],
   "source": [
    "# строим диаграмму размаха года регистрации авто\n",
    "plt.title('Диаграмма размаха по году регистрации авто')\n",
    "sns.boxplot(x=\"RegistrationYear\", data=df)\n",
    "plt.xticks(np.arange(0, 11000, 1000))\n",
    "plt.xlabel('Год регистрации.')\n",
    "plt.grid()"
   ]
  },
  {
   "cell_type": "markdown",
   "metadata": {},
   "source": [
    "**На графике заметны некорректные значения в виде выбросов попробуем сузить интервал графика от `1900` до `2025` года.**"
   ]
  },
  {
   "cell_type": "code",
   "execution_count": 23,
   "metadata": {
    "scrolled": false
   },
   "outputs": [
    {
     "data": {
      "image/png": "[encoded data removed]",
      "text/plain": [
       "<Figure size 1080x216 with 1 Axes>"
      ]
     },
     "metadata": {
      "needs_background": "light"
     },
     "output_type": "display_data"
    }
   ],
   "source": [
    "plt.title('Диаграмма размаха по году регистрации авто, масштаб')\n",
    "sns.boxplot(x=\"RegistrationYear\", data=df)\n",
    "plt.xlim(1900, 2025)\n",
    "plt.xticks(np.arange(1900, 2025, 5))\n",
    "plt.xlabel('Год регистрации.')\n",
    "plt.grid()"
   ]
  },
  {
   "cell_type": "markdown",
   "metadata": {},
   "source": [
    "**Посчитаем кол-во объявлений с авто `< 1900г.` и `> 2020г.` регистрации в общем датафрейме и на трейне.**"
   ]
  },
  {
   "cell_type": "code",
   "execution_count": 24,
   "metadata": {},
   "outputs": [
    {
     "data": {
      "text/plain": [
       "14596"
      ]
     },
     "execution_count": 24,
     "metadata": {},
     "output_type": "execute_result"
    }
   ],
   "source": [
    "# общий датафрейм\n",
    "df[(df['RegistrationYear'] < 1900) | \n",
    "               (df['RegistrationYear'] > 2016)]['RegistrationYear'].count()"
   ]
  },
  {
   "cell_type": "code",
   "execution_count": 25,
   "metadata": {},
   "outputs": [
    {
     "data": {
      "text/plain": [
       "8684"
      ]
     },
     "execution_count": 25,
     "metadata": {},
     "output_type": "execute_result"
    }
   ],
   "source": [
    "# трэйн\n",
    "features_train[(features_train['RegistrationYear'] < 1900) | \n",
    "               (features_train['RegistrationYear'] > 2016)]['RegistrationYear'].count()"
   ]
  },
  {
   "cell_type": "markdown",
   "metadata": {},
   "source": [
    "**Принято решение удалить строки из набора `train` с некорректным годом выпуска `< 1900г.` и `> 2020г.`, а после удалить сам признак `RegistrationYear`. 2016 - год выгрузки данных, поэтому используется данный год в качестве порога**"
   ]
  },
  {
   "cell_type": "code",
   "execution_count": 26,
   "metadata": {},
   "outputs": [],
   "source": [
    "features_train = features_train[(features_train['RegistrationYear'] > 1900) & \n",
    "                                (features_train['RegistrationYear'] < 2016)]"
   ]
  },
  {
   "cell_type": "code",
   "execution_count": 27,
   "metadata": {},
   "outputs": [],
   "source": [
    "# удаление признака RegistrationYear\n",
    "features_train = features_train.drop('RegistrationYear', axis=1)\n",
    "features_valid = features_valid.drop('RegistrationYear', axis=1)\n",
    "features_test = features_test.drop('RegistrationYear', axis=1)"
   ]
  },
  {
   "cell_type": "markdown",
   "metadata": {},
   "source": [
    "Синхронизация таргета"
   ]
  },
  {
   "cell_type": "code",
   "execution_count": 28,
   "metadata": {},
   "outputs": [],
   "source": [
    "target_train = features_train.join(target_train)['Price']"
   ]
  },
  {
   "cell_type": "code",
   "execution_count": 29,
   "metadata": {},
   "outputs": [
    {
     "data": {
      "text/plain": [
       "True"
      ]
     },
     "execution_count": 29,
     "metadata": {},
     "output_type": "execute_result"
    }
   ],
   "source": [
    "# проверка\n",
    "len(features_train) == len(target_train)"
   ]
  },
  {
   "cell_type": "markdown",
   "metadata": {},
   "source": [
    "---"
   ]
  },
  {
   "cell_type": "markdown",
   "metadata": {},
   "source": [
    "**Построим диаграмму размаха по стоимости авто, то есть таргету задачи.**"
   ]
  },
  {
   "cell_type": "code",
   "execution_count": 30,
   "metadata": {
    "scrolled": true
   },
   "outputs": [
    {
     "data": {
      "image/png": "[encoded data removed]",
      "text/plain": [
       "<Figure size 1080x216 with 1 Axes>"
      ]
     },
     "metadata": {
      "needs_background": "light"
     },
     "output_type": "display_data"
    }
   ],
   "source": [
    "plt.title('Диаграмма размаха стоимости авто')\n",
    "sns.boxplot(x=\"Price\", data=df)\n",
    "plt.xlabel('Евро')\n",
    "plt.grid()"
   ]
  },
  {
   "cell_type": "markdown",
   "metadata": {},
   "source": [
    "**Детальней взглянем на график в диапазоне около `0` евро.**"
   ]
  },
  {
   "cell_type": "code",
   "execution_count": 31,
   "metadata": {
    "scrolled": true
   },
   "outputs": [
    {
     "data": {
      "image/png": "[encoded data removed]",
      "text/plain": [
       "<Figure size 1080x216 with 1 Axes>"
      ]
     },
     "metadata": {
      "needs_background": "light"
     },
     "output_type": "display_data"
    }
   ],
   "source": [
    "plt.title('Диаграмма размаха стоимости авто')\n",
    "sns.boxplot(x=\"Price\", data=df)\n",
    "plt.xlim(-50, 3000)\n",
    "plt.xticks(np.arange(0, 3000, 100))\n",
    "plt.xlabel('Евро')\n",
    "plt.grid()"
   ]
  },
  {
   "cell_type": "markdown",
   "metadata": {},
   "source": [
    "**Посмотрим на значения - границы `95%` доверительного интервала.**"
   ]
  },
  {
   "cell_type": "code",
   "execution_count": 32,
   "metadata": {
    "scrolled": true
   },
   "outputs": [
    {
     "data": {
      "text/plain": [
       "0.0"
      ]
     },
     "execution_count": 32,
     "metadata": {},
     "output_type": "execute_result"
    }
   ],
   "source": [
    "df['Price'].quantile(0.025)"
   ]
  },
  {
   "cell_type": "code",
   "execution_count": 33,
   "metadata": {},
   "outputs": [
    {
     "data": {
      "text/plain": [
       "16900.0"
      ]
     },
     "execution_count": 33,
     "metadata": {},
     "output_type": "execute_result"
    }
   ],
   "source": [
    "df['Price'].quantile(0.975)"
   ]
  },
  {
   "cell_type": "markdown",
   "metadata": {},
   "source": [
    "**Посмотрим на кол-во строк со стоимостью авто `= 0`, `< 100`, а также `> 16900` евро на общем датафрейме и в наборе `train`.**"
   ]
  },
  {
   "cell_type": "code",
   "execution_count": 34,
   "metadata": {
    "scrolled": false
   },
   "outputs": [
    {
     "data": {
      "text/plain": [
       "10772"
      ]
     },
     "execution_count": 34,
     "metadata": {},
     "output_type": "execute_result"
    }
   ],
   "source": [
    "# общий датафрейм\n",
    "df[df['Price'] == 0]['Price'].count()"
   ]
  },
  {
   "cell_type": "code",
   "execution_count": 35,
   "metadata": {},
   "outputs": [
    {
     "data": {
      "text/plain": [
       "13314"
      ]
     },
     "execution_count": 35,
     "metadata": {},
     "output_type": "execute_result"
    }
   ],
   "source": [
    "df[df['Price'] < 100]['Price'].count()"
   ]
  },
  {
   "cell_type": "code",
   "execution_count": 36,
   "metadata": {},
   "outputs": [
    {
     "data": {
      "text/plain": [
       "8606"
      ]
     },
     "execution_count": 36,
     "metadata": {},
     "output_type": "execute_result"
    }
   ],
   "source": [
    "df[df['Price'] > 16900.0]['Price'].count()"
   ]
  },
  {
   "cell_type": "code",
   "execution_count": 37,
   "metadata": {},
   "outputs": [],
   "source": [
    "# трейн"
   ]
  },
  {
   "cell_type": "code",
   "execution_count": 38,
   "metadata": {},
   "outputs": [
    {
     "data": {
      "text/plain": [
       "5624"
      ]
     },
     "execution_count": 38,
     "metadata": {},
     "output_type": "execute_result"
    }
   ],
   "source": [
    "target_train[target_train == 0].count()"
   ]
  },
  {
   "cell_type": "code",
   "execution_count": 39,
   "metadata": {},
   "outputs": [
    {
     "data": {
      "text/plain": [
       "7002"
      ]
     },
     "execution_count": 39,
     "metadata": {},
     "output_type": "execute_result"
    }
   ],
   "source": [
    "target_train[target_train < 100].count()"
   ]
  },
  {
   "cell_type": "code",
   "execution_count": 40,
   "metadata": {},
   "outputs": [
    {
     "data": {
      "text/plain": [
       "5032"
      ]
     },
     "execution_count": 40,
     "metadata": {},
     "output_type": "execute_result"
    }
   ],
   "source": [
    "target_train[target_train > 16900].count()"
   ]
  },
  {
   "cell_type": "markdown",
   "metadata": {},
   "source": [
    "**Около `11 тыс.` объявлениий со стоимостью `0` евро в общем датафрейме, такие данные могут снизить качество моделей при предсказании.**\n",
    "\n",
    "**Принято решение удалить строки со стоимостью `< 100` евро на трейне.**"
   ]
  },
  {
   "cell_type": "code",
   "execution_count": 41,
   "metadata": {},
   "outputs": [],
   "source": [
    "target_train = target_train[target_train >= 100]"
   ]
  },
  {
   "cell_type": "markdown",
   "metadata": {},
   "source": [
    "**Синхронизайция обучающих признаков**"
   ]
  },
  {
   "cell_type": "code",
   "execution_count": 42,
   "metadata": {},
   "outputs": [],
   "source": [
    "features_train = features_train.join(target_train, how='right').drop('Price', axis=1)"
   ]
  },
  {
   "cell_type": "code",
   "execution_count": 43,
   "metadata": {
    "scrolled": true
   },
   "outputs": [
    {
     "data": {
      "text/plain": [
       "True"
      ]
     },
     "execution_count": 43,
     "metadata": {},
     "output_type": "execute_result"
    }
   ],
   "source": [
    "# проверка\n",
    "len(features_train) == len(target_train)"
   ]
  },
  {
   "cell_type": "markdown",
   "metadata": {},
   "source": [
    "---"
   ]
  },
  {
   "cell_type": "markdown",
   "metadata": {},
   "source": [
    "**Преобразуем категориальные признаки выборок в числовые с помощью метода `OneHotEncoder`.**"
   ]
  },
  {
   "cell_type": "code",
   "execution_count": 44,
   "metadata": {},
   "outputs": [],
   "source": [
    "# выделение категориальных признаков\n",
    "columns_cat = ['VehicleType', 'Gearbox', 'Model', 'FuelType', 'Brand', 'NotRepaired', 'YearCategory']"
   ]
  },
  {
   "cell_type": "code",
   "execution_count": 45,
   "metadata": {},
   "outputs": [
    {
     "data": {
      "text/plain": [
       "OneHotEncoder(handle_unknown='ignore', sparse=False)"
      ]
     },
     "execution_count": 45,
     "metadata": {},
     "output_type": "execute_result"
    }
   ],
   "source": [
    "# создание объекта OHE, обучение на категориальных признаках трейна.\n",
    "ohe = OneHotEncoder(sparse=False, handle_unknown='ignore')\n",
    "ohe.fit(features_train[columns_cat])"
   ]
  },
  {
   "cell_type": "code",
   "execution_count": 46,
   "metadata": {},
   "outputs": [],
   "source": [
    "# создание списка признаков, полученных в результате кодирования\n",
    "columns_ohe = []\n",
    "for column_ohe in ohe.categories_:\n",
    "    for value_ohe in column_ohe:\n",
    "        columns_ohe.append(value_ohe)"
   ]
  },
  {
   "cell_type": "markdown",
   "metadata": {},
   "source": [
    "**Для преобразования категориальных признаков воспользуемся функцией:**"
   ]
  },
  {
   "cell_type": "code",
   "execution_count": 47,
   "metadata": {},
   "outputs": [],
   "source": [
    "def ohe_transform(df):\n",
    "    # создание массива данных\n",
    "    array_values = ohe.transform(df[columns_cat])\n",
    "    # преобразование в dataframe\n",
    "    df_ohe = pd.DataFrame(data=array_values, columns=columns_ohe)\n",
    "    # присваивание соответствующих индексов\n",
    "    df_ohe.index = df.index\n",
    "    # слияние датафреймов\n",
    "    df = df.join(df_ohe)\n",
    "    # удаление начальных категориальных признаков\n",
    "    df = df.drop(columns_cat, axis=1)\n",
    "    df.info()\n",
    "    return df"
   ]
  },
  {
   "cell_type": "code",
   "execution_count": 48,
   "metadata": {},
   "outputs": [
    {
     "name": "stdout",
     "output_type": "stream",
     "text": [
      "<class 'pandas.core.frame.DataFrame'>\n",
      "Int64Index: 191236 entries, 9626 to 59374\n",
      "Columns: 321 entries, Power to 21_I\n",
      "dtypes: float64(319), int64(2)\n",
      "memory usage: 473.8 MB\n"
     ]
    }
   ],
   "source": [
    "features_train = ohe_transform(features_train)"
   ]
  },
  {
   "cell_type": "code",
   "execution_count": 49,
   "metadata": {},
   "outputs": [
    {
     "name": "stdout",
     "output_type": "stream",
     "text": [
      "<class 'pandas.core.frame.DataFrame'>\n",
      "Int64Index: 70873 entries, 93496 to 20784\n",
      "Columns: 321 entries, Power to 21_I\n",
      "dtypes: float64(319), int64(2)\n",
      "memory usage: 176.1 MB\n"
     ]
    }
   ],
   "source": [
    "features_valid = ohe_transform(features_valid)"
   ]
  },
  {
   "cell_type": "code",
   "execution_count": 50,
   "metadata": {
    "scrolled": true
   },
   "outputs": [
    {
     "name": "stdout",
     "output_type": "stream",
     "text": [
      "<class 'pandas.core.frame.DataFrame'>\n",
      "Int64Index: 70873 entries, 260401 to 117495\n",
      "Columns: 321 entries, Power to 21_I\n",
      "dtypes: float64(319), int64(2)\n",
      "memory usage: 176.1 MB\n"
     ]
    }
   ],
   "source": [
    "features_test = ohe_transform(features_test)"
   ]
  },
  {
   "cell_type": "markdown",
   "metadata": {},
   "source": [
    "**Вывод**\n",
    "\n",
    "**Данные предобработаны, исследованы, подготовлены к обучению моделей.** \n",
    "\n",
    "**Для набров фичей удалены признаки `DateCrawled`, `DateCreated`, `NumberOfPictures`, `PostalCode`, `LastSeen`, `RegistrationMonth` т.к. не несут в себе значимой для обучения информации, признак `RegistrationYear` переведен в категориальный с разбивкой по кварталам.**\n",
    "\n",
    "**Категориальные признаки `'VehicleType'`, `'Gearbox'`, `'Model'`, `'FuelType'`, `'Brand'`, `'NotRepaired'`, `'YearCategory'` преобразованы в числовые средствами `OneHotEncoder`.**"
   ]
  },
  {
   "cell_type": "markdown",
   "metadata": {},
   "source": [
    "## Обучение моделей"
   ]
  },
  {
   "cell_type": "markdown",
   "metadata": {},
   "source": [
    "**Перед обучением моделей посчитаем показатель метрики `RMSE` константной модели линейной регрессии на валидационной выборке. Константной принята модель, которая предсказывает среднее значение во всех случаях.**"
   ]
  },
  {
   "cell_type": "code",
   "execution_count": 51,
   "metadata": {},
   "outputs": [],
   "source": [
    "const_predict = pd.Series(target_valid.mean(), index=target_valid.index)\n",
    "const_rmse = mean_squared_error(target_valid, const_predict) ** 0.5"
   ]
  },
  {
   "cell_type": "code",
   "execution_count": 52,
   "metadata": {
    "scrolled": true
   },
   "outputs": [
    {
     "name": "stdout",
     "output_type": "stream",
     "text": [
      "RMSE константной модели линейной регрессии на валидационной выборке: 4524.680621800304\n"
     ]
    }
   ],
   "source": [
    "print(\"RMSE константной модели линейной регрессии на валидационной выборке:\", const_rmse)"
   ]
  },
  {
   "cell_type": "markdown",
   "metadata": {},
   "source": [
    "### LinearRegression"
   ]
  },
  {
   "cell_type": "code",
   "execution_count": 53,
   "metadata": {
    "scrolled": false
   },
   "outputs": [],
   "source": [
    "model_lr = LinearRegression()"
   ]
  },
  {
   "cell_type": "code",
   "execution_count": 54,
   "metadata": {},
   "outputs": [],
   "source": [
    "start_time = time.time()\n",
    "\n",
    "model_lr.fit(features_train, target_train)\n",
    "\n",
    "lr_time_fit = round(time.time() - start_time, 2)"
   ]
  },
  {
   "cell_type": "code",
   "execution_count": 55,
   "metadata": {},
   "outputs": [
    {
     "name": "stdout",
     "output_type": "stream",
     "text": [
      "CPU times: user 106 ms, sys: 63.5 ms, total: 169 ms\n",
      "Wall time: 202 ms\n"
     ]
    }
   ],
   "source": [
    "%%time\n",
    "predicted_valid = model_lr.predict(features_valid)"
   ]
  },
  {
   "cell_type": "code",
   "execution_count": 56,
   "metadata": {
    "scrolled": true
   },
   "outputs": [
    {
     "name": "stdout",
     "output_type": "stream",
     "text": [
      "RMSE модели линейной регрессии на валидационной выборке: 3023.4929137101167\n"
     ]
    }
   ],
   "source": [
    "rmse = mean_squared_error(target_valid, predicted_valid) ** 0.5\n",
    "print(\"RMSE модели линейной регрессии на валидационной выборке:\", rmse)"
   ]
  },
  {
   "cell_type": "markdown",
   "metadata": {},
   "source": [
    "### Decision Tree"
   ]
  },
  {
   "cell_type": "markdown",
   "metadata": {},
   "source": [
    "**Для модели `Decision Tree` переберем гиперпараметр `max-depth` с целью определения лучшего.**"
   ]
  },
  {
   "cell_type": "code",
   "execution_count": 57,
   "metadata": {
    "scrolled": true
   },
   "outputs": [],
   "source": [
    "best_model_tree = None\n",
    "best_rmse_tree = const_rmse\n",
    "\n",
    "for depth_tree in range(1, 30):\n",
    "    model_tree = DecisionTreeRegressor(random_state=777, max_depth=depth_tree)\n",
    "    model_tree.fit(features_train, target_train)\n",
    "    predicted_valid = model_tree.predict(features_valid)\n",
    "    rmse = mean_squared_error(target_valid, predicted_valid) ** 0.5\n",
    "    print(f'RMSE: {rmse}, глубина: {depth_tree}')\n",
    "    if rmse < best_rmse_tree:\n",
    "        best_model_tree = model_tree\n",
    "        best_rmse_tree = rmse\n",
    "        best_depth_tree = depth_tree\n",
    "        \n",
    "print(f'Лучшая модель решающего дерева, RMSE: {best_rmse_tree}, глубина: {best_depth_tree}')"
   ]
  },
  {
   "cell_type": "markdown",
   "metadata": {},
   "source": [
    "Результат предыдущей ячейки:\n",
    "\n",
    "Лучшая модель решающего дерева, RMSE: 2387.9916844696068, глубина: 19"
   ]
  },
  {
   "cell_type": "markdown",
   "metadata": {},
   "source": [
    "---"
   ]
  },
  {
   "cell_type": "markdown",
   "metadata": {},
   "source": [
    "**Теперь обучим модель с лучшими параметрами, выполним предсказание на валидационных данных.**"
   ]
  },
  {
   "cell_type": "code",
   "execution_count": 58,
   "metadata": {},
   "outputs": [],
   "source": [
    "best_model_tree = DecisionTreeRegressor(random_state=777, max_depth=19)"
   ]
  },
  {
   "cell_type": "code",
   "execution_count": 59,
   "metadata": {},
   "outputs": [],
   "source": [
    "start_time = time.time()\n",
    "\n",
    "best_model_tree.fit(features_train, target_train)\n",
    "\n",
    "tree_time_fit = round(time.time() - start_time, 2)"
   ]
  },
  {
   "cell_type": "code",
   "execution_count": 60,
   "metadata": {},
   "outputs": [
    {
     "name": "stdout",
     "output_type": "stream",
     "text": [
      "CPU times: user 104 ms, sys: 82.6 ms, total: 187 ms\n",
      "Wall time: 191 ms\n"
     ]
    }
   ],
   "source": [
    "%%time\n",
    "predicted_valid_tree = best_model_tree.predict(features_valid)"
   ]
  },
  {
   "cell_type": "code",
   "execution_count": 61,
   "metadata": {
    "scrolled": false
   },
   "outputs": [
    {
     "name": "stdout",
     "output_type": "stream",
     "text": [
      "Лучшая модель решающего дерева, RMSE: 2399.866706012182, глубина: 19\n"
     ]
    }
   ],
   "source": [
    "best_rmse_tree = mean_squared_error(target_valid, predicted_valid_tree) ** 0.5\n",
    "print(f'Лучшая модель решающего дерева, RMSE: {best_rmse_tree}, глубина: 19')"
   ]
  },
  {
   "cell_type": "markdown",
   "metadata": {},
   "source": [
    "---"
   ]
  },
  {
   "cell_type": "markdown",
   "metadata": {},
   "source": [
    "### Random forest"
   ]
  },
  {
   "cell_type": "markdown",
   "metadata": {},
   "source": [
    "**С целью улучшения качества для модели случайного леса попробуем перебрать гиперпараметры кол-ва деревьев и глубины. Отталкиваться будем от значения `RMSE` константной модели.**"
   ]
  },
  {
   "cell_type": "code",
   "execution_count": 62,
   "metadata": {
    "scrolled": true
   },
   "outputs": [],
   "source": [
    "# запускать нежно ^_^\n",
    "\n",
    "best_model_forest = None\n",
    "best_rmse_forest = const_rmse\n",
    "\n",
    "for depth in range(1, 30, 1):\n",
    "    for est in range(1, 101, 10):\n",
    "        model_forest = RandomForestRegressor(random_state=777, n_estimators=est, max_depth=depth)\n",
    "        model_forest.fit(features_train, target_train)\n",
    "        predicted_valid = model_forest.predict(features_valid)\n",
    "        rmse_forest = mean_squared_error(target_valid, predicted_valid) ** 0.5\n",
    "        print(f'RMSE: {rmse_forest} кол-во деревьев: {est}, глубина: {depth}')\n",
    "        if rmse_forest < best_rmse_forest:\n",
    "            best_rmse_forest = rmse_forest\n",
    "            best_est = est\n",
    "            best_depth = depth\n",
    "            best_model_forest = model_forest\n",
    "\n",
    "print(f'Лучшая модель случайного леса: RMSE: {best_rmse_forest} \\\n",
    "                                    кол-во деревьев: {best_est}, глубина: {best_depth}') "
   ]
  },
  {
   "cell_type": "markdown",
   "metadata": {},
   "source": [
    "Результат предыдущей ячейки:\n",
    "\n",
    "Лучшая модель случайного леса: RMSE: 2117.0100341060606 кол-во деревьев: 100, глубина: 30"
   ]
  },
  {
   "cell_type": "markdown",
   "metadata": {},
   "source": [
    "---"
   ]
  },
  {
   "cell_type": "markdown",
   "metadata": {},
   "source": [
    "**В результате перебора параметров случайного леса были зафиксированы лучшие со значениями кол-во деревьев: `185`, глубина: `35`. Обучим модель случайного леса с данными параметрами.**"
   ]
  },
  {
   "cell_type": "code",
   "execution_count": 63,
   "metadata": {},
   "outputs": [],
   "source": [
    "best_model_forest = RandomForestRegressor(random_state=777, n_estimators=100, max_depth=30)"
   ]
  },
  {
   "cell_type": "code",
   "execution_count": 64,
   "metadata": {},
   "outputs": [],
   "source": [
    "start_time = time.time()\n",
    "\n",
    "best_model_forest.fit(features_train, target_train)\n",
    "\n",
    "forest_time_fit = round(time.time() - start_time, 2)"
   ]
  },
  {
   "cell_type": "code",
   "execution_count": 65,
   "metadata": {},
   "outputs": [
    {
     "name": "stdout",
     "output_type": "stream",
     "text": [
      "CPU times: user 3.11 s, sys: 99.8 ms, total: 3.21 s\n",
      "Wall time: 3.21 s\n"
     ]
    }
   ],
   "source": [
    "%%time\n",
    "predicted_valid_forest = best_model_forest.predict(features_valid)"
   ]
  },
  {
   "cell_type": "code",
   "execution_count": 66,
   "metadata": {
    "scrolled": true
   },
   "outputs": [
    {
     "name": "stdout",
     "output_type": "stream",
     "text": [
      "Лучшая модель случайного леса, RMSE: 2127.622681079709, глубина: 35, кол-во деревьев: 185.\n"
     ]
    }
   ],
   "source": [
    "best_rmse_forest = mean_squared_error(target_valid, predicted_valid_forest) ** 0.5\n",
    "print(f'Лучшая модель случайного леса, RMSE: {best_rmse_forest}, глубина: 35, кол-во деревьев: 185.')"
   ]
  },
  {
   "cell_type": "markdown",
   "metadata": {},
   "source": [
    "---"
   ]
  },
  {
   "cell_type": "markdown",
   "metadata": {},
   "source": [
    "**Выделим наиболее важные признаки из модели `Random Forest`, для этого восспользуемся методом `feature_importances_`.**"
   ]
  },
  {
   "cell_type": "code",
   "execution_count": 67,
   "metadata": {},
   "outputs": [
    {
     "data": {
      "text/plain": [
       "Text(0, 0.5, 'Mean decrease in impurity')"
      ]
     },
     "execution_count": 67,
     "metadata": {},
     "output_type": "execute_result"
    },
    {
     "data": {
      "image/png": "[encoded data removed]",
      "text/plain": [
       "<Figure size 1080x648 with 1 Axes>"
      ]
     },
     "metadata": {
      "needs_background": "light"
     },
     "output_type": "display_data"
    }
   ],
   "source": [
    "importances = best_model_forest.feature_importances_\n",
    "feature_names = list(features_train.columns)\n",
    "\n",
    "forest_importances = pd.Series(importances, index=feature_names)\n",
    "\n",
    "# настройка размера для всех графиков.\n",
    "matplotlib.rcParams[\"figure.figsize\"] = (15, 9)\n",
    "\n",
    "plt.title(\"10 ключевых признаков модели Random Forest\")\n",
    "forest_importances.sort_values(ascending=False)[:10].plot.bar(grid=True)\n",
    "plt.xticks(rotation=45)\n",
    "plt.minorticks_on()\n",
    "plt.xlabel('Признаки')\n",
    "plt.ylabel('Mean decrease in impurity')\n",
    "# plt.tight_layout()"
   ]
  },
  {
   "cell_type": "markdown",
   "metadata": {},
   "source": [
    "### Catboost"
   ]
  },
  {
   "cell_type": "markdown",
   "metadata": {},
   "source": [
    "**Для модели `catboost` будем использовать заготовленные датасеты, сохраненные после разбиения на `train\\valid\\test`, в них заполнены пропуски, но все данные на трейне сохранены в исходном виде. Для данной модели необходимо выделить и указать категориальные признаки, а также передать валидационный набор в параметре `eval_set`.**"
   ]
  },
  {
   "cell_type": "code",
   "execution_count": 68,
   "metadata": {},
   "outputs": [],
   "source": [
    "cat_features = ['VehicleType', 'Gearbox', 'Model', 'FuelType', 'Brand', 'NotRepaired', 'YearCategory']"
   ]
  },
  {
   "cell_type": "code",
   "execution_count": 69,
   "metadata": {},
   "outputs": [],
   "source": [
    "model_catboost = CatBoostRegressor(loss_function='RMSE', \n",
    "                                   iterations=1000,\n",
    "                                   learning_rate = 0.5,\n",
    "                                   random_state=777)"
   ]
  },
  {
   "cell_type": "code",
   "execution_count": 70,
   "metadata": {
    "scrolled": false
   },
   "outputs": [
    {
     "name": "stdout",
     "output_type": "stream",
     "text": [
      "0:\tlearn: 3265.9813153\ttest: 3263.0392462\tbest: 3263.0392462 (0)\ttotal: 534ms\tremaining: 8m 53s\n",
      "100:\tlearn: 1771.1479805\ttest: 1819.5744865\tbest: 1819.5120753 (99)\ttotal: 32.9s\tremaining: 4m 53s\n",
      "200:\tlearn: 1707.1321858\ttest: 1793.3009185\tbest: 1792.7501520 (196)\ttotal: 1m 5s\tremaining: 4m 22s\n",
      "300:\tlearn: 1665.3097737\ttest: 1781.4687968\tbest: 1781.4687968 (300)\ttotal: 1m 38s\tremaining: 3m 49s\n",
      "400:\tlearn: 1636.2458710\ttest: 1772.7140655\tbest: 1772.5106814 (389)\ttotal: 2m 13s\tremaining: 3m 18s\n",
      "500:\tlearn: 1612.8520612\ttest: 1767.1526766\tbest: 1767.1518889 (498)\ttotal: 2m 47s\tremaining: 2m 46s\n",
      "600:\tlearn: 1590.7399885\ttest: 1763.0551464\tbest: 1762.1442956 (572)\ttotal: 3m 20s\tremaining: 2m 13s\n",
      "700:\tlearn: 1572.3071915\ttest: 1758.8580215\tbest: 1758.8580215 (700)\ttotal: 3m 52s\tremaining: 1m 39s\n",
      "800:\tlearn: 1556.5737915\ttest: 1758.9817121\tbest: 1758.2015372 (754)\ttotal: 4m 25s\tremaining: 1m 5s\n",
      "900:\tlearn: 1542.4070705\ttest: 1757.0668274\tbest: 1757.0101991 (899)\ttotal: 5m\tremaining: 33s\n",
      "999:\tlearn: 1529.8344579\ttest: 1754.8867206\tbest: 1754.6657301 (988)\ttotal: 5m 35s\tremaining: 0us\n",
      "\n",
      "bestTest = 1754.66573\n",
      "bestIteration = 988\n",
      "\n",
      "Shrink model to first 989 iterations.\n"
     ]
    }
   ],
   "source": [
    "start_time = time.time()\n",
    "\n",
    "model_catboost.fit(features_train_cat, target_train_cat, \n",
    "                   cat_features=cat_features,\n",
    "                   verbose=100,\n",
    "                   eval_set=(features_valid_cat, target_valid))\n",
    "\n",
    "catboost_time_fit = round(time.time() - start_time, 2)"
   ]
  },
  {
   "cell_type": "markdown",
   "metadata": {},
   "source": [
    "**В ходе подбора параметров установлен `learning_rate = 0.5` - скорость обучения, кол-во итераций по умолчанию `1000`, лучшая итерация - `988`. Результат `RMSE` на валидационной выборке: `1754.66573`.**"
   ]
  },
  {
   "cell_type": "markdown",
   "metadata": {},
   "source": [
    "### lightGBM"
   ]
  },
  {
   "cell_type": "markdown",
   "metadata": {},
   "source": [
    "**Для обучения `LGBM` модели категориальные признаки необходимо привести к типу `category`.**"
   ]
  },
  {
   "cell_type": "code",
   "execution_count": 71,
   "metadata": {
    "scrolled": true
   },
   "outputs": [],
   "source": [
    "features_train_lgbm = features_train_lgbm[cat_features].astype('category')\n",
    "features_valid_lgbm = features_valid_lgbm[cat_features].astype('category')\n",
    "features_test_lgbm = features_test_lgbm[cat_features].astype('category')"
   ]
  },
  {
   "cell_type": "code",
   "execution_count": 72,
   "metadata": {},
   "outputs": [],
   "source": [
    "model_lgbm = LGBMRegressor(n_estimators=100,\n",
    "                           learning_rate = 0.5,\n",
    "                           random_state = 777)"
   ]
  },
  {
   "cell_type": "code",
   "execution_count": 73,
   "metadata": {
    "scrolled": true
   },
   "outputs": [
    {
     "name": "stderr",
     "output_type": "stream",
     "text": [
      "/opt/conda/lib/python3.9/site-packages/lightgbm/sklearn.py:736: UserWarning: 'verbose' argument is deprecated and will be removed in a future release of LightGBM. Pass 'log_evaluation()' callback via 'callbacks' argument instead.\n",
      "  _log_warning(\"'verbose' argument is deprecated and will be removed in a future release of LightGBM. \"\n",
      "/opt/conda/lib/python3.9/site-packages/lightgbm/basic.py:1780: UserWarning: Overriding the parameters from Reference Dataset.\n",
      "  _log_warning('Overriding the parameters from Reference Dataset.')\n",
      "/opt/conda/lib/python3.9/site-packages/lightgbm/basic.py:1513: UserWarning: categorical_column in param dict is overridden.\n",
      "  _log_warning(f'{cat_alias} in param dict is overridden.')\n"
     ]
    },
    {
     "name": "stdout",
     "output_type": "stream",
     "text": [
      "[10]\tvalid_0's rmse: 3120.49\tvalid_0's l2: 9.73744e+06\n",
      "[20]\tvalid_0's rmse: 3103.09\tvalid_0's l2: 9.62919e+06\n",
      "[30]\tvalid_0's rmse: 3093.5\tvalid_0's l2: 9.56976e+06\n",
      "[40]\tvalid_0's rmse: 3087.14\tvalid_0's l2: 9.53042e+06\n",
      "[50]\tvalid_0's rmse: 3086.32\tvalid_0's l2: 9.52539e+06\n",
      "[60]\tvalid_0's rmse: 3083.86\tvalid_0's l2: 9.51017e+06\n",
      "[70]\tvalid_0's rmse: 3081.85\tvalid_0's l2: 9.49778e+06\n",
      "[80]\tvalid_0's rmse: 3081.02\tvalid_0's l2: 9.49266e+06\n",
      "[90]\tvalid_0's rmse: 3080.26\tvalid_0's l2: 9.48803e+06\n",
      "[100]\tvalid_0's rmse: 3078.72\tvalid_0's l2: 9.47851e+06\n"
     ]
    }
   ],
   "source": [
    "start_time = time.time()\n",
    "\n",
    "model_lgbm.fit(features_train_lgbm, \n",
    "              target_train_cat,\n",
    "              verbose = 10,\n",
    "              eval_set=[(features_valid_lgbm, target_valid)],\n",
    "              eval_metric='RMSE')\n",
    "\n",
    "lgbm_time_fit = round(time.time() - start_time, 2)"
   ]
  },
  {
   "cell_type": "markdown",
   "metadata": {},
   "source": [
    "**Лучший результат `RMSE` на валидационной выборке: `3078.72`.**"
   ]
  },
  {
   "cell_type": "markdown",
   "metadata": {},
   "source": [
    "## Анализ моделей"
   ]
  },
  {
   "cell_type": "markdown",
   "metadata": {},
   "source": [
    "**Для анализа моделей воспользуемся функцией, в которую будем передавать `модель`, `тестовые данные`, `время обучения`, посчитаное ранее, а также, в теле функции будем фиксировать время исполнения предикта на тестовых данных.**"
   ]
  },
  {
   "cell_type": "code",
   "execution_count": 74,
   "metadata": {},
   "outputs": [],
   "source": [
    "result = []\n",
    "def test_model(model, features, target, time_fit):\n",
    "    global result\n",
    "    start_time = time.time()\n",
    "    predicted = model.predict(features)\n",
    "    time_pred = round(time.time() - start_time, 2)\n",
    "    rmse = mean_squared_error(target, predicted) ** 0.5\n",
    "    result.append([model.__class__.__name__, time_fit, time_pred, round(rmse, 2)])\n",
    "    print(f'{model.__class__.__name__} RMSE на тестовых данных: {rmse}')"
   ]
  },
  {
   "cell_type": "code",
   "execution_count": 75,
   "metadata": {
    "scrolled": true
   },
   "outputs": [
    {
     "name": "stdout",
     "output_type": "stream",
     "text": [
      "LinearRegression RMSE на тестовых данных: 3020.4967872408793\n"
     ]
    }
   ],
   "source": [
    "# линейная регрессия\n",
    "test_model(model_lr, features_test, target_test, lr_time_fit)"
   ]
  },
  {
   "cell_type": "code",
   "execution_count": 76,
   "metadata": {
    "scrolled": false
   },
   "outputs": [
    {
     "name": "stdout",
     "output_type": "stream",
     "text": [
      "DecisionTreeRegressor RMSE на тестовых данных: 2436.62265034674\n"
     ]
    }
   ],
   "source": [
    "# решающее дерево\n",
    "test_model(best_model_tree, features_test, target_test, tree_time_fit)"
   ]
  },
  {
   "cell_type": "code",
   "execution_count": 77,
   "metadata": {},
   "outputs": [
    {
     "name": "stdout",
     "output_type": "stream",
     "text": [
      "RandomForestRegressor RMSE на тестовых данных: 2141.0438530658503\n"
     ]
    }
   ],
   "source": [
    "# случайный лес\n",
    "test_model(best_model_forest, features_test, target_test, forest_time_fit)"
   ]
  },
  {
   "cell_type": "code",
   "execution_count": 78,
   "metadata": {
    "scrolled": true
   },
   "outputs": [
    {
     "name": "stdout",
     "output_type": "stream",
     "text": [
      "CatBoostRegressor RMSE на тестовых данных: 1749.3383831525284\n"
     ]
    }
   ],
   "source": [
    "# Catboost\n",
    "test_model(model_catboost, features_test_cat, target_test, catboost_time_fit)"
   ]
  },
  {
   "cell_type": "code",
   "execution_count": 79,
   "metadata": {
    "scrolled": true
   },
   "outputs": [
    {
     "name": "stdout",
     "output_type": "stream",
     "text": [
      "LGBMRegressor RMSE на тестовых данных: 3061.7123733876397\n"
     ]
    }
   ],
   "source": [
    "# LightGBM\n",
    "test_model(model_lgbm, features_test_lgbm, target_test, lgbm_time_fit)"
   ]
  },
  {
   "cell_type": "code",
   "execution_count": 80,
   "metadata": {},
   "outputs": [],
   "source": [
    "# оформление результатов в таблицу\n",
    "result = pd.DataFrame(result, columns=['name', 'time_fit', 'time_pred', \n",
    "                                       'rmse_score']).sort_values(['time_pred', 'time_fit', 'rmse_score'])"
   ]
  },
  {
   "cell_type": "markdown",
   "metadata": {},
   "source": [
    "## Вывод"
   ]
  },
  {
   "cell_type": "markdown",
   "metadata": {},
   "source": [
    "**В ходе исследования были рассмотрены\\изучены\\протестированы модели:**\n",
    "\n",
    "* **LinearRegression.**\n",
    "* **Decision Tree.**\n",
    "* **Random Forest.**\n",
    "* **Catboost.**\n",
    "* **LightGBM.**\n",
    "\n",
    "**Часть признаков удалены, т.к. не несут в себе какой-либо важной информации для обучения: \n",
    "`DateCrawled`, `DateCreated`, `NumberOfPictures`, `PostalCode`, `LastSeen`, `RegistrationMonth`.**\n",
    "\n",
    "**Признак `RegistrationYear` был переведен в категориальный и также удален.**\n",
    "\n",
    "**Данные в трэйне для моделей Линейная регрессия, Решающее дерево, Случайный лес были предобработаны - удалены строки с некорректной стоимостью, годом регистрации авто. Данные для Catboost, LGBM остались нетронутыми, за исключением типов категориальных признаков для LGBM.**\n",
    "\n",
    "**Рассмотрены ключевые признаки при обучении модели Random Forest, из них можно выделить наиболее важные:**\n",
    "* `Мощность автомобиля`,\n",
    "* `Пробег автомобиле`,\n",
    "* `Признак года выпуска авто (IV квартал 21 века)`.\n",
    "\n",
    "**Расчитанные характеристики моделей `тайминг обучения\\тайминг предсказания на тесте\\RMSE-метрика`** :"
   ]
  },
  {
   "cell_type": "code",
   "execution_count": 81,
   "metadata": {
    "scrolled": true
   },
   "outputs": [
    {
     "data": {
      "text/html": [
       "<div>\n",
       "<style scoped>\n",
       "    .dataframe tbody tr th:only-of-type {\n",
       "        vertical-align: middle;\n",
       "    }\n",
       "\n",
       "    .dataframe tbody tr th {\n",
       "        vertical-align: top;\n",
       "    }\n",
       "\n",
       "    .dataframe thead th {\n",
       "        text-align: right;\n",
       "    }\n",
       "</style>\n",
       "<table border=\"1\" class=\"dataframe\">\n",
       "  <thead>\n",
       "    <tr style=\"text-align: right;\">\n",
       "      <th></th>\n",
       "      <th>name</th>\n",
       "      <th>time_fit</th>\n",
       "      <th>time_pred</th>\n",
       "      <th>rmse_score</th>\n",
       "    </tr>\n",
       "  </thead>\n",
       "  <tbody>\n",
       "    <tr>\n",
       "      <th>0</th>\n",
       "      <td>LinearRegression</td>\n",
       "      <td>16.64</td>\n",
       "      <td>0.17</td>\n",
       "      <td>3020.50</td>\n",
       "    </tr>\n",
       "    <tr>\n",
       "      <th>1</th>\n",
       "      <td>DecisionTreeRegressor</td>\n",
       "      <td>5.76</td>\n",
       "      <td>0.34</td>\n",
       "      <td>2436.62</td>\n",
       "    </tr>\n",
       "    <tr>\n",
       "      <th>4</th>\n",
       "      <td>LGBMRegressor</td>\n",
       "      <td>105.98</td>\n",
       "      <td>0.45</td>\n",
       "      <td>3061.71</td>\n",
       "    </tr>\n",
       "    <tr>\n",
       "      <th>3</th>\n",
       "      <td>CatBoostRegressor</td>\n",
       "      <td>340.62</td>\n",
       "      <td>1.07</td>\n",
       "      <td>1749.34</td>\n",
       "    </tr>\n",
       "    <tr>\n",
       "      <th>2</th>\n",
       "      <td>RandomForestRegressor</td>\n",
       "      <td>421.42</td>\n",
       "      <td>3.34</td>\n",
       "      <td>2141.04</td>\n",
       "    </tr>\n",
       "  </tbody>\n",
       "</table>\n",
       "</div>"
      ],
      "text/plain": [
       "                    name  time_fit  time_pred  rmse_score\n",
       "0       LinearRegression     16.64       0.17     3020.50\n",
       "1  DecisionTreeRegressor      5.76       0.34     2436.62\n",
       "4          LGBMRegressor    105.98       0.45     3061.71\n",
       "3      CatBoostRegressor    340.62       1.07     1749.34\n",
       "2  RandomForestRegressor    421.42       3.34     2141.04"
      ]
     },
     "execution_count": 81,
     "metadata": {},
     "output_type": "execute_result"
    }
   ],
   "source": [
    "result"
   ]
  },
  {
   "cell_type": "markdown",
   "metadata": {},
   "source": [
    "**Из полученных результатов, по времени обучения самой быстрой оказалась модель `LightGBM`, но качество оставляет желать лучшего. Быстрее всех тестовые данные предсказывает модель `DecisionTree`. По качесву безусловный лидер - модель `Catboost`, но обучение модели занимает значительное время.**\n",
    "\n",
    "**Если расматривать все параметы в совакупности, то стоит обратить внимание на модель `DecisionTree`. Возможно при более детальном анализе\\тюнинге с данной моделью можно получить лучшие результаты.**"
   ]
  }
 ],
 "metadata": {
  "ExecuteTimeLog": [
   {
    "duration": 375,
    "start_time": "2022-04-09T18:50:06.539Z"
   },
   {
    "duration": 781,
    "start_time": "2022-04-09T18:50:34.594Z"
   },
   {
    "duration": 19,
    "start_time": "2022-04-09T18:50:42.793Z"
   },
   {
    "duration": 14,
    "start_time": "2022-04-09T18:50:45.025Z"
   },
   {
    "duration": 125,
    "start_time": "2022-04-09T18:52:16.125Z"
   },
   {
    "duration": 2600,
    "start_time": "2022-04-09T18:57:54.434Z"
   },
   {
    "duration": 54,
    "start_time": "2022-04-09T18:58:01.720Z"
   },
   {
    "duration": 71,
    "start_time": "2022-04-09T18:59:17.670Z"
   },
   {
    "duration": 126,
    "start_time": "2022-04-09T19:01:39.367Z"
   },
   {
    "duration": 8,
    "start_time": "2022-04-09T19:32:06.968Z"
   },
   {
    "duration": 5,
    "start_time": "2022-04-09T19:32:10.965Z"
   },
   {
    "duration": 132,
    "start_time": "2022-04-09T19:32:30.993Z"
   },
   {
    "duration": 34,
    "start_time": "2022-04-09T19:34:02.108Z"
   },
   {
    "duration": 19,
    "start_time": "2022-04-09T19:34:47.574Z"
   },
   {
    "duration": 16,
    "start_time": "2022-04-09T19:34:52.805Z"
   },
   {
    "duration": 17,
    "start_time": "2022-04-09T19:35:21.958Z"
   },
   {
    "duration": 32,
    "start_time": "2022-04-09T19:36:46.480Z"
   },
   {
    "duration": 2,
    "start_time": "2022-04-09T19:38:05.052Z"
   },
   {
    "duration": 133,
    "start_time": "2022-04-09T19:38:25.549Z"
   },
   {
    "duration": 127,
    "start_time": "2022-04-09T19:39:07.166Z"
   },
   {
    "duration": 131,
    "start_time": "2022-04-09T19:39:26.397Z"
   },
   {
    "duration": 121,
    "start_time": "2022-04-09T19:39:55.486Z"
   },
   {
    "duration": 130,
    "start_time": "2022-04-09T19:40:06.861Z"
   },
   {
    "duration": 163,
    "start_time": "2022-04-09T19:41:13.554Z"
   },
   {
    "duration": 213,
    "start_time": "2022-04-09T19:41:18.593Z"
   },
   {
    "duration": 121,
    "start_time": "2022-04-09T19:41:44.283Z"
   },
   {
    "duration": 5,
    "start_time": "2022-04-09T19:41:54.946Z"
   },
   {
    "duration": 125,
    "start_time": "2022-04-09T19:42:07.667Z"
   },
   {
    "duration": 5,
    "start_time": "2022-04-09T19:42:09.562Z"
   },
   {
    "duration": 120,
    "start_time": "2022-04-09T19:42:43.125Z"
   },
   {
    "duration": 5,
    "start_time": "2022-04-09T19:42:47.667Z"
   },
   {
    "duration": 11,
    "start_time": "2022-04-09T19:43:10.150Z"
   },
   {
    "duration": 11,
    "start_time": "2022-04-09T19:43:14.797Z"
   },
   {
    "duration": 121,
    "start_time": "2022-04-09T19:43:34.022Z"
   },
   {
    "duration": 4,
    "start_time": "2022-04-09T19:43:41.350Z"
   },
   {
    "duration": 124,
    "start_time": "2022-04-09T19:43:47.319Z"
   },
   {
    "duration": 6,
    "start_time": "2022-04-09T19:43:49.319Z"
   },
   {
    "duration": 125,
    "start_time": "2022-04-09T19:43:57.662Z"
   },
   {
    "duration": 4,
    "start_time": "2022-04-09T19:43:59.879Z"
   },
   {
    "duration": 25,
    "start_time": "2022-04-09T19:44:11.672Z"
   },
   {
    "duration": 119,
    "start_time": "2022-04-09T19:44:23.352Z"
   },
   {
    "duration": 3,
    "start_time": "2022-04-09T19:44:25.440Z"
   },
   {
    "duration": 21,
    "start_time": "2022-04-09T19:44:27.495Z"
   },
   {
    "duration": 3,
    "start_time": "2022-04-09T19:44:34.423Z"
   },
   {
    "duration": 15,
    "start_time": "2022-04-09T19:44:43.033Z"
   },
   {
    "duration": 178,
    "start_time": "2022-04-09T19:47:39.366Z"
   },
   {
    "duration": 125,
    "start_time": "2022-04-09T19:47:50.902Z"
   },
   {
    "duration": 157,
    "start_time": "2022-04-09T19:47:59.535Z"
   },
   {
    "duration": 123,
    "start_time": "2022-04-09T19:48:02.278Z"
   },
   {
    "duration": 124,
    "start_time": "2022-04-09T19:49:56.387Z"
   },
   {
    "duration": 429,
    "start_time": "2022-04-09T19:55:18.909Z"
   },
   {
    "duration": 380,
    "start_time": "2022-04-09T19:55:54.721Z"
   },
   {
    "duration": 776,
    "start_time": "2022-04-09T19:55:55.103Z"
   },
   {
    "duration": 23,
    "start_time": "2022-04-09T19:55:55.881Z"
   },
   {
    "duration": 143,
    "start_time": "2022-04-09T19:55:55.906Z"
   },
   {
    "duration": 139,
    "start_time": "2022-04-09T19:55:56.050Z"
   },
   {
    "duration": 133,
    "start_time": "2022-04-09T19:55:56.191Z"
   },
   {
    "duration": 6,
    "start_time": "2022-04-09T19:55:56.325Z"
   },
   {
    "duration": 27,
    "start_time": "2022-04-09T19:55:56.332Z"
   },
   {
    "duration": 462,
    "start_time": "2022-04-09T19:56:02.212Z"
   },
   {
    "duration": 179,
    "start_time": "2022-04-09T19:56:08.572Z"
   },
   {
    "duration": 477,
    "start_time": "2022-04-09T19:56:10.598Z"
   },
   {
    "duration": 476,
    "start_time": "2022-04-09T19:56:15.012Z"
   },
   {
    "duration": 560,
    "start_time": "2022-04-09T19:56:22.060Z"
   },
   {
    "duration": 451,
    "start_time": "2022-04-09T19:57:09.224Z"
   },
   {
    "duration": 524,
    "start_time": "2022-04-15T12:18:54.510Z"
   },
   {
    "duration": 1491,
    "start_time": "2022-04-15T12:18:55.037Z"
   },
   {
    "duration": 45,
    "start_time": "2022-04-15T12:18:56.531Z"
   },
   {
    "duration": 321,
    "start_time": "2022-04-15T12:18:56.580Z"
   },
   {
    "duration": 230,
    "start_time": "2022-04-15T12:18:56.904Z"
   },
   {
    "duration": 306,
    "start_time": "2022-04-15T12:18:57.137Z"
   },
   {
    "duration": 6,
    "start_time": "2022-04-15T12:18:57.446Z"
   },
   {
    "duration": 46,
    "start_time": "2022-04-15T12:18:57.455Z"
   },
   {
    "duration": 385,
    "start_time": "2022-04-15T12:18:57.504Z"
   },
   {
    "duration": 991,
    "start_time": "2022-04-15T12:18:57.893Z"
   },
   {
    "duration": 929,
    "start_time": "2022-04-15T12:19:48.063Z"
   },
   {
    "duration": 93,
    "start_time": "2022-04-15T12:20:01.679Z"
   },
   {
    "duration": 6,
    "start_time": "2022-04-15T12:20:04.782Z"
   },
   {
    "duration": 1360,
    "start_time": "2022-04-15T12:20:16.277Z"
   },
   {
    "duration": 6,
    "start_time": "2022-04-15T12:20:21.129Z"
   },
   {
    "duration": 20,
    "start_time": "2022-04-15T12:47:54.652Z"
   },
   {
    "duration": 27,
    "start_time": "2022-04-15T12:53:07.068Z"
   },
   {
    "duration": 38,
    "start_time": "2022-04-15T12:53:09.479Z"
   },
   {
    "duration": 17,
    "start_time": "2022-04-15T12:53:11.400Z"
   },
   {
    "duration": 13,
    "start_time": "2022-04-15T12:55:12.488Z"
   },
   {
    "duration": 15,
    "start_time": "2022-04-15T12:55:15.727Z"
   },
   {
    "duration": 13,
    "start_time": "2022-04-15T12:56:35.888Z"
   },
   {
    "duration": 1009,
    "start_time": "2022-04-15T12:57:15.495Z"
   },
   {
    "duration": 14,
    "start_time": "2022-04-15T12:58:08.415Z"
   },
   {
    "duration": 45,
    "start_time": "2022-04-15T12:58:59.544Z"
   },
   {
    "duration": 42,
    "start_time": "2022-04-15T12:59:20.968Z"
   },
   {
    "duration": 14,
    "start_time": "2022-04-15T12:59:28.791Z"
   },
   {
    "duration": 48,
    "start_time": "2022-04-15T12:59:51.451Z"
   },
   {
    "duration": 11,
    "start_time": "2022-04-15T13:00:30.247Z"
   },
   {
    "duration": 11,
    "start_time": "2022-04-15T13:00:48.423Z"
   },
   {
    "duration": 45,
    "start_time": "2022-04-15T13:00:55.850Z"
   },
   {
    "duration": 41,
    "start_time": "2022-04-15T13:01:41.673Z"
   },
   {
    "duration": 13,
    "start_time": "2022-04-15T13:23:36.990Z"
   },
   {
    "duration": 14,
    "start_time": "2022-04-15T13:23:43.770Z"
   },
   {
    "duration": 65,
    "start_time": "2022-04-15T13:24:19.938Z"
   },
   {
    "duration": 12,
    "start_time": "2022-04-15T13:24:43.402Z"
   },
   {
    "duration": 27,
    "start_time": "2022-04-15T13:26:02.106Z"
   },
   {
    "duration": 11,
    "start_time": "2022-04-15T13:26:06.410Z"
   },
   {
    "duration": 13,
    "start_time": "2022-04-15T13:26:13.004Z"
   },
   {
    "duration": 32,
    "start_time": "2022-04-15T13:27:48.794Z"
   },
   {
    "duration": 16,
    "start_time": "2022-04-15T13:29:20.461Z"
   },
   {
    "duration": 13,
    "start_time": "2022-04-15T13:30:00.749Z"
   },
   {
    "duration": 27,
    "start_time": "2022-04-15T13:30:13.132Z"
   },
   {
    "duration": 17,
    "start_time": "2022-04-15T13:31:06.644Z"
   },
   {
    "duration": 16,
    "start_time": "2022-04-15T13:31:40.045Z"
   },
   {
    "duration": 27,
    "start_time": "2022-04-15T13:32:24.267Z"
   },
   {
    "duration": 1223,
    "start_time": "2022-04-18T08:03:17.482Z"
   },
   {
    "duration": 22,
    "start_time": "2022-04-18T08:04:05.488Z"
   },
   {
    "duration": 30,
    "start_time": "2022-04-18T08:05:42.266Z"
   },
   {
    "duration": 5,
    "start_time": "2022-04-18T08:52:20.221Z"
   },
   {
    "duration": 823,
    "start_time": "2022-04-18T08:52:20.228Z"
   },
   {
    "duration": 22,
    "start_time": "2022-04-18T08:52:21.053Z"
   },
   {
    "duration": 144,
    "start_time": "2022-04-18T08:52:21.076Z"
   },
   {
    "duration": 130,
    "start_time": "2022-04-18T08:52:21.232Z"
   },
   {
    "duration": 136,
    "start_time": "2022-04-18T08:52:21.364Z"
   },
   {
    "duration": 4,
    "start_time": "2022-04-18T08:52:21.502Z"
   },
   {
    "duration": 41,
    "start_time": "2022-04-18T08:52:21.507Z"
   },
   {
    "duration": 179,
    "start_time": "2022-04-18T08:52:21.550Z"
   },
   {
    "duration": 445,
    "start_time": "2022-04-18T08:52:21.734Z"
   },
   {
    "duration": 4,
    "start_time": "2022-04-18T08:52:44.867Z"
   },
   {
    "duration": 597,
    "start_time": "2022-04-18T08:52:47.578Z"
   },
   {
    "duration": 4,
    "start_time": "2022-04-18T08:52:49.963Z"
   },
   {
    "duration": 25,
    "start_time": "2022-04-18T08:53:52.901Z"
   },
   {
    "duration": 12,
    "start_time": "2022-04-18T08:53:55.277Z"
   },
   {
    "duration": 368,
    "start_time": "2022-04-18T08:56:28.201Z"
   },
   {
    "duration": 3,
    "start_time": "2022-04-18T08:56:36.481Z"
   },
   {
    "duration": 144,
    "start_time": "2022-04-18T08:59:57.657Z"
   },
   {
    "duration": 343,
    "start_time": "2022-04-18T09:00:21.841Z"
   },
   {
    "duration": 260,
    "start_time": "2022-04-18T09:00:42.257Z"
   },
   {
    "duration": 246,
    "start_time": "2022-04-18T09:00:55.538Z"
   },
   {
    "duration": 203,
    "start_time": "2022-04-18T09:01:23.891Z"
   },
   {
    "duration": 60,
    "start_time": "2022-04-18T09:05:05.114Z"
   },
   {
    "duration": 172,
    "start_time": "2022-04-18T09:06:04.924Z"
   },
   {
    "duration": 3,
    "start_time": "2022-04-18T09:06:59.805Z"
   },
   {
    "duration": 160,
    "start_time": "2022-04-18T09:07:02.270Z"
   },
   {
    "duration": 3,
    "start_time": "2022-04-18T09:07:26.917Z"
   },
   {
    "duration": 147,
    "start_time": "2022-04-18T09:07:29.111Z"
   },
   {
    "duration": 3,
    "start_time": "2022-04-18T09:07:36.214Z"
   },
   {
    "duration": 135,
    "start_time": "2022-04-18T09:07:38.951Z"
   },
   {
    "duration": 3,
    "start_time": "2022-04-18T09:07:49.663Z"
   },
   {
    "duration": 159,
    "start_time": "2022-04-18T09:07:52.488Z"
   },
   {
    "duration": 158,
    "start_time": "2022-04-18T09:08:40.865Z"
   },
   {
    "duration": 132,
    "start_time": "2022-04-18T09:09:10.299Z"
   },
   {
    "duration": 135,
    "start_time": "2022-04-18T09:09:49.362Z"
   },
   {
    "duration": 138,
    "start_time": "2022-04-18T09:10:31.300Z"
   },
   {
    "duration": 176,
    "start_time": "2022-04-18T09:11:03.508Z"
   },
   {
    "duration": 163,
    "start_time": "2022-04-18T09:12:16.943Z"
   },
   {
    "duration": 147,
    "start_time": "2022-04-18T09:14:30.685Z"
   },
   {
    "duration": 146,
    "start_time": "2022-04-18T09:14:39.771Z"
   },
   {
    "duration": 1393,
    "start_time": "2022-04-18T09:14:52.924Z"
   },
   {
    "duration": 152,
    "start_time": "2022-04-18T09:14:58.915Z"
   },
   {
    "duration": 42,
    "start_time": "2022-04-18T09:18:17.906Z"
   },
   {
    "duration": 128,
    "start_time": "2022-04-18T09:22:00.499Z"
   },
   {
    "duration": 125,
    "start_time": "2022-04-18T09:22:43.995Z"
   },
   {
    "duration": 131,
    "start_time": "2022-04-18T09:23:43.727Z"
   },
   {
    "duration": 147,
    "start_time": "2022-04-18T09:24:21.064Z"
   },
   {
    "duration": 174,
    "start_time": "2022-04-18T09:26:15.899Z"
   },
   {
    "duration": 176,
    "start_time": "2022-04-18T09:26:38.812Z"
   },
   {
    "duration": 187,
    "start_time": "2022-04-18T09:26:46.485Z"
   },
   {
    "duration": 167,
    "start_time": "2022-04-18T09:27:35.117Z"
   },
   {
    "duration": 1654,
    "start_time": "2022-04-18T09:27:43.973Z"
   },
   {
    "duration": 227,
    "start_time": "2022-04-18T09:27:50.230Z"
   },
   {
    "duration": 21,
    "start_time": "2022-04-18T09:30:20.922Z"
   },
   {
    "duration": 10,
    "start_time": "2022-04-18T09:30:46.908Z"
   },
   {
    "duration": 141,
    "start_time": "2022-04-18T09:30:51.611Z"
   },
   {
    "duration": 7,
    "start_time": "2022-04-18T09:30:57.516Z"
   },
   {
    "duration": 3,
    "start_time": "2022-04-18T09:32:17.007Z"
   },
   {
    "duration": 30,
    "start_time": "2022-04-18T09:32:31.687Z"
   },
   {
    "duration": 3,
    "start_time": "2022-04-18T09:32:39.223Z"
   },
   {
    "duration": 4,
    "start_time": "2022-04-18T09:33:16.543Z"
   },
   {
    "duration": 157,
    "start_time": "2022-04-18T09:33:40.192Z"
   },
   {
    "duration": 219,
    "start_time": "2022-04-18T09:33:43.066Z"
   },
   {
    "duration": 197,
    "start_time": "2022-04-18T09:39:02.220Z"
   },
   {
    "duration": 70,
    "start_time": "2022-04-18T09:40:29.230Z"
   },
   {
    "duration": 1565,
    "start_time": "2022-04-18T09:41:03.749Z"
   },
   {
    "duration": 841,
    "start_time": "2022-04-18T09:41:05.316Z"
   },
   {
    "duration": 20,
    "start_time": "2022-04-18T09:41:06.159Z"
   },
   {
    "duration": 159,
    "start_time": "2022-04-18T09:41:06.182Z"
   },
   {
    "duration": 147,
    "start_time": "2022-04-18T09:41:06.346Z"
   },
   {
    "duration": 139,
    "start_time": "2022-04-18T09:41:06.495Z"
   },
   {
    "duration": 3,
    "start_time": "2022-04-18T09:41:06.636Z"
   },
   {
    "duration": 25,
    "start_time": "2022-04-18T09:41:06.641Z"
   },
   {
    "duration": 189,
    "start_time": "2022-04-18T09:41:06.668Z"
   },
   {
    "duration": 447,
    "start_time": "2022-04-18T09:41:06.859Z"
   },
   {
    "duration": 676,
    "start_time": "2022-04-18T09:41:07.308Z"
   },
   {
    "duration": 26,
    "start_time": "2022-04-18T09:41:07.987Z"
   },
   {
    "duration": 21,
    "start_time": "2022-04-18T09:41:08.015Z"
   },
   {
    "duration": 75,
    "start_time": "2022-04-18T09:41:08.038Z"
   },
   {
    "duration": 3,
    "start_time": "2022-04-18T09:41:08.114Z"
   },
   {
    "duration": 174,
    "start_time": "2022-04-18T09:41:08.133Z"
   },
   {
    "duration": 231,
    "start_time": "2022-04-18T09:41:08.309Z"
   },
   {
    "duration": 7,
    "start_time": "2022-04-18T09:41:08.542Z"
   },
   {
    "duration": 139,
    "start_time": "2022-04-18T09:41:08.550Z"
   },
   {
    "duration": 0,
    "start_time": "2022-04-18T09:41:08.691Z"
   },
   {
    "duration": 0,
    "start_time": "2022-04-18T09:41:08.693Z"
   },
   {
    "duration": 28,
    "start_time": "2022-04-18T09:41:18.147Z"
   },
   {
    "duration": 171,
    "start_time": "2022-04-18T09:41:20.659Z"
   },
   {
    "duration": 20,
    "start_time": "2022-04-18T10:24:47.318Z"
   },
   {
    "duration": 19,
    "start_time": "2022-04-18T10:27:43.301Z"
   },
   {
    "duration": 21,
    "start_time": "2022-04-18T10:27:51.981Z"
   },
   {
    "duration": 24,
    "start_time": "2022-04-18T10:28:04.453Z"
   },
   {
    "duration": 23,
    "start_time": "2022-04-18T10:28:12.429Z"
   },
   {
    "duration": 13,
    "start_time": "2022-04-18T10:28:34.270Z"
   },
   {
    "duration": 21,
    "start_time": "2022-04-18T10:28:45.790Z"
   },
   {
    "duration": 98,
    "start_time": "2022-04-18T10:28:52.263Z"
   },
   {
    "duration": 47,
    "start_time": "2022-04-18T10:29:01.167Z"
   },
   {
    "duration": 24,
    "start_time": "2022-04-18T10:29:27.584Z"
   },
   {
    "duration": 28,
    "start_time": "2022-04-18T10:29:41.299Z"
   },
   {
    "duration": 238,
    "start_time": "2022-04-18T10:31:34.452Z"
   },
   {
    "duration": 20,
    "start_time": "2022-04-18T10:31:56.037Z"
   },
   {
    "duration": 22,
    "start_time": "2022-04-18T10:32:03.541Z"
   },
   {
    "duration": 236,
    "start_time": "2022-04-18T10:32:16.716Z"
   },
   {
    "duration": 237,
    "start_time": "2022-04-18T10:32:21.325Z"
   },
   {
    "duration": 21,
    "start_time": "2022-04-18T10:32:45.966Z"
   },
   {
    "duration": 19,
    "start_time": "2022-04-18T10:32:59.743Z"
   },
   {
    "duration": 20,
    "start_time": "2022-04-18T10:33:05.591Z"
   },
   {
    "duration": 13,
    "start_time": "2022-04-18T10:33:15.847Z"
   },
   {
    "duration": 10,
    "start_time": "2022-04-18T10:33:49.487Z"
   },
   {
    "duration": 10,
    "start_time": "2022-04-18T10:33:53.120Z"
   },
   {
    "duration": 10,
    "start_time": "2022-04-18T10:33:57.232Z"
   },
   {
    "duration": 13,
    "start_time": "2022-04-18T10:34:02.993Z"
   },
   {
    "duration": 17,
    "start_time": "2022-04-18T10:34:27.337Z"
   },
   {
    "duration": 24,
    "start_time": "2022-04-18T10:35:20.354Z"
   },
   {
    "duration": 22,
    "start_time": "2022-04-18T10:35:48.148Z"
   },
   {
    "duration": 18,
    "start_time": "2022-04-18T10:36:09.774Z"
   },
   {
    "duration": 11,
    "start_time": "2022-04-18T10:51:45.730Z"
   },
   {
    "duration": 16,
    "start_time": "2022-04-18T10:51:56.138Z"
   },
   {
    "duration": 11,
    "start_time": "2022-04-18T10:52:12.043Z"
   },
   {
    "duration": 10,
    "start_time": "2022-04-18T10:52:48.949Z"
   },
   {
    "duration": 10,
    "start_time": "2022-04-18T10:53:14.549Z"
   },
   {
    "duration": 67,
    "start_time": "2022-04-18T10:54:42.721Z"
   },
   {
    "duration": 67,
    "start_time": "2022-04-18T10:55:12.162Z"
   },
   {
    "duration": 1540,
    "start_time": "2022-04-18T11:00:28.341Z"
   },
   {
    "duration": 870,
    "start_time": "2022-04-18T11:00:29.883Z"
   },
   {
    "duration": 19,
    "start_time": "2022-04-18T11:00:30.755Z"
   },
   {
    "duration": 142,
    "start_time": "2022-04-18T11:00:30.776Z"
   },
   {
    "duration": 134,
    "start_time": "2022-04-18T11:00:30.921Z"
   },
   {
    "duration": 144,
    "start_time": "2022-04-18T11:00:31.057Z"
   },
   {
    "duration": 4,
    "start_time": "2022-04-18T11:00:31.203Z"
   },
   {
    "duration": 42,
    "start_time": "2022-04-18T11:00:31.209Z"
   },
   {
    "duration": 190,
    "start_time": "2022-04-18T11:00:31.253Z"
   },
   {
    "duration": 478,
    "start_time": "2022-04-18T11:00:31.445Z"
   },
   {
    "duration": 693,
    "start_time": "2022-04-18T11:00:31.925Z"
   },
   {
    "duration": 31,
    "start_time": "2022-04-18T11:00:32.619Z"
   },
   {
    "duration": 11,
    "start_time": "2022-04-18T11:00:32.652Z"
   },
   {
    "duration": 67,
    "start_time": "2022-04-18T11:00:40.291Z"
   },
   {
    "duration": 158,
    "start_time": "2022-04-18T11:01:21.069Z"
   },
   {
    "duration": 3,
    "start_time": "2022-04-18T11:01:23.405Z"
   },
   {
    "duration": 159,
    "start_time": "2022-04-18T11:01:25.621Z"
   },
   {
    "duration": 234,
    "start_time": "2022-04-18T11:01:38.247Z"
   },
   {
    "duration": 9,
    "start_time": "2022-04-18T11:02:22.622Z"
   },
   {
    "duration": 31,
    "start_time": "2022-04-18T11:02:24.703Z"
   },
   {
    "duration": 194,
    "start_time": "2022-04-18T11:02:59.126Z"
   },
   {
    "duration": 325,
    "start_time": "2022-04-18T11:03:03.407Z"
   },
   {
    "duration": 11,
    "start_time": "2022-04-18T11:05:54.182Z"
   },
   {
    "duration": 12,
    "start_time": "2022-04-18T11:06:08.014Z"
   },
   {
    "duration": 11,
    "start_time": "2022-04-18T11:11:05.703Z"
   },
   {
    "duration": 10,
    "start_time": "2022-04-18T11:11:10.087Z"
   },
   {
    "duration": 10,
    "start_time": "2022-04-18T11:11:22.951Z"
   },
   {
    "duration": 4,
    "start_time": "2022-04-18T11:11:30.504Z"
   },
   {
    "duration": 36,
    "start_time": "2022-04-18T11:12:05.290Z"
   },
   {
    "duration": 4,
    "start_time": "2022-04-18T11:12:08.529Z"
   },
   {
    "duration": 4,
    "start_time": "2022-04-18T11:12:19.033Z"
   },
   {
    "duration": 163,
    "start_time": "2022-04-18T11:12:43.858Z"
   },
   {
    "duration": 164,
    "start_time": "2022-04-18T11:12:54.794Z"
   },
   {
    "duration": 1575,
    "start_time": "2022-04-18T11:13:44.321Z"
   },
   {
    "duration": 857,
    "start_time": "2022-04-18T11:13:45.898Z"
   },
   {
    "duration": 19,
    "start_time": "2022-04-18T11:13:46.757Z"
   },
   {
    "duration": 190,
    "start_time": "2022-04-18T11:13:46.778Z"
   },
   {
    "duration": 140,
    "start_time": "2022-04-18T11:13:46.971Z"
   },
   {
    "duration": 136,
    "start_time": "2022-04-18T11:13:47.112Z"
   },
   {
    "duration": 4,
    "start_time": "2022-04-18T11:13:47.250Z"
   },
   {
    "duration": 20,
    "start_time": "2022-04-18T11:13:47.255Z"
   },
   {
    "duration": 199,
    "start_time": "2022-04-18T11:13:47.277Z"
   },
   {
    "duration": 473,
    "start_time": "2022-04-18T11:13:47.478Z"
   },
   {
    "duration": 691,
    "start_time": "2022-04-18T11:13:47.953Z"
   },
   {
    "duration": 27,
    "start_time": "2022-04-18T11:13:48.646Z"
   },
   {
    "duration": 10,
    "start_time": "2022-04-18T11:13:48.675Z"
   },
   {
    "duration": 78,
    "start_time": "2022-04-18T11:13:48.688Z"
   },
   {
    "duration": 2,
    "start_time": "2022-04-18T11:13:48.768Z"
   },
   {
    "duration": 180,
    "start_time": "2022-04-18T11:13:48.772Z"
   },
   {
    "duration": 233,
    "start_time": "2022-04-18T11:13:48.954Z"
   },
   {
    "duration": 8,
    "start_time": "2022-04-18T11:13:49.188Z"
   },
   {
    "duration": 44,
    "start_time": "2022-04-18T11:13:49.197Z"
   },
   {
    "duration": 182,
    "start_time": "2022-04-18T11:13:49.243Z"
   },
   {
    "duration": 334,
    "start_time": "2022-04-18T11:13:49.433Z"
   },
   {
    "duration": 11,
    "start_time": "2022-04-18T11:13:49.768Z"
   },
   {
    "duration": 11,
    "start_time": "2022-04-18T11:13:49.780Z"
   },
   {
    "duration": 10,
    "start_time": "2022-04-18T11:14:09.676Z"
   },
   {
    "duration": 137,
    "start_time": "2022-04-18T11:14:17.836Z"
   },
   {
    "duration": 10,
    "start_time": "2022-04-18T11:14:21.644Z"
   },
   {
    "duration": 9,
    "start_time": "2022-04-18T11:14:25.453Z"
   },
   {
    "duration": 10,
    "start_time": "2022-04-18T11:14:29.532Z"
   },
   {
    "duration": 10,
    "start_time": "2022-04-18T11:14:35.253Z"
   },
   {
    "duration": 10,
    "start_time": "2022-04-18T11:14:39.141Z"
   },
   {
    "duration": 10,
    "start_time": "2022-04-18T11:14:42.029Z"
   },
   {
    "duration": 10,
    "start_time": "2022-04-18T11:14:48.908Z"
   },
   {
    "duration": 10,
    "start_time": "2022-04-18T11:14:52.168Z"
   },
   {
    "duration": 10,
    "start_time": "2022-04-18T11:14:55.613Z"
   },
   {
    "duration": 9,
    "start_time": "2022-04-18T11:14:59.349Z"
   },
   {
    "duration": 11,
    "start_time": "2022-04-18T11:15:02.766Z"
   },
   {
    "duration": 10,
    "start_time": "2022-04-18T11:15:25.936Z"
   },
   {
    "duration": 9,
    "start_time": "2022-04-18T11:16:12.464Z"
   },
   {
    "duration": 10,
    "start_time": "2022-04-18T11:16:18.976Z"
   },
   {
    "duration": 9,
    "start_time": "2022-04-18T11:16:29.656Z"
   },
   {
    "duration": 9,
    "start_time": "2022-04-18T11:16:42.016Z"
   },
   {
    "duration": 10,
    "start_time": "2022-04-18T11:17:08.369Z"
   },
   {
    "duration": 10,
    "start_time": "2022-04-18T11:17:35.458Z"
   },
   {
    "duration": 10,
    "start_time": "2022-04-18T11:25:03.697Z"
   },
   {
    "duration": 10,
    "start_time": "2022-04-18T11:26:11.772Z"
   },
   {
    "duration": 10,
    "start_time": "2022-04-18T11:26:17.483Z"
   },
   {
    "duration": 4,
    "start_time": "2022-04-18T11:26:51.156Z"
   },
   {
    "duration": 32,
    "start_time": "2022-04-18T11:28:12.551Z"
   },
   {
    "duration": 4,
    "start_time": "2022-04-18T11:28:22.767Z"
   },
   {
    "duration": 1599,
    "start_time": "2022-04-18T11:30:29.446Z"
   },
   {
    "duration": 867,
    "start_time": "2022-04-18T11:30:31.048Z"
   },
   {
    "duration": 24,
    "start_time": "2022-04-18T11:30:31.916Z"
   },
   {
    "duration": 149,
    "start_time": "2022-04-18T11:30:31.942Z"
   },
   {
    "duration": 147,
    "start_time": "2022-04-18T11:30:32.093Z"
   },
   {
    "duration": 138,
    "start_time": "2022-04-18T11:30:32.241Z"
   },
   {
    "duration": 4,
    "start_time": "2022-04-18T11:30:32.381Z"
   },
   {
    "duration": 29,
    "start_time": "2022-04-18T11:30:32.387Z"
   },
   {
    "duration": 195,
    "start_time": "2022-04-18T11:30:32.418Z"
   },
   {
    "duration": 471,
    "start_time": "2022-04-18T11:30:32.615Z"
   },
   {
    "duration": 676,
    "start_time": "2022-04-18T11:30:33.088Z"
   },
   {
    "duration": 28,
    "start_time": "2022-04-18T11:30:33.766Z"
   },
   {
    "duration": 12,
    "start_time": "2022-04-18T11:30:33.796Z"
   },
   {
    "duration": 82,
    "start_time": "2022-04-18T11:30:33.811Z"
   },
   {
    "duration": 3,
    "start_time": "2022-04-18T11:30:33.894Z"
   },
   {
    "duration": 176,
    "start_time": "2022-04-18T11:30:33.899Z"
   },
   {
    "duration": 231,
    "start_time": "2022-04-18T11:30:34.077Z"
   },
   {
    "duration": 7,
    "start_time": "2022-04-18T11:30:34.310Z"
   },
   {
    "duration": 39,
    "start_time": "2022-04-18T11:30:34.319Z"
   },
   {
    "duration": 180,
    "start_time": "2022-04-18T11:30:34.360Z"
   },
   {
    "duration": 311,
    "start_time": "2022-04-18T11:30:34.541Z"
   },
   {
    "duration": 9,
    "start_time": "2022-04-18T11:30:34.854Z"
   },
   {
    "duration": 11,
    "start_time": "2022-04-18T11:30:34.865Z"
   },
   {
    "duration": 9,
    "start_time": "2022-04-18T11:30:34.878Z"
   },
   {
    "duration": 9,
    "start_time": "2022-04-18T11:30:34.889Z"
   },
   {
    "duration": 41,
    "start_time": "2022-04-18T11:30:34.900Z"
   },
   {
    "duration": 33,
    "start_time": "2022-04-18T11:30:34.943Z"
   },
   {
    "duration": 5,
    "start_time": "2022-04-18T11:30:38.220Z"
   },
   {
    "duration": 213,
    "start_time": "2022-04-18T11:33:12.010Z"
   },
   {
    "duration": 11,
    "start_time": "2022-04-18T11:36:14.241Z"
   },
   {
    "duration": 255,
    "start_time": "2022-04-18T11:37:17.123Z"
   },
   {
    "duration": 122,
    "start_time": "2022-04-18T11:38:24.292Z"
   },
   {
    "duration": 77,
    "start_time": "2022-04-18T11:38:30.908Z"
   },
   {
    "duration": 80,
    "start_time": "2022-04-18T11:39:12.166Z"
   },
   {
    "duration": 242,
    "start_time": "2022-04-18T11:40:06.728Z"
   },
   {
    "duration": 10,
    "start_time": "2022-04-18T11:41:35.394Z"
   },
   {
    "duration": 11,
    "start_time": "2022-04-18T11:41:51.066Z"
   },
   {
    "duration": 13,
    "start_time": "2022-04-18T11:42:04.187Z"
   },
   {
    "duration": 9,
    "start_time": "2022-04-18T11:42:11.731Z"
   },
   {
    "duration": 9,
    "start_time": "2022-04-18T11:42:15.819Z"
   },
   {
    "duration": 24,
    "start_time": "2022-04-18T11:42:28.812Z"
   },
   {
    "duration": 40,
    "start_time": "2022-04-18T11:44:25.985Z"
   },
   {
    "duration": 22,
    "start_time": "2022-04-18T11:44:33.193Z"
   },
   {
    "duration": 14,
    "start_time": "2022-04-18T11:53:33.025Z"
   },
   {
    "duration": 7,
    "start_time": "2022-04-18T11:53:40.633Z"
   },
   {
    "duration": 13,
    "start_time": "2022-04-18T11:53:42.610Z"
   },
   {
    "duration": 151,
    "start_time": "2022-04-18T11:54:46.699Z"
   },
   {
    "duration": 7,
    "start_time": "2022-04-18T11:54:51.515Z"
   },
   {
    "duration": 14,
    "start_time": "2022-04-18T11:54:54.036Z"
   },
   {
    "duration": 1565,
    "start_time": "2022-04-18T11:55:03.121Z"
   },
   {
    "duration": 897,
    "start_time": "2022-04-18T11:55:04.689Z"
   },
   {
    "duration": 19,
    "start_time": "2022-04-18T11:55:05.588Z"
   },
   {
    "duration": 152,
    "start_time": "2022-04-18T11:55:05.608Z"
   },
   {
    "duration": 141,
    "start_time": "2022-04-18T11:55:05.763Z"
   },
   {
    "duration": 143,
    "start_time": "2022-04-18T11:55:05.906Z"
   },
   {
    "duration": 4,
    "start_time": "2022-04-18T11:55:06.050Z"
   },
   {
    "duration": 28,
    "start_time": "2022-04-18T11:55:06.056Z"
   },
   {
    "duration": 207,
    "start_time": "2022-04-18T11:55:06.086Z"
   },
   {
    "duration": 479,
    "start_time": "2022-04-18T11:55:06.295Z"
   },
   {
    "duration": 745,
    "start_time": "2022-04-18T11:55:06.775Z"
   },
   {
    "duration": 35,
    "start_time": "2022-04-18T11:55:07.522Z"
   },
   {
    "duration": 80,
    "start_time": "2022-04-18T11:55:07.559Z"
   },
   {
    "duration": 3,
    "start_time": "2022-04-18T11:55:07.642Z"
   },
   {
    "duration": 180,
    "start_time": "2022-04-18T11:55:07.646Z"
   },
   {
    "duration": 243,
    "start_time": "2022-04-18T11:55:07.827Z"
   },
   {
    "duration": 7,
    "start_time": "2022-04-18T11:55:08.072Z"
   },
   {
    "duration": 42,
    "start_time": "2022-04-18T11:55:08.081Z"
   },
   {
    "duration": 188,
    "start_time": "2022-04-18T11:55:08.134Z"
   },
   {
    "duration": 326,
    "start_time": "2022-04-18T11:55:08.323Z"
   },
   {
    "duration": 10,
    "start_time": "2022-04-18T11:55:08.650Z"
   },
   {
    "duration": 9,
    "start_time": "2022-04-18T11:55:08.662Z"
   },
   {
    "duration": 10,
    "start_time": "2022-04-18T11:55:08.673Z"
   },
   {
    "duration": 12,
    "start_time": "2022-04-18T11:55:08.684Z"
   },
   {
    "duration": 45,
    "start_time": "2022-04-18T11:55:08.697Z"
   },
   {
    "duration": 25,
    "start_time": "2022-04-18T11:55:08.743Z"
   },
   {
    "duration": 12,
    "start_time": "2022-04-18T11:55:08.769Z"
   },
   {
    "duration": 5,
    "start_time": "2022-04-18T11:55:10.959Z"
   },
   {
    "duration": 11,
    "start_time": "2022-04-18T11:55:12.944Z"
   },
   {
    "duration": 41,
    "start_time": "2022-04-18T11:58:59.224Z"
   },
   {
    "duration": 14,
    "start_time": "2022-04-18T11:59:01.551Z"
   },
   {
    "duration": 19,
    "start_time": "2022-04-18T11:59:30.304Z"
   },
   {
    "duration": 35,
    "start_time": "2022-04-18T12:00:26.547Z"
   },
   {
    "duration": 1732,
    "start_time": "2022-04-18T14:08:33.953Z"
   },
   {
    "duration": 4386,
    "start_time": "2022-04-18T14:08:37.873Z"
   },
   {
    "duration": 21,
    "start_time": "2022-04-18T14:08:42.261Z"
   },
   {
    "duration": 136,
    "start_time": "2022-04-18T14:08:45.514Z"
   },
   {
    "duration": 4,
    "start_time": "2022-04-18T14:09:13.682Z"
   },
   {
    "duration": 116,
    "start_time": "2022-04-18T14:09:25.459Z"
   },
   {
    "duration": 5,
    "start_time": "2022-04-18T14:09:30.483Z"
   },
   {
    "duration": 4,
    "start_time": "2022-04-18T14:15:00.034Z"
   },
   {
    "duration": 14,
    "start_time": "2022-04-18T14:15:05.718Z"
   },
   {
    "duration": 134,
    "start_time": "2022-04-18T14:15:48.736Z"
   },
   {
    "duration": 148,
    "start_time": "2022-04-18T14:15:55.800Z"
   },
   {
    "duration": 4,
    "start_time": "2022-04-18T14:15:58.559Z"
   },
   {
    "duration": 1648,
    "start_time": "2022-04-18T14:17:17.437Z"
   },
   {
    "duration": 904,
    "start_time": "2022-04-18T14:17:19.088Z"
   },
   {
    "duration": 20,
    "start_time": "2022-04-18T14:17:19.994Z"
   },
   {
    "duration": 172,
    "start_time": "2022-04-18T14:17:20.015Z"
   },
   {
    "duration": 155,
    "start_time": "2022-04-18T14:17:20.190Z"
   },
   {
    "duration": 270,
    "start_time": "2022-04-18T14:17:20.348Z"
   },
   {
    "duration": 0,
    "start_time": "2022-04-18T14:17:20.620Z"
   },
   {
    "duration": 0,
    "start_time": "2022-04-18T14:17:20.621Z"
   },
   {
    "duration": 0,
    "start_time": "2022-04-18T14:17:20.622Z"
   },
   {
    "duration": 0,
    "start_time": "2022-04-18T14:17:20.623Z"
   },
   {
    "duration": 0,
    "start_time": "2022-04-18T14:17:20.634Z"
   },
   {
    "duration": 0,
    "start_time": "2022-04-18T14:17:20.635Z"
   },
   {
    "duration": 0,
    "start_time": "2022-04-18T14:17:20.637Z"
   },
   {
    "duration": 0,
    "start_time": "2022-04-18T14:17:20.638Z"
   },
   {
    "duration": 0,
    "start_time": "2022-04-18T14:17:20.639Z"
   },
   {
    "duration": 0,
    "start_time": "2022-04-18T14:17:20.641Z"
   },
   {
    "duration": 0,
    "start_time": "2022-04-18T14:17:20.642Z"
   },
   {
    "duration": 0,
    "start_time": "2022-04-18T14:17:20.643Z"
   },
   {
    "duration": 0,
    "start_time": "2022-04-18T14:17:20.645Z"
   },
   {
    "duration": 0,
    "start_time": "2022-04-18T14:17:20.648Z"
   },
   {
    "duration": 0,
    "start_time": "2022-04-18T14:17:20.651Z"
   },
   {
    "duration": 0,
    "start_time": "2022-04-18T14:17:20.652Z"
   },
   {
    "duration": 0,
    "start_time": "2022-04-18T14:17:20.654Z"
   },
   {
    "duration": 0,
    "start_time": "2022-04-18T14:17:20.655Z"
   },
   {
    "duration": 0,
    "start_time": "2022-04-18T14:17:20.656Z"
   },
   {
    "duration": 0,
    "start_time": "2022-04-18T14:17:20.658Z"
   },
   {
    "duration": 0,
    "start_time": "2022-04-18T14:17:20.659Z"
   },
   {
    "duration": 1648,
    "start_time": "2022-04-18T14:17:45.574Z"
   },
   {
    "duration": 956,
    "start_time": "2022-04-18T14:17:47.224Z"
   },
   {
    "duration": 21,
    "start_time": "2022-04-18T14:17:48.182Z"
   },
   {
    "duration": 177,
    "start_time": "2022-04-18T14:17:48.205Z"
   },
   {
    "duration": 161,
    "start_time": "2022-04-18T14:17:48.385Z"
   },
   {
    "duration": 147,
    "start_time": "2022-04-18T14:17:48.549Z"
   },
   {
    "duration": 5,
    "start_time": "2022-04-18T14:17:48.697Z"
   },
   {
    "duration": 39,
    "start_time": "2022-04-18T14:17:48.704Z"
   },
   {
    "duration": 203,
    "start_time": "2022-04-18T14:17:48.746Z"
   },
   {
    "duration": 535,
    "start_time": "2022-04-18T14:17:48.952Z"
   },
   {
    "duration": 810,
    "start_time": "2022-04-18T14:17:49.490Z"
   },
   {
    "duration": 40,
    "start_time": "2022-04-18T14:17:50.303Z"
   },
   {
    "duration": 74,
    "start_time": "2022-04-18T14:17:50.345Z"
   },
   {
    "duration": 14,
    "start_time": "2022-04-18T14:17:50.421Z"
   },
   {
    "duration": 209,
    "start_time": "2022-04-18T14:17:50.438Z"
   },
   {
    "duration": 255,
    "start_time": "2022-04-18T14:17:50.650Z"
   },
   {
    "duration": 7,
    "start_time": "2022-04-18T14:17:50.907Z"
   },
   {
    "duration": 52,
    "start_time": "2022-04-18T14:17:50.916Z"
   },
   {
    "duration": 217,
    "start_time": "2022-04-18T14:17:50.970Z"
   },
   {
    "duration": 367,
    "start_time": "2022-04-18T14:17:51.189Z"
   },
   {
    "duration": 9,
    "start_time": "2022-04-18T14:17:51.558Z"
   },
   {
    "duration": 14,
    "start_time": "2022-04-18T14:17:51.569Z"
   },
   {
    "duration": 9,
    "start_time": "2022-04-18T14:17:51.585Z"
   },
   {
    "duration": 39,
    "start_time": "2022-04-18T14:17:51.596Z"
   },
   {
    "duration": 12,
    "start_time": "2022-04-18T14:17:51.637Z"
   },
   {
    "duration": 48,
    "start_time": "2022-04-18T14:17:51.651Z"
   },
   {
    "duration": 75,
    "start_time": "2022-04-18T14:17:51.701Z"
   },
   {
    "duration": 23,
    "start_time": "2022-04-18T14:18:02.982Z"
   },
   {
    "duration": 1680,
    "start_time": "2022-04-18T14:18:42.248Z"
   },
   {
    "duration": 953,
    "start_time": "2022-04-18T14:18:43.930Z"
   },
   {
    "duration": 19,
    "start_time": "2022-04-18T14:18:44.885Z"
   },
   {
    "duration": 159,
    "start_time": "2022-04-18T14:18:44.906Z"
   },
   {
    "duration": 156,
    "start_time": "2022-04-18T14:18:45.068Z"
   },
   {
    "duration": 158,
    "start_time": "2022-04-18T14:18:45.225Z"
   },
   {
    "duration": 5,
    "start_time": "2022-04-18T14:18:45.385Z"
   },
   {
    "duration": 24,
    "start_time": "2022-04-18T14:18:45.391Z"
   },
   {
    "duration": 224,
    "start_time": "2022-04-18T14:18:45.417Z"
   },
   {
    "duration": 520,
    "start_time": "2022-04-18T14:18:45.645Z"
   },
   {
    "duration": 751,
    "start_time": "2022-04-18T14:18:46.167Z"
   },
   {
    "duration": 32,
    "start_time": "2022-04-18T14:18:46.920Z"
   },
   {
    "duration": 63,
    "start_time": "2022-04-18T14:18:46.954Z"
   },
   {
    "duration": 5,
    "start_time": "2022-04-18T14:18:47.035Z"
   },
   {
    "duration": 206,
    "start_time": "2022-04-18T14:18:47.041Z"
   },
   {
    "duration": 254,
    "start_time": "2022-04-18T14:18:47.249Z"
   },
   {
    "duration": 9,
    "start_time": "2022-04-18T14:18:47.505Z"
   },
   {
    "duration": 53,
    "start_time": "2022-04-18T14:18:47.516Z"
   },
   {
    "duration": 190,
    "start_time": "2022-04-18T14:18:47.571Z"
   },
   {
    "duration": 331,
    "start_time": "2022-04-18T14:18:47.763Z"
   },
   {
    "duration": 10,
    "start_time": "2022-04-18T14:18:48.096Z"
   },
   {
    "duration": 10,
    "start_time": "2022-04-18T14:18:48.107Z"
   },
   {
    "duration": 29,
    "start_time": "2022-04-18T14:18:48.119Z"
   },
   {
    "duration": 12,
    "start_time": "2022-04-18T14:18:48.150Z"
   },
   {
    "duration": 10,
    "start_time": "2022-04-18T14:18:48.165Z"
   },
   {
    "duration": 66,
    "start_time": "2022-04-18T14:18:48.178Z"
   },
   {
    "duration": 44,
    "start_time": "2022-04-18T14:18:48.246Z"
   },
   {
    "duration": 22,
    "start_time": "2022-04-18T14:19:23.547Z"
   },
   {
    "duration": 4,
    "start_time": "2022-04-18T14:32:31.527Z"
   },
   {
    "duration": 1602,
    "start_time": "2022-04-18T14:49:31.688Z"
   },
   {
    "duration": 920,
    "start_time": "2022-04-18T14:49:33.293Z"
   },
   {
    "duration": 32,
    "start_time": "2022-04-18T14:49:34.215Z"
   },
   {
    "duration": 161,
    "start_time": "2022-04-18T14:49:34.249Z"
   },
   {
    "duration": 160,
    "start_time": "2022-04-18T14:49:34.413Z"
   },
   {
    "duration": 151,
    "start_time": "2022-04-18T14:49:34.574Z"
   },
   {
    "duration": 5,
    "start_time": "2022-04-18T14:49:34.732Z"
   },
   {
    "duration": 42,
    "start_time": "2022-04-18T14:49:34.738Z"
   },
   {
    "duration": 200,
    "start_time": "2022-04-18T14:49:34.782Z"
   },
   {
    "duration": 499,
    "start_time": "2022-04-18T14:49:34.984Z"
   },
   {
    "duration": 715,
    "start_time": "2022-04-18T14:49:35.485Z"
   },
   {
    "duration": 34,
    "start_time": "2022-04-18T14:49:36.201Z"
   },
   {
    "duration": 60,
    "start_time": "2022-04-18T14:49:36.238Z"
   },
   {
    "duration": 143,
    "start_time": "2022-04-18T14:49:36.301Z"
   },
   {
    "duration": 19,
    "start_time": "2022-04-18T14:53:40.424Z"
   },
   {
    "duration": 17,
    "start_time": "2022-04-18T14:54:15.105Z"
   },
   {
    "duration": 3,
    "start_time": "2022-04-18T14:54:15.946Z"
   },
   {
    "duration": 103,
    "start_time": "2022-04-18T14:54:19.018Z"
   },
   {
    "duration": 46,
    "start_time": "2022-04-18T14:54:19.832Z"
   },
   {
    "duration": 5,
    "start_time": "2022-04-18T14:54:21.352Z"
   },
   {
    "duration": 69,
    "start_time": "2022-04-18T14:55:54.653Z"
   },
   {
    "duration": 168,
    "start_time": "2022-04-18T14:56:13.797Z"
   },
   {
    "duration": 3,
    "start_time": "2022-04-18T14:56:17.252Z"
   },
   {
    "duration": 160,
    "start_time": "2022-04-18T14:56:20.046Z"
   },
   {
    "duration": 232,
    "start_time": "2022-04-18T14:56:24.397Z"
   },
   {
    "duration": 7,
    "start_time": "2022-04-18T14:56:31.853Z"
   },
   {
    "duration": 35,
    "start_time": "2022-04-18T14:56:35.333Z"
   },
   {
    "duration": 251,
    "start_time": "2022-04-18T14:56:39.959Z"
   },
   {
    "duration": 7,
    "start_time": "2022-04-18T14:57:12.974Z"
   },
   {
    "duration": 7,
    "start_time": "2022-04-18T14:57:18.198Z"
   },
   {
    "duration": 8,
    "start_time": "2022-04-18T14:58:34.738Z"
   },
   {
    "duration": 7,
    "start_time": "2022-04-18T14:59:26.046Z"
   },
   {
    "duration": 26,
    "start_time": "2022-04-18T14:59:28.646Z"
   },
   {
    "duration": 6,
    "start_time": "2022-04-18T14:59:30.646Z"
   },
   {
    "duration": 1617,
    "start_time": "2022-04-18T15:02:15.246Z"
   },
   {
    "duration": 901,
    "start_time": "2022-04-18T15:02:16.865Z"
   },
   {
    "duration": 19,
    "start_time": "2022-04-18T15:02:17.768Z"
   },
   {
    "duration": 174,
    "start_time": "2022-04-18T15:02:17.789Z"
   },
   {
    "duration": 151,
    "start_time": "2022-04-18T15:02:17.965Z"
   },
   {
    "duration": 153,
    "start_time": "2022-04-18T15:02:18.118Z"
   },
   {
    "duration": 4,
    "start_time": "2022-04-18T15:02:18.273Z"
   },
   {
    "duration": 28,
    "start_time": "2022-04-18T15:02:18.279Z"
   },
   {
    "duration": 217,
    "start_time": "2022-04-18T15:02:18.309Z"
   },
   {
    "duration": 502,
    "start_time": "2022-04-18T15:02:18.528Z"
   },
   {
    "duration": 786,
    "start_time": "2022-04-18T15:02:19.032Z"
   },
   {
    "duration": 38,
    "start_time": "2022-04-18T15:02:19.819Z"
   },
   {
    "duration": 51,
    "start_time": "2022-04-18T15:02:19.859Z"
   },
   {
    "duration": 42,
    "start_time": "2022-04-18T15:02:19.913Z"
   },
   {
    "duration": 80,
    "start_time": "2022-04-18T15:02:19.957Z"
   },
   {
    "duration": 5,
    "start_time": "2022-04-18T15:02:20.040Z"
   },
   {
    "duration": 107,
    "start_time": "2022-04-18T15:02:20.048Z"
   },
   {
    "duration": 37,
    "start_time": "2022-04-18T15:02:20.157Z"
   },
   {
    "duration": 5,
    "start_time": "2022-04-18T15:02:20.195Z"
   },
   {
    "duration": 86,
    "start_time": "2022-04-18T15:02:20.202Z"
   },
   {
    "duration": 3,
    "start_time": "2022-04-18T15:02:20.290Z"
   },
   {
    "duration": 191,
    "start_time": "2022-04-18T15:02:20.295Z"
   },
   {
    "duration": 232,
    "start_time": "2022-04-18T15:02:20.488Z"
   },
   {
    "duration": 15,
    "start_time": "2022-04-18T15:02:20.721Z"
   },
   {
    "duration": 8,
    "start_time": "2022-04-18T15:02:20.738Z"
   },
   {
    "duration": 22,
    "start_time": "2022-04-18T15:02:20.748Z"
   },
   {
    "duration": 194,
    "start_time": "2022-04-18T15:02:20.772Z"
   },
   {
    "duration": 329,
    "start_time": "2022-04-18T15:02:20.968Z"
   },
   {
    "duration": 10,
    "start_time": "2022-04-18T15:02:21.298Z"
   },
   {
    "duration": 32,
    "start_time": "2022-04-18T15:02:21.310Z"
   },
   {
    "duration": 5,
    "start_time": "2022-04-18T15:04:50.125Z"
   },
   {
    "duration": 6,
    "start_time": "2022-04-18T15:05:18.511Z"
   },
   {
    "duration": 6,
    "start_time": "2022-04-18T15:05:37.663Z"
   },
   {
    "duration": 4,
    "start_time": "2022-04-18T15:06:44.559Z"
   },
   {
    "duration": 5,
    "start_time": "2022-04-18T15:06:46.466Z"
   },
   {
    "duration": 4,
    "start_time": "2022-04-18T15:06:52.378Z"
   },
   {
    "duration": 5,
    "start_time": "2022-04-18T15:07:02.153Z"
   },
   {
    "duration": 21,
    "start_time": "2022-04-18T15:09:13.622Z"
   },
   {
    "duration": 6,
    "start_time": "2022-04-18T15:09:58.103Z"
   },
   {
    "duration": 5,
    "start_time": "2022-04-18T15:10:05.504Z"
   },
   {
    "duration": 4,
    "start_time": "2022-04-18T15:10:12.119Z"
   },
   {
    "duration": 1616,
    "start_time": "2022-04-18T15:14:46.690Z"
   },
   {
    "duration": 884,
    "start_time": "2022-04-18T15:14:48.308Z"
   },
   {
    "duration": 20,
    "start_time": "2022-04-18T15:14:49.194Z"
   },
   {
    "duration": 176,
    "start_time": "2022-04-18T15:14:49.216Z"
   },
   {
    "duration": 161,
    "start_time": "2022-04-18T15:14:49.395Z"
   },
   {
    "duration": 153,
    "start_time": "2022-04-18T15:14:49.558Z"
   },
   {
    "duration": 5,
    "start_time": "2022-04-18T15:14:49.713Z"
   },
   {
    "duration": 41,
    "start_time": "2022-04-18T15:14:49.719Z"
   },
   {
    "duration": 200,
    "start_time": "2022-04-18T15:14:49.762Z"
   },
   {
    "duration": 505,
    "start_time": "2022-04-18T15:14:49.964Z"
   },
   {
    "duration": 751,
    "start_time": "2022-04-18T15:14:50.471Z"
   },
   {
    "duration": 40,
    "start_time": "2022-04-18T15:14:51.224Z"
   },
   {
    "duration": 123,
    "start_time": "2022-04-18T15:14:51.266Z"
   },
   {
    "duration": 21,
    "start_time": "2022-04-18T15:14:51.392Z"
   },
   {
    "duration": 97,
    "start_time": "2022-04-18T15:14:51.415Z"
   },
   {
    "duration": 2,
    "start_time": "2022-04-18T15:14:51.514Z"
   },
   {
    "duration": 111,
    "start_time": "2022-04-18T15:14:51.518Z"
   },
   {
    "duration": 45,
    "start_time": "2022-04-18T15:14:51.630Z"
   },
   {
    "duration": 5,
    "start_time": "2022-04-18T15:14:51.677Z"
   },
   {
    "duration": 86,
    "start_time": "2022-04-18T15:14:51.683Z"
   },
   {
    "duration": 2,
    "start_time": "2022-04-18T15:14:51.771Z"
   },
   {
    "duration": 191,
    "start_time": "2022-04-18T15:14:51.775Z"
   },
   {
    "duration": 236,
    "start_time": "2022-04-18T15:14:51.968Z"
   },
   {
    "duration": 7,
    "start_time": "2022-04-18T15:14:52.205Z"
   },
   {
    "duration": 24,
    "start_time": "2022-04-18T15:14:52.214Z"
   },
   {
    "duration": 24,
    "start_time": "2022-04-18T15:14:52.239Z"
   },
   {
    "duration": 4,
    "start_time": "2022-04-18T15:14:56.510Z"
   },
   {
    "duration": 4,
    "start_time": "2022-04-18T15:14:58.366Z"
   },
   {
    "duration": 18,
    "start_time": "2022-04-18T15:15:26.911Z"
   },
   {
    "duration": 6,
    "start_time": "2022-04-18T15:15:34.639Z"
   },
   {
    "duration": 129,
    "start_time": "2022-04-18T15:17:48.892Z"
   },
   {
    "duration": 12,
    "start_time": "2022-04-18T15:27:36.383Z"
   },
   {
    "duration": 64,
    "start_time": "2022-04-18T15:32:46.786Z"
   },
   {
    "duration": 4,
    "start_time": "2022-04-18T15:32:56.994Z"
   },
   {
    "duration": 22,
    "start_time": "2022-04-18T15:33:10.834Z"
   },
   {
    "duration": 42,
    "start_time": "2022-04-18T15:34:20.780Z"
   },
   {
    "duration": 6,
    "start_time": "2022-04-18T15:34:26.261Z"
   },
   {
    "duration": 6,
    "start_time": "2022-04-18T15:34:49.534Z"
   },
   {
    "duration": 4,
    "start_time": "2022-04-18T15:34:57.078Z"
   },
   {
    "duration": 10,
    "start_time": "2022-04-18T15:35:02.862Z"
   },
   {
    "duration": 6,
    "start_time": "2022-04-18T15:35:07.735Z"
   },
   {
    "duration": 10,
    "start_time": "2022-04-18T15:35:16.046Z"
   },
   {
    "duration": 5,
    "start_time": "2022-04-18T15:35:23.286Z"
   },
   {
    "duration": 9,
    "start_time": "2022-04-18T15:35:47.816Z"
   },
   {
    "duration": 4,
    "start_time": "2022-04-18T15:35:52.023Z"
   },
   {
    "duration": 5,
    "start_time": "2022-04-18T15:35:56.047Z"
   },
   {
    "duration": 4,
    "start_time": "2022-04-18T15:36:10.168Z"
   },
   {
    "duration": 5,
    "start_time": "2022-04-18T15:36:12.746Z"
   },
   {
    "duration": 32,
    "start_time": "2022-04-18T15:36:39.073Z"
   },
   {
    "duration": 5,
    "start_time": "2022-04-18T15:37:39.342Z"
   },
   {
    "duration": 134,
    "start_time": "2022-04-18T15:37:46.274Z"
   },
   {
    "duration": 186,
    "start_time": "2022-04-18T15:38:56.909Z"
   },
   {
    "duration": 346,
    "start_time": "2022-04-18T15:38:59.708Z"
   },
   {
    "duration": 9,
    "start_time": "2022-04-18T15:39:02.878Z"
   },
   {
    "duration": 15,
    "start_time": "2022-04-18T15:39:05.934Z"
   },
   {
    "duration": 10,
    "start_time": "2022-04-18T15:39:08.461Z"
   },
   {
    "duration": 12,
    "start_time": "2022-04-18T15:39:10.317Z"
   },
   {
    "duration": 10,
    "start_time": "2022-04-18T15:39:12.285Z"
   },
   {
    "duration": 5,
    "start_time": "2022-04-18T15:39:14.526Z"
   },
   {
    "duration": 6,
    "start_time": "2022-04-18T15:39:16.374Z"
   },
   {
    "duration": 6,
    "start_time": "2022-04-18T15:39:18.614Z"
   },
   {
    "duration": 5,
    "start_time": "2022-04-18T15:40:20.832Z"
   },
   {
    "duration": 3,
    "start_time": "2022-04-18T15:41:36.379Z"
   },
   {
    "duration": 5,
    "start_time": "2022-04-18T15:41:46.611Z"
   },
   {
    "duration": 12,
    "start_time": "2022-04-18T15:42:27.173Z"
   },
   {
    "duration": 94,
    "start_time": "2022-04-18T15:44:13.896Z"
   },
   {
    "duration": 5,
    "start_time": "2022-04-18T15:44:17.047Z"
   },
   {
    "duration": 6,
    "start_time": "2022-04-18T15:44:19.240Z"
   },
   {
    "duration": 20,
    "start_time": "2022-04-18T15:44:31.888Z"
   },
   {
    "duration": 17,
    "start_time": "2022-04-18T15:44:52.749Z"
   },
   {
    "duration": 16,
    "start_time": "2022-04-18T15:45:33.650Z"
   },
   {
    "duration": 4,
    "start_time": "2022-04-18T15:45:44.966Z"
   },
   {
    "duration": 914,
    "start_time": "2022-04-18T15:45:44.973Z"
   },
   {
    "duration": 16,
    "start_time": "2022-04-18T15:45:45.889Z"
   },
   {
    "duration": 152,
    "start_time": "2022-04-18T15:45:45.907Z"
   },
   {
    "duration": 140,
    "start_time": "2022-04-18T15:45:46.062Z"
   },
   {
    "duration": 145,
    "start_time": "2022-04-18T15:45:46.204Z"
   },
   {
    "duration": 5,
    "start_time": "2022-04-18T15:45:46.351Z"
   },
   {
    "duration": 29,
    "start_time": "2022-04-18T15:45:46.358Z"
   },
   {
    "duration": 201,
    "start_time": "2022-04-18T15:45:46.389Z"
   },
   {
    "duration": 488,
    "start_time": "2022-04-18T15:45:46.592Z"
   },
   {
    "duration": 595,
    "start_time": "2022-04-18T15:45:47.081Z"
   },
   {
    "duration": 32,
    "start_time": "2022-04-18T15:45:47.678Z"
   },
   {
    "duration": 61,
    "start_time": "2022-04-18T15:45:47.712Z"
   },
   {
    "duration": 21,
    "start_time": "2022-04-18T15:45:47.777Z"
   },
   {
    "duration": 65,
    "start_time": "2022-04-18T15:45:47.800Z"
   },
   {
    "duration": 3,
    "start_time": "2022-04-18T15:45:47.867Z"
   },
   {
    "duration": 97,
    "start_time": "2022-04-18T15:45:47.871Z"
   },
   {
    "duration": 36,
    "start_time": "2022-04-18T15:45:47.970Z"
   },
   {
    "duration": 5,
    "start_time": "2022-04-18T15:45:48.008Z"
   },
   {
    "duration": 86,
    "start_time": "2022-04-18T15:45:48.015Z"
   },
   {
    "duration": 3,
    "start_time": "2022-04-18T15:45:48.103Z"
   },
   {
    "duration": 189,
    "start_time": "2022-04-18T15:45:48.108Z"
   },
   {
    "duration": 246,
    "start_time": "2022-04-18T15:45:48.298Z"
   },
   {
    "duration": 8,
    "start_time": "2022-04-18T15:45:48.546Z"
   },
   {
    "duration": 7,
    "start_time": "2022-04-18T15:45:48.555Z"
   },
   {
    "duration": 21,
    "start_time": "2022-04-18T15:45:48.564Z"
   },
   {
    "duration": 83,
    "start_time": "2022-04-18T15:45:48.587Z"
   },
   {
    "duration": 5,
    "start_time": "2022-04-18T15:45:48.671Z"
   },
   {
    "duration": 188,
    "start_time": "2022-04-18T15:45:48.677Z"
   },
   {
    "duration": 252,
    "start_time": "2022-04-18T15:45:48.867Z"
   },
   {
    "duration": 14,
    "start_time": "2022-04-18T15:45:49.121Z"
   },
   {
    "duration": 10,
    "start_time": "2022-04-18T15:45:49.137Z"
   },
   {
    "duration": 10,
    "start_time": "2022-04-18T15:45:49.149Z"
   },
   {
    "duration": 11,
    "start_time": "2022-04-18T15:45:49.161Z"
   },
   {
    "duration": 10,
    "start_time": "2022-04-18T15:45:49.174Z"
   },
   {
    "duration": 2,
    "start_time": "2022-04-18T15:45:49.186Z"
   },
   {
    "duration": 8,
    "start_time": "2022-04-18T15:45:49.234Z"
   },
   {
    "duration": 11,
    "start_time": "2022-04-18T15:45:49.243Z"
   },
   {
    "duration": 7,
    "start_time": "2022-04-18T15:45:49.256Z"
   },
   {
    "duration": 9,
    "start_time": "2022-04-18T15:45:49.265Z"
   },
   {
    "duration": 5,
    "start_time": "2022-04-18T15:45:49.279Z"
   },
   {
    "duration": 5,
    "start_time": "2022-04-18T15:45:58.412Z"
   },
   {
    "duration": 141,
    "start_time": "2022-04-18T15:46:03.347Z"
   },
   {
    "duration": 18,
    "start_time": "2022-04-18T15:46:05.900Z"
   },
   {
    "duration": 4,
    "start_time": "2022-04-18T15:46:22.646Z"
   },
   {
    "duration": 4,
    "start_time": "2022-04-18T15:46:48.460Z"
   },
   {
    "duration": 3,
    "start_time": "2022-04-18T15:52:07.095Z"
   },
   {
    "duration": 21,
    "start_time": "2022-04-18T15:52:56.384Z"
   },
   {
    "duration": 29,
    "start_time": "2022-04-18T15:54:02.076Z"
   },
   {
    "duration": 1512,
    "start_time": "2022-04-18T15:55:21.691Z"
   },
   {
    "duration": 910,
    "start_time": "2022-04-18T15:55:23.205Z"
   },
   {
    "duration": 25,
    "start_time": "2022-04-18T15:55:24.117Z"
   },
   {
    "duration": 164,
    "start_time": "2022-04-18T15:55:24.145Z"
   },
   {
    "duration": 155,
    "start_time": "2022-04-18T15:55:24.311Z"
   },
   {
    "duration": 146,
    "start_time": "2022-04-18T15:55:24.468Z"
   },
   {
    "duration": 4,
    "start_time": "2022-04-18T15:55:24.616Z"
   },
   {
    "duration": 27,
    "start_time": "2022-04-18T15:55:24.639Z"
   },
   {
    "duration": 211,
    "start_time": "2022-04-18T15:55:24.667Z"
   },
   {
    "duration": 538,
    "start_time": "2022-04-18T15:55:24.880Z"
   },
   {
    "duration": 782,
    "start_time": "2022-04-18T15:55:25.420Z"
   },
   {
    "duration": 47,
    "start_time": "2022-04-18T15:55:26.204Z"
   },
   {
    "duration": 58,
    "start_time": "2022-04-18T15:55:26.253Z"
   },
   {
    "duration": 100,
    "start_time": "2022-04-18T15:55:26.316Z"
   },
   {
    "duration": 21,
    "start_time": "2022-04-18T15:55:26.418Z"
   },
   {
    "duration": 3,
    "start_time": "2022-04-18T15:55:26.443Z"
   },
   {
    "duration": 126,
    "start_time": "2022-04-18T15:55:26.448Z"
   },
   {
    "duration": 38,
    "start_time": "2022-04-18T15:55:26.575Z"
   },
   {
    "duration": 4,
    "start_time": "2022-04-18T15:55:26.615Z"
   },
   {
    "duration": 80,
    "start_time": "2022-04-18T15:55:26.620Z"
   },
   {
    "duration": 3,
    "start_time": "2022-04-18T15:55:26.702Z"
   },
   {
    "duration": 277,
    "start_time": "2022-04-18T15:55:26.706Z"
   },
   {
    "duration": 0,
    "start_time": "2022-04-18T15:55:26.986Z"
   },
   {
    "duration": 0,
    "start_time": "2022-04-18T15:55:26.987Z"
   },
   {
    "duration": 0,
    "start_time": "2022-04-18T15:55:26.988Z"
   },
   {
    "duration": 0,
    "start_time": "2022-04-18T15:55:26.989Z"
   },
   {
    "duration": 0,
    "start_time": "2022-04-18T15:55:26.990Z"
   },
   {
    "duration": 0,
    "start_time": "2022-04-18T15:55:26.991Z"
   },
   {
    "duration": 0,
    "start_time": "2022-04-18T15:55:26.993Z"
   },
   {
    "duration": 0,
    "start_time": "2022-04-18T15:55:26.994Z"
   },
   {
    "duration": 0,
    "start_time": "2022-04-18T15:55:26.995Z"
   },
   {
    "duration": 0,
    "start_time": "2022-04-18T15:55:26.996Z"
   },
   {
    "duration": 0,
    "start_time": "2022-04-18T15:55:26.998Z"
   },
   {
    "duration": 0,
    "start_time": "2022-04-18T15:55:26.999Z"
   },
   {
    "duration": 1,
    "start_time": "2022-04-18T15:55:27.000Z"
   },
   {
    "duration": 0,
    "start_time": "2022-04-18T15:55:27.002Z"
   },
   {
    "duration": 0,
    "start_time": "2022-04-18T15:55:27.003Z"
   },
   {
    "duration": 0,
    "start_time": "2022-04-18T15:55:27.035Z"
   },
   {
    "duration": 0,
    "start_time": "2022-04-18T15:55:27.036Z"
   },
   {
    "duration": 0,
    "start_time": "2022-04-18T15:55:27.038Z"
   },
   {
    "duration": 0,
    "start_time": "2022-04-18T15:55:27.044Z"
   },
   {
    "duration": 0,
    "start_time": "2022-04-18T15:55:27.046Z"
   },
   {
    "duration": 0,
    "start_time": "2022-04-18T15:55:27.048Z"
   },
   {
    "duration": 0,
    "start_time": "2022-04-18T15:55:27.050Z"
   },
   {
    "duration": 0,
    "start_time": "2022-04-18T15:55:27.051Z"
   },
   {
    "duration": 1577,
    "start_time": "2022-04-18T15:57:26.855Z"
   },
   {
    "duration": 905,
    "start_time": "2022-04-18T15:57:28.442Z"
   },
   {
    "duration": 20,
    "start_time": "2022-04-18T15:57:29.349Z"
   },
   {
    "duration": 170,
    "start_time": "2022-04-18T15:57:29.371Z"
   },
   {
    "duration": 149,
    "start_time": "2022-04-18T15:57:29.543Z"
   },
   {
    "duration": 155,
    "start_time": "2022-04-18T15:57:29.693Z"
   },
   {
    "duration": 4,
    "start_time": "2022-04-18T15:57:29.850Z"
   },
   {
    "duration": 29,
    "start_time": "2022-04-18T15:57:29.856Z"
   },
   {
    "duration": 224,
    "start_time": "2022-04-18T15:57:29.887Z"
   },
   {
    "duration": 513,
    "start_time": "2022-04-18T15:57:30.113Z"
   },
   {
    "duration": 782,
    "start_time": "2022-04-18T15:57:30.628Z"
   },
   {
    "duration": 38,
    "start_time": "2022-04-18T15:57:31.412Z"
   },
   {
    "duration": 58,
    "start_time": "2022-04-18T15:57:31.452Z"
   },
   {
    "duration": 86,
    "start_time": "2022-04-18T15:57:31.513Z"
   },
   {
    "duration": 3,
    "start_time": "2022-04-18T15:57:31.601Z"
   },
   {
    "duration": 113,
    "start_time": "2022-04-18T15:57:31.606Z"
   },
   {
    "duration": 50,
    "start_time": "2022-04-18T15:57:31.721Z"
   },
   {
    "duration": 5,
    "start_time": "2022-04-18T15:57:31.773Z"
   },
   {
    "duration": 100,
    "start_time": "2022-04-18T15:57:31.780Z"
   },
   {
    "duration": 4,
    "start_time": "2022-04-18T15:57:31.882Z"
   },
   {
    "duration": 186,
    "start_time": "2022-04-18T15:57:31.888Z"
   },
   {
    "duration": 244,
    "start_time": "2022-04-18T15:57:32.077Z"
   },
   {
    "duration": 15,
    "start_time": "2022-04-18T15:57:32.324Z"
   },
   {
    "duration": 15,
    "start_time": "2022-04-18T15:57:32.345Z"
   },
   {
    "duration": 23,
    "start_time": "2022-04-18T15:57:32.362Z"
   },
   {
    "duration": 29,
    "start_time": "2022-04-18T15:57:32.387Z"
   },
   {
    "duration": 55,
    "start_time": "2022-04-18T15:57:32.440Z"
   },
   {
    "duration": 4,
    "start_time": "2022-04-18T15:57:32.497Z"
   },
   {
    "duration": 209,
    "start_time": "2022-04-18T15:57:32.502Z"
   },
   {
    "duration": 336,
    "start_time": "2022-04-18T15:57:32.713Z"
   },
   {
    "duration": 9,
    "start_time": "2022-04-18T15:57:33.051Z"
   },
   {
    "duration": 12,
    "start_time": "2022-04-18T15:57:33.062Z"
   },
   {
    "duration": 10,
    "start_time": "2022-04-18T15:57:33.075Z"
   },
   {
    "duration": 11,
    "start_time": "2022-04-18T15:57:33.087Z"
   },
   {
    "duration": 45,
    "start_time": "2022-04-18T15:57:33.100Z"
   },
   {
    "duration": 3,
    "start_time": "2022-04-18T15:57:33.147Z"
   },
   {
    "duration": 16,
    "start_time": "2022-04-18T15:57:33.151Z"
   },
   {
    "duration": 6,
    "start_time": "2022-04-18T15:57:33.168Z"
   },
   {
    "duration": 11,
    "start_time": "2022-04-18T15:57:33.176Z"
   },
   {
    "duration": 6,
    "start_time": "2022-04-18T15:57:33.189Z"
   },
   {
    "duration": 160,
    "start_time": "2022-04-18T15:57:33.198Z"
   },
   {
    "duration": 4,
    "start_time": "2022-04-18T15:57:33.360Z"
   },
   {
    "duration": 21,
    "start_time": "2022-04-18T15:57:33.365Z"
   },
   {
    "duration": 5,
    "start_time": "2022-04-18T15:57:33.388Z"
   },
   {
    "duration": 10,
    "start_time": "2022-04-18T15:57:33.394Z"
   },
   {
    "duration": 11,
    "start_time": "2022-04-18T16:00:25.389Z"
   },
   {
    "duration": 1627,
    "start_time": "2022-04-18T16:00:47.426Z"
   },
   {
    "duration": 936,
    "start_time": "2022-04-18T16:00:49.055Z"
   },
   {
    "duration": 20,
    "start_time": "2022-04-18T16:00:49.993Z"
   },
   {
    "duration": 176,
    "start_time": "2022-04-18T16:00:50.015Z"
   },
   {
    "duration": 160,
    "start_time": "2022-04-18T16:00:50.193Z"
   },
   {
    "duration": 157,
    "start_time": "2022-04-18T16:00:50.355Z"
   },
   {
    "duration": 5,
    "start_time": "2022-04-18T16:00:50.513Z"
   },
   {
    "duration": 54,
    "start_time": "2022-04-18T16:00:50.520Z"
   },
   {
    "duration": 200,
    "start_time": "2022-04-18T16:00:50.576Z"
   },
   {
    "duration": 513,
    "start_time": "2022-04-18T16:00:50.778Z"
   },
   {
    "duration": 756,
    "start_time": "2022-04-18T16:00:51.293Z"
   },
   {
    "duration": 31,
    "start_time": "2022-04-18T16:00:52.050Z"
   },
   {
    "duration": 62,
    "start_time": "2022-04-18T16:00:52.083Z"
   },
   {
    "duration": 76,
    "start_time": "2022-04-18T16:00:52.149Z"
   },
   {
    "duration": 9,
    "start_time": "2022-04-18T16:00:52.235Z"
   },
   {
    "duration": 101,
    "start_time": "2022-04-18T16:00:52.246Z"
   },
   {
    "duration": 42,
    "start_time": "2022-04-18T16:00:52.349Z"
   },
   {
    "duration": 5,
    "start_time": "2022-04-18T16:00:52.393Z"
   },
   {
    "duration": 79,
    "start_time": "2022-04-18T16:00:52.400Z"
   },
   {
    "duration": 3,
    "start_time": "2022-04-18T16:00:52.481Z"
   },
   {
    "duration": 186,
    "start_time": "2022-04-18T16:00:52.486Z"
   },
   {
    "duration": 238,
    "start_time": "2022-04-18T16:00:52.673Z"
   },
   {
    "duration": 7,
    "start_time": "2022-04-18T16:00:52.913Z"
   },
   {
    "duration": 15,
    "start_time": "2022-04-18T16:00:52.934Z"
   },
   {
    "duration": 22,
    "start_time": "2022-04-18T16:00:52.951Z"
   },
   {
    "duration": 14,
    "start_time": "2022-04-18T16:00:52.975Z"
   },
   {
    "duration": 76,
    "start_time": "2022-04-18T16:00:52.990Z"
   },
   {
    "duration": 4,
    "start_time": "2022-04-18T16:00:53.068Z"
   },
   {
    "duration": 202,
    "start_time": "2022-04-18T16:00:53.074Z"
   },
   {
    "duration": 339,
    "start_time": "2022-04-18T16:00:53.278Z"
   },
   {
    "duration": 9,
    "start_time": "2022-04-18T16:00:53.619Z"
   },
   {
    "duration": 12,
    "start_time": "2022-04-18T16:00:53.640Z"
   },
   {
    "duration": 11,
    "start_time": "2022-04-18T16:00:53.654Z"
   },
   {
    "duration": 11,
    "start_time": "2022-04-18T16:00:53.667Z"
   },
   {
    "duration": 9,
    "start_time": "2022-04-18T16:00:53.680Z"
   },
   {
    "duration": 3,
    "start_time": "2022-04-18T16:00:53.691Z"
   },
   {
    "duration": 10,
    "start_time": "2022-04-18T16:00:53.695Z"
   },
   {
    "duration": 13,
    "start_time": "2022-04-18T16:00:53.737Z"
   },
   {
    "duration": 9,
    "start_time": "2022-04-18T16:00:53.753Z"
   },
   {
    "duration": 6,
    "start_time": "2022-04-18T16:00:53.763Z"
   },
   {
    "duration": 173,
    "start_time": "2022-04-18T16:00:53.773Z"
   },
   {
    "duration": 6,
    "start_time": "2022-04-18T16:00:53.948Z"
   },
   {
    "duration": 21,
    "start_time": "2022-04-18T16:00:53.955Z"
   },
   {
    "duration": 3,
    "start_time": "2022-04-18T16:00:53.978Z"
   },
   {
    "duration": 9,
    "start_time": "2022-04-18T16:00:53.982Z"
   },
   {
    "duration": 3,
    "start_time": "2022-04-18T16:02:12.174Z"
   },
   {
    "duration": 3,
    "start_time": "2022-04-18T16:02:14.421Z"
   },
   {
    "duration": 55,
    "start_time": "2022-04-18T16:02:16.173Z"
   },
   {
    "duration": 58,
    "start_time": "2022-04-18T16:02:24.869Z"
   },
   {
    "duration": 56,
    "start_time": "2022-04-18T16:02:29.669Z"
   },
   {
    "duration": 134,
    "start_time": "2022-04-18T16:03:13.750Z"
   },
   {
    "duration": 1666,
    "start_time": "2022-04-18T16:03:39.233Z"
   },
   {
    "duration": 944,
    "start_time": "2022-04-18T16:03:40.901Z"
   },
   {
    "duration": 21,
    "start_time": "2022-04-18T16:03:41.848Z"
   },
   {
    "duration": 175,
    "start_time": "2022-04-18T16:03:41.870Z"
   },
   {
    "duration": 143,
    "start_time": "2022-04-18T16:03:42.048Z"
   },
   {
    "duration": 154,
    "start_time": "2022-04-18T16:03:42.193Z"
   },
   {
    "duration": 4,
    "start_time": "2022-04-18T16:03:42.350Z"
   },
   {
    "duration": 28,
    "start_time": "2022-04-18T16:03:42.356Z"
   },
   {
    "duration": 206,
    "start_time": "2022-04-18T16:03:42.386Z"
   },
   {
    "duration": 512,
    "start_time": "2022-04-18T16:03:42.594Z"
   },
   {
    "duration": 742,
    "start_time": "2022-04-18T16:03:43.108Z"
   },
   {
    "duration": 31,
    "start_time": "2022-04-18T16:03:43.852Z"
   },
   {
    "duration": 72,
    "start_time": "2022-04-18T16:03:43.885Z"
   },
   {
    "duration": 90,
    "start_time": "2022-04-18T16:03:43.960Z"
   },
   {
    "duration": 3,
    "start_time": "2022-04-18T16:03:44.051Z"
   },
   {
    "duration": 111,
    "start_time": "2022-04-18T16:03:44.056Z"
   },
   {
    "duration": 39,
    "start_time": "2022-04-18T16:03:44.169Z"
   },
   {
    "duration": 4,
    "start_time": "2022-04-18T16:03:44.210Z"
   },
   {
    "duration": 85,
    "start_time": "2022-04-18T16:03:44.216Z"
   },
   {
    "duration": 3,
    "start_time": "2022-04-18T16:03:44.302Z"
   },
   {
    "duration": 195,
    "start_time": "2022-04-18T16:03:44.306Z"
   },
   {
    "duration": 251,
    "start_time": "2022-04-18T16:03:44.503Z"
   },
   {
    "duration": 7,
    "start_time": "2022-04-18T16:03:44.756Z"
   },
   {
    "duration": 17,
    "start_time": "2022-04-18T16:03:44.765Z"
   },
   {
    "duration": 24,
    "start_time": "2022-04-18T16:03:44.784Z"
   },
   {
    "duration": 36,
    "start_time": "2022-04-18T16:03:44.810Z"
   },
   {
    "duration": 65,
    "start_time": "2022-04-18T16:03:44.848Z"
   },
   {
    "duration": 4,
    "start_time": "2022-04-18T16:03:44.915Z"
   },
   {
    "duration": 206,
    "start_time": "2022-04-18T16:03:44.921Z"
   },
   {
    "duration": 341,
    "start_time": "2022-04-18T16:03:45.129Z"
   },
   {
    "duration": 10,
    "start_time": "2022-04-18T16:03:45.471Z"
   },
   {
    "duration": 10,
    "start_time": "2022-04-18T16:03:45.483Z"
   },
   {
    "duration": 11,
    "start_time": "2022-04-18T16:03:45.494Z"
   },
   {
    "duration": 41,
    "start_time": "2022-04-18T16:03:45.506Z"
   },
   {
    "duration": 18,
    "start_time": "2022-04-18T16:03:45.550Z"
   },
   {
    "duration": 2,
    "start_time": "2022-04-18T16:03:45.570Z"
   },
   {
    "duration": 10,
    "start_time": "2022-04-18T16:03:45.573Z"
   },
   {
    "duration": 7,
    "start_time": "2022-04-18T16:03:45.584Z"
   },
   {
    "duration": 9,
    "start_time": "2022-04-18T16:03:45.593Z"
   },
   {
    "duration": 32,
    "start_time": "2022-04-18T16:03:45.603Z"
   },
   {
    "duration": 131,
    "start_time": "2022-04-18T16:03:45.643Z"
   },
   {
    "duration": 4,
    "start_time": "2022-04-18T16:03:45.776Z"
   },
   {
    "duration": 23,
    "start_time": "2022-04-18T16:03:45.781Z"
   },
   {
    "duration": 11,
    "start_time": "2022-04-18T16:03:45.806Z"
   },
   {
    "duration": 6,
    "start_time": "2022-04-18T16:03:45.820Z"
   },
   {
    "duration": 63,
    "start_time": "2022-04-18T16:03:45.835Z"
   },
   {
    "duration": 940,
    "start_time": "2022-04-18T16:03:51.968Z"
   },
   {
    "duration": 119,
    "start_time": "2022-04-18T16:03:57.153Z"
   },
   {
    "duration": 5,
    "start_time": "2022-04-18T16:04:00.448Z"
   },
   {
    "duration": 4,
    "start_time": "2022-04-18T16:04:13.488Z"
   },
   {
    "duration": 6,
    "start_time": "2022-04-18T16:07:31.552Z"
   },
   {
    "duration": 3,
    "start_time": "2022-04-18T16:07:59.482Z"
   },
   {
    "duration": 4,
    "start_time": "2022-04-18T16:08:02.961Z"
   },
   {
    "duration": 5,
    "start_time": "2022-04-18T16:08:06.608Z"
   },
   {
    "duration": 4,
    "start_time": "2022-04-18T16:08:12.049Z"
   },
   {
    "duration": 5,
    "start_time": "2022-04-18T16:08:19.353Z"
   },
   {
    "duration": 10,
    "start_time": "2022-04-18T16:55:40.375Z"
   },
   {
    "duration": 5,
    "start_time": "2022-04-18T16:55:51.008Z"
   },
   {
    "duration": 5,
    "start_time": "2022-04-18T16:56:11.463Z"
   },
   {
    "duration": 6,
    "start_time": "2022-04-18T16:56:16.735Z"
   },
   {
    "duration": 15,
    "start_time": "2022-04-18T16:56:33.640Z"
   },
   {
    "duration": 5,
    "start_time": "2022-04-18T16:56:38.826Z"
   },
   {
    "duration": 7,
    "start_time": "2022-04-18T16:57:02.584Z"
   },
   {
    "duration": 6,
    "start_time": "2022-04-18T16:57:27.866Z"
   },
   {
    "duration": 7,
    "start_time": "2022-04-18T16:57:32.918Z"
   },
   {
    "duration": 3,
    "start_time": "2022-04-18T17:00:17.423Z"
   },
   {
    "duration": 6,
    "start_time": "2022-04-18T17:00:23.455Z"
   },
   {
    "duration": 5,
    "start_time": "2022-04-18T17:00:42.488Z"
   },
   {
    "duration": 18,
    "start_time": "2022-04-18T17:01:00.087Z"
   },
   {
    "duration": 4,
    "start_time": "2022-04-18T17:01:16.135Z"
   },
   {
    "duration": 5,
    "start_time": "2022-04-18T17:01:19.768Z"
   },
   {
    "duration": 4,
    "start_time": "2022-04-18T17:04:15.374Z"
   },
   {
    "duration": 31,
    "start_time": "2022-04-18T17:06:08.601Z"
   },
   {
    "duration": 3,
    "start_time": "2022-04-18T17:06:32.214Z"
   },
   {
    "duration": 4,
    "start_time": "2022-04-18T17:06:41.395Z"
   },
   {
    "duration": 4,
    "start_time": "2022-04-18T17:06:47.890Z"
   },
   {
    "duration": 4,
    "start_time": "2022-04-18T17:06:57.187Z"
   },
   {
    "duration": 4,
    "start_time": "2022-04-18T17:07:08.403Z"
   },
   {
    "duration": 258,
    "start_time": "2022-04-18T17:07:15.154Z"
   },
   {
    "duration": 2,
    "start_time": "2022-04-18T17:12:54.527Z"
   },
   {
    "duration": 262,
    "start_time": "2022-04-18T17:12:58.016Z"
   },
   {
    "duration": 1917,
    "start_time": "2022-04-18T17:13:51.625Z"
   },
   {
    "duration": 168,
    "start_time": "2022-04-18T17:13:58.521Z"
   },
   {
    "duration": 2920,
    "start_time": "2022-04-18T17:14:32.044Z"
   },
   {
    "duration": 40,
    "start_time": "2022-04-18T17:14:38.644Z"
   },
   {
    "duration": 6,
    "start_time": "2022-04-18T17:15:00.635Z"
   },
   {
    "duration": 6,
    "start_time": "2022-04-18T17:15:04.203Z"
   },
   {
    "duration": 5,
    "start_time": "2022-04-18T17:15:09.555Z"
   },
   {
    "duration": 7,
    "start_time": "2022-04-18T17:15:13.020Z"
   },
   {
    "duration": 100,
    "start_time": "2022-04-18T17:15:27.108Z"
   },
   {
    "duration": 1855,
    "start_time": "2022-04-18T17:16:08.245Z"
   },
   {
    "duration": 176,
    "start_time": "2022-04-18T17:16:11.462Z"
   },
   {
    "duration": 3,
    "start_time": "2022-04-18T17:16:34.759Z"
   },
   {
    "duration": 10,
    "start_time": "2022-04-18T17:18:49.476Z"
   },
   {
    "duration": 3,
    "start_time": "2022-04-18T17:18:54.906Z"
   },
   {
    "duration": 315,
    "start_time": "2022-04-18T17:19:00.046Z"
   },
   {
    "duration": 102,
    "start_time": "2022-04-18T17:19:12.772Z"
   },
   {
    "duration": 194,
    "start_time": "2022-04-18T17:19:47.629Z"
   },
   {
    "duration": 86,
    "start_time": "2022-04-18T17:19:52.124Z"
   },
   {
    "duration": 6,
    "start_time": "2022-04-18T17:20:01.855Z"
   },
   {
    "duration": 18,
    "start_time": "2022-04-18T17:20:15.381Z"
   },
   {
    "duration": 2,
    "start_time": "2022-04-18T17:23:28.565Z"
   },
   {
    "duration": 14,
    "start_time": "2022-04-18T17:25:29.577Z"
   },
   {
    "duration": 1614,
    "start_time": "2022-04-18T17:25:50.676Z"
   },
   {
    "duration": 866,
    "start_time": "2022-04-18T17:25:52.292Z"
   },
   {
    "duration": 19,
    "start_time": "2022-04-18T17:25:53.160Z"
   },
   {
    "duration": 159,
    "start_time": "2022-04-18T17:25:53.181Z"
   },
   {
    "duration": 137,
    "start_time": "2022-04-18T17:25:53.342Z"
   },
   {
    "duration": 135,
    "start_time": "2022-04-18T17:25:53.481Z"
   },
   {
    "duration": 4,
    "start_time": "2022-04-18T17:25:53.618Z"
   },
   {
    "duration": 24,
    "start_time": "2022-04-18T17:25:53.624Z"
   },
   {
    "duration": 207,
    "start_time": "2022-04-18T17:25:53.650Z"
   },
   {
    "duration": 534,
    "start_time": "2022-04-18T17:25:53.859Z"
   },
   {
    "duration": 720,
    "start_time": "2022-04-18T17:25:54.395Z"
   },
   {
    "duration": 36,
    "start_time": "2022-04-18T17:25:55.117Z"
   },
   {
    "duration": 44,
    "start_time": "2022-04-18T17:25:55.154Z"
   },
   {
    "duration": 102,
    "start_time": "2022-04-18T17:25:55.201Z"
   },
   {
    "duration": 3,
    "start_time": "2022-04-18T17:25:55.304Z"
   },
   {
    "duration": 110,
    "start_time": "2022-04-18T17:25:55.309Z"
   },
   {
    "duration": 46,
    "start_time": "2022-04-18T17:25:55.421Z"
   },
   {
    "duration": 5,
    "start_time": "2022-04-18T17:25:55.469Z"
   },
   {
    "duration": 86,
    "start_time": "2022-04-18T17:25:55.475Z"
   },
   {
    "duration": 3,
    "start_time": "2022-04-18T17:25:55.562Z"
   },
   {
    "duration": 184,
    "start_time": "2022-04-18T17:25:55.567Z"
   },
   {
    "duration": 231,
    "start_time": "2022-04-18T17:25:55.753Z"
   },
   {
    "duration": 7,
    "start_time": "2022-04-18T17:25:55.986Z"
   },
   {
    "duration": 6,
    "start_time": "2022-04-18T17:25:55.995Z"
   },
   {
    "duration": 45,
    "start_time": "2022-04-18T17:25:56.003Z"
   },
   {
    "duration": 13,
    "start_time": "2022-04-18T17:25:56.050Z"
   },
   {
    "duration": 73,
    "start_time": "2022-04-18T17:25:56.065Z"
   },
   {
    "duration": 4,
    "start_time": "2022-04-18T17:25:56.139Z"
   },
   {
    "duration": 178,
    "start_time": "2022-04-18T17:25:56.145Z"
   },
   {
    "duration": 328,
    "start_time": "2022-04-18T17:25:56.325Z"
   },
   {
    "duration": 9,
    "start_time": "2022-04-18T17:25:56.655Z"
   },
   {
    "duration": 10,
    "start_time": "2022-04-18T17:25:56.666Z"
   },
   {
    "duration": 11,
    "start_time": "2022-04-18T17:25:56.678Z"
   },
   {
    "duration": 12,
    "start_time": "2022-04-18T17:25:56.690Z"
   },
   {
    "duration": 11,
    "start_time": "2022-04-18T17:25:56.734Z"
   },
   {
    "duration": 3,
    "start_time": "2022-04-18T17:25:56.747Z"
   },
   {
    "duration": 11,
    "start_time": "2022-04-18T17:25:56.751Z"
   },
   {
    "duration": 6,
    "start_time": "2022-04-18T17:25:56.764Z"
   },
   {
    "duration": 6,
    "start_time": "2022-04-18T17:25:56.772Z"
   },
   {
    "duration": 7,
    "start_time": "2022-04-18T17:25:56.780Z"
   },
   {
    "duration": 169,
    "start_time": "2022-04-18T17:25:56.792Z"
   },
   {
    "duration": 5,
    "start_time": "2022-04-18T17:25:56.963Z"
   },
   {
    "duration": 7,
    "start_time": "2022-04-18T17:25:56.969Z"
   },
   {
    "duration": 78,
    "start_time": "2022-04-18T17:25:56.977Z"
   },
   {
    "duration": 954,
    "start_time": "2022-04-18T17:25:57.057Z"
   },
   {
    "duration": 3,
    "start_time": "2022-04-18T17:25:58.013Z"
   },
   {
    "duration": 130,
    "start_time": "2022-04-18T17:25:58.018Z"
   },
   {
    "duration": 0,
    "start_time": "2022-04-18T17:25:58.149Z"
   },
   {
    "duration": 0,
    "start_time": "2022-04-18T17:25:58.150Z"
   },
   {
    "duration": 0,
    "start_time": "2022-04-18T17:25:58.152Z"
   },
   {
    "duration": 0,
    "start_time": "2022-04-18T17:25:58.153Z"
   },
   {
    "duration": 0,
    "start_time": "2022-04-18T17:25:58.154Z"
   },
   {
    "duration": 0,
    "start_time": "2022-04-18T17:25:58.155Z"
   },
   {
    "duration": 3,
    "start_time": "2022-04-18T17:26:30.518Z"
   },
   {
    "duration": 3,
    "start_time": "2022-04-18T17:26:32.741Z"
   },
   {
    "duration": 2513,
    "start_time": "2022-04-18T17:26:35.053Z"
   },
   {
    "duration": 212,
    "start_time": "2022-04-18T17:26:41.478Z"
   },
   {
    "duration": 17,
    "start_time": "2022-04-18T17:26:45.278Z"
   },
   {
    "duration": 3,
    "start_time": "2022-04-18T17:42:21.507Z"
   },
   {
    "duration": 1556,
    "start_time": "2022-04-18T18:12:47.626Z"
   },
   {
    "duration": 899,
    "start_time": "2022-04-18T18:12:49.184Z"
   },
   {
    "duration": 18,
    "start_time": "2022-04-18T18:12:50.085Z"
   },
   {
    "duration": 156,
    "start_time": "2022-04-18T18:12:50.106Z"
   },
   {
    "duration": 143,
    "start_time": "2022-04-18T18:12:50.263Z"
   },
   {
    "duration": 140,
    "start_time": "2022-04-18T18:12:50.407Z"
   },
   {
    "duration": 4,
    "start_time": "2022-04-18T18:12:50.549Z"
   },
   {
    "duration": 29,
    "start_time": "2022-04-18T18:12:50.555Z"
   },
   {
    "duration": 207,
    "start_time": "2022-04-18T18:12:50.586Z"
   },
   {
    "duration": 490,
    "start_time": "2022-04-18T18:12:50.797Z"
   },
   {
    "duration": 748,
    "start_time": "2022-04-18T18:12:51.289Z"
   },
   {
    "duration": 31,
    "start_time": "2022-04-18T18:12:52.038Z"
   },
   {
    "duration": 72,
    "start_time": "2022-04-18T18:12:52.072Z"
   },
   {
    "duration": 75,
    "start_time": "2022-04-18T18:12:52.146Z"
   },
   {
    "duration": 12,
    "start_time": "2022-04-18T18:12:52.223Z"
   },
   {
    "duration": 103,
    "start_time": "2022-04-18T18:12:52.238Z"
   },
   {
    "duration": 41,
    "start_time": "2022-04-18T18:12:52.342Z"
   },
   {
    "duration": 4,
    "start_time": "2022-04-18T18:12:52.385Z"
   },
   {
    "duration": 86,
    "start_time": "2022-04-18T18:12:52.390Z"
   },
   {
    "duration": 2,
    "start_time": "2022-04-18T18:12:52.478Z"
   },
   {
    "duration": 180,
    "start_time": "2022-04-18T18:12:52.482Z"
   },
   {
    "duration": 222,
    "start_time": "2022-04-18T18:12:52.664Z"
   },
   {
    "duration": 7,
    "start_time": "2022-04-18T18:12:52.888Z"
   },
   {
    "duration": 7,
    "start_time": "2022-04-18T18:12:52.896Z"
   },
   {
    "duration": 42,
    "start_time": "2022-04-18T18:12:52.904Z"
   },
   {
    "duration": 13,
    "start_time": "2022-04-18T18:12:52.948Z"
   },
   {
    "duration": 73,
    "start_time": "2022-04-18T18:12:52.963Z"
   },
   {
    "duration": 4,
    "start_time": "2022-04-18T18:12:53.040Z"
   },
   {
    "duration": 179,
    "start_time": "2022-04-18T18:12:53.045Z"
   },
   {
    "duration": 325,
    "start_time": "2022-04-18T18:12:53.226Z"
   },
   {
    "duration": 10,
    "start_time": "2022-04-18T18:12:53.553Z"
   },
   {
    "duration": 9,
    "start_time": "2022-04-18T18:12:53.565Z"
   },
   {
    "duration": 10,
    "start_time": "2022-04-18T18:12:53.576Z"
   },
   {
    "duration": 12,
    "start_time": "2022-04-18T18:12:53.588Z"
   },
   {
    "duration": 40,
    "start_time": "2022-04-18T18:12:53.601Z"
   },
   {
    "duration": 2,
    "start_time": "2022-04-18T18:12:53.643Z"
   },
   {
    "duration": 8,
    "start_time": "2022-04-18T18:12:53.647Z"
   },
   {
    "duration": 6,
    "start_time": "2022-04-18T18:12:53.657Z"
   },
   {
    "duration": 8,
    "start_time": "2022-04-18T18:12:53.664Z"
   },
   {
    "duration": 4,
    "start_time": "2022-04-18T18:12:53.674Z"
   },
   {
    "duration": 154,
    "start_time": "2022-04-18T18:12:53.680Z"
   },
   {
    "duration": 4,
    "start_time": "2022-04-18T18:12:53.836Z"
   },
   {
    "duration": 5,
    "start_time": "2022-04-18T18:12:53.842Z"
   },
   {
    "duration": 60,
    "start_time": "2022-04-18T18:12:53.849Z"
   },
   {
    "duration": 943,
    "start_time": "2022-04-18T18:12:53.911Z"
   },
   {
    "duration": 3,
    "start_time": "2022-04-18T18:12:54.855Z"
   },
   {
    "duration": 6,
    "start_time": "2022-04-18T18:12:54.860Z"
   },
   {
    "duration": 6,
    "start_time": "2022-04-18T18:12:54.868Z"
   },
   {
    "duration": 2543,
    "start_time": "2022-04-18T18:12:54.876Z"
   },
   {
    "duration": 244,
    "start_time": "2022-04-18T18:12:57.422Z"
   },
   {
    "duration": 17,
    "start_time": "2022-04-18T18:12:57.668Z"
   },
   {
    "duration": 3,
    "start_time": "2022-04-18T18:27:24.693Z"
   },
   {
    "duration": 4,
    "start_time": "2022-04-18T18:27:35.105Z"
   },
   {
    "duration": 843,
    "start_time": "2022-04-18T18:27:35.112Z"
   },
   {
    "duration": 14,
    "start_time": "2022-04-18T18:27:35.957Z"
   },
   {
    "duration": 142,
    "start_time": "2022-04-18T18:27:35.973Z"
   },
   {
    "duration": 137,
    "start_time": "2022-04-18T18:27:36.117Z"
   },
   {
    "duration": 138,
    "start_time": "2022-04-18T18:27:36.256Z"
   },
   {
    "duration": 4,
    "start_time": "2022-04-18T18:27:36.396Z"
   },
   {
    "duration": 38,
    "start_time": "2022-04-18T18:27:36.401Z"
   },
   {
    "duration": 154,
    "start_time": "2022-04-18T18:27:36.441Z"
   },
   {
    "duration": 434,
    "start_time": "2022-04-18T18:27:36.597Z"
   },
   {
    "duration": 566,
    "start_time": "2022-04-18T18:27:37.034Z"
   },
   {
    "duration": 35,
    "start_time": "2022-04-18T18:27:37.602Z"
   },
   {
    "duration": 40,
    "start_time": "2022-04-18T18:27:37.640Z"
   },
   {
    "duration": 60,
    "start_time": "2022-04-18T18:27:37.682Z"
   },
   {
    "duration": 3,
    "start_time": "2022-04-18T18:27:37.744Z"
   },
   {
    "duration": 93,
    "start_time": "2022-04-18T18:27:37.748Z"
   },
   {
    "duration": 33,
    "start_time": "2022-04-18T18:27:37.843Z"
   },
   {
    "duration": 4,
    "start_time": "2022-04-18T18:27:37.878Z"
   },
   {
    "duration": 75,
    "start_time": "2022-04-18T18:27:37.884Z"
   },
   {
    "duration": 3,
    "start_time": "2022-04-18T18:27:37.961Z"
   },
   {
    "duration": 162,
    "start_time": "2022-04-18T18:27:37.966Z"
   },
   {
    "duration": 232,
    "start_time": "2022-04-18T18:27:38.134Z"
   },
   {
    "duration": 7,
    "start_time": "2022-04-18T18:27:38.368Z"
   },
   {
    "duration": 6,
    "start_time": "2022-04-18T18:27:38.377Z"
   },
   {
    "duration": 17,
    "start_time": "2022-04-18T18:27:38.385Z"
   },
   {
    "duration": 38,
    "start_time": "2022-04-18T18:27:38.404Z"
   },
   {
    "duration": 45,
    "start_time": "2022-04-18T18:27:38.444Z"
   },
   {
    "duration": 4,
    "start_time": "2022-04-18T18:27:38.491Z"
   },
   {
    "duration": 184,
    "start_time": "2022-04-18T18:27:38.497Z"
   },
   {
    "duration": 240,
    "start_time": "2022-04-18T18:27:38.683Z"
   },
   {
    "duration": 15,
    "start_time": "2022-04-18T18:27:38.924Z"
   },
   {
    "duration": 10,
    "start_time": "2022-04-18T18:27:38.940Z"
   },
   {
    "duration": 13,
    "start_time": "2022-04-18T18:27:38.952Z"
   },
   {
    "duration": 11,
    "start_time": "2022-04-18T18:27:38.967Z"
   },
   {
    "duration": 12,
    "start_time": "2022-04-18T18:27:38.980Z"
   },
   {
    "duration": 2,
    "start_time": "2022-04-18T18:27:38.994Z"
   },
   {
    "duration": 39,
    "start_time": "2022-04-18T18:27:39.000Z"
   },
   {
    "duration": 7,
    "start_time": "2022-04-18T18:27:39.043Z"
   },
   {
    "duration": 10,
    "start_time": "2022-04-18T18:27:39.052Z"
   },
   {
    "duration": 8,
    "start_time": "2022-04-18T18:27:39.064Z"
   },
   {
    "duration": 134,
    "start_time": "2022-04-18T18:27:39.073Z"
   },
   {
    "duration": 4,
    "start_time": "2022-04-18T18:27:39.209Z"
   },
   {
    "duration": 6,
    "start_time": "2022-04-18T18:27:39.214Z"
   },
   {
    "duration": 69,
    "start_time": "2022-04-18T18:27:39.222Z"
   },
   {
    "duration": 4,
    "start_time": "2022-04-18T18:27:39.293Z"
   },
   {
    "duration": 7,
    "start_time": "2022-04-18T18:27:39.299Z"
   },
   {
    "duration": 3209,
    "start_time": "2022-04-18T18:28:02.582Z"
   },
   {
    "duration": 67,
    "start_time": "2022-04-18T18:28:08.948Z"
   },
   {
    "duration": 32,
    "start_time": "2022-04-18T18:28:22.389Z"
   },
   {
    "duration": 16,
    "start_time": "2022-04-18T18:28:29.533Z"
   },
   {
    "duration": 3,
    "start_time": "2022-04-18T18:28:53.958Z"
   },
   {
    "duration": 4,
    "start_time": "2022-04-18T18:29:04.006Z"
   },
   {
    "duration": 17,
    "start_time": "2022-04-18T18:29:13.463Z"
   },
   {
    "duration": 3103,
    "start_time": "2022-04-18T18:29:30.391Z"
   },
   {
    "duration": 61,
    "start_time": "2022-04-18T18:29:40.032Z"
   },
   {
    "duration": 839,
    "start_time": "2022-04-18T18:31:47.167Z"
   },
   {
    "duration": 792,
    "start_time": "2022-04-18T18:32:22.053Z"
   },
   {
    "duration": 42,
    "start_time": "2022-04-18T18:32:28.812Z"
   },
   {
    "duration": 43,
    "start_time": "2022-04-18T18:32:50.086Z"
   },
   {
    "duration": 46,
    "start_time": "2022-04-18T18:33:01.647Z"
   },
   {
    "duration": 23921,
    "start_time": "2022-04-18T18:40:33.620Z"
   },
   {
    "duration": 17,
    "start_time": "2022-04-18T18:41:31.446Z"
   },
   {
    "duration": 19,
    "start_time": "2022-04-18T18:41:42.173Z"
   },
   {
    "duration": 52,
    "start_time": "2022-04-18T18:41:48.680Z"
   },
   {
    "duration": 1818,
    "start_time": "2022-04-18T18:43:42.996Z"
   },
   {
    "duration": 1215,
    "start_time": "2022-04-18T18:43:44.817Z"
   },
   {
    "duration": 19,
    "start_time": "2022-04-18T18:43:46.034Z"
   },
   {
    "duration": 157,
    "start_time": "2022-04-18T18:43:46.056Z"
   },
   {
    "duration": 141,
    "start_time": "2022-04-18T18:43:46.215Z"
   },
   {
    "duration": 144,
    "start_time": "2022-04-18T18:43:46.357Z"
   },
   {
    "duration": 4,
    "start_time": "2022-04-18T18:43:46.503Z"
   },
   {
    "duration": 38,
    "start_time": "2022-04-18T18:43:46.509Z"
   },
   {
    "duration": 203,
    "start_time": "2022-04-18T18:43:46.549Z"
   },
   {
    "duration": 561,
    "start_time": "2022-04-18T18:43:46.755Z"
   },
   {
    "duration": 807,
    "start_time": "2022-04-18T18:43:47.317Z"
   },
   {
    "duration": 30,
    "start_time": "2022-04-18T18:43:48.126Z"
   },
   {
    "duration": 75,
    "start_time": "2022-04-18T18:43:48.158Z"
   },
   {
    "duration": 79,
    "start_time": "2022-04-18T18:43:48.235Z"
   },
   {
    "duration": 3,
    "start_time": "2022-04-18T18:43:48.316Z"
   },
   {
    "duration": 110,
    "start_time": "2022-04-18T18:43:48.333Z"
   },
   {
    "duration": 41,
    "start_time": "2022-04-18T18:43:48.445Z"
   },
   {
    "duration": 4,
    "start_time": "2022-04-18T18:43:48.488Z"
   },
   {
    "duration": 105,
    "start_time": "2022-04-18T18:43:48.493Z"
   },
   {
    "duration": 3,
    "start_time": "2022-04-18T18:43:48.599Z"
   },
   {
    "duration": 195,
    "start_time": "2022-04-18T18:43:48.604Z"
   },
   {
    "duration": 255,
    "start_time": "2022-04-18T18:43:48.801Z"
   },
   {
    "duration": 8,
    "start_time": "2022-04-18T18:43:49.058Z"
   },
   {
    "duration": 12,
    "start_time": "2022-04-18T18:43:49.067Z"
   },
   {
    "duration": 21,
    "start_time": "2022-04-18T18:43:49.081Z"
   },
   {
    "duration": 178,
    "start_time": "2022-04-18T18:43:49.104Z"
   },
   {
    "duration": 0,
    "start_time": "2022-04-18T18:43:49.285Z"
   },
   {
    "duration": 0,
    "start_time": "2022-04-18T18:43:49.287Z"
   },
   {
    "duration": 0,
    "start_time": "2022-04-18T18:43:49.288Z"
   },
   {
    "duration": 0,
    "start_time": "2022-04-18T18:43:49.289Z"
   },
   {
    "duration": 0,
    "start_time": "2022-04-18T18:43:49.290Z"
   },
   {
    "duration": 0,
    "start_time": "2022-04-18T18:43:49.291Z"
   },
   {
    "duration": 0,
    "start_time": "2022-04-18T18:43:49.292Z"
   },
   {
    "duration": 1,
    "start_time": "2022-04-18T18:43:49.293Z"
   },
   {
    "duration": 0,
    "start_time": "2022-04-18T18:43:49.295Z"
   },
   {
    "duration": 0,
    "start_time": "2022-04-18T18:43:49.296Z"
   },
   {
    "duration": 0,
    "start_time": "2022-04-18T18:43:49.297Z"
   },
   {
    "duration": 0,
    "start_time": "2022-04-18T18:43:49.298Z"
   },
   {
    "duration": 0,
    "start_time": "2022-04-18T18:43:49.299Z"
   },
   {
    "duration": 0,
    "start_time": "2022-04-18T18:43:49.300Z"
   },
   {
    "duration": 0,
    "start_time": "2022-04-18T18:43:49.334Z"
   },
   {
    "duration": 0,
    "start_time": "2022-04-18T18:43:49.335Z"
   },
   {
    "duration": 0,
    "start_time": "2022-04-18T18:43:49.337Z"
   },
   {
    "duration": 0,
    "start_time": "2022-04-18T18:43:49.338Z"
   },
   {
    "duration": 0,
    "start_time": "2022-04-18T18:43:49.339Z"
   },
   {
    "duration": 0,
    "start_time": "2022-04-18T18:43:49.340Z"
   },
   {
    "duration": 0,
    "start_time": "2022-04-18T18:43:49.341Z"
   },
   {
    "duration": 0,
    "start_time": "2022-04-18T18:43:49.343Z"
   },
   {
    "duration": 0,
    "start_time": "2022-04-18T18:43:49.344Z"
   },
   {
    "duration": 0,
    "start_time": "2022-04-18T18:43:49.345Z"
   },
   {
    "duration": 0,
    "start_time": "2022-04-18T18:43:49.346Z"
   },
   {
    "duration": 19,
    "start_time": "2022-04-18T18:44:30.530Z"
   },
   {
    "duration": 18,
    "start_time": "2022-04-18T18:44:54.392Z"
   },
   {
    "duration": 1757,
    "start_time": "2022-04-18T18:46:09.663Z"
   },
   {
    "duration": 934,
    "start_time": "2022-04-18T18:46:11.422Z"
   },
   {
    "duration": 20,
    "start_time": "2022-04-18T18:46:12.357Z"
   },
   {
    "duration": 163,
    "start_time": "2022-04-18T18:46:12.380Z"
   },
   {
    "duration": 150,
    "start_time": "2022-04-18T18:46:12.545Z"
   },
   {
    "duration": 142,
    "start_time": "2022-04-18T18:46:12.697Z"
   },
   {
    "duration": 4,
    "start_time": "2022-04-18T18:46:12.841Z"
   },
   {
    "duration": 30,
    "start_time": "2022-04-18T18:46:12.847Z"
   },
   {
    "duration": 208,
    "start_time": "2022-04-18T18:46:12.879Z"
   },
   {
    "duration": 517,
    "start_time": "2022-04-18T18:46:13.090Z"
   },
   {
    "duration": 792,
    "start_time": "2022-04-18T18:46:13.608Z"
   },
   {
    "duration": 39,
    "start_time": "2022-04-18T18:46:14.402Z"
   },
   {
    "duration": 65,
    "start_time": "2022-04-18T18:46:14.443Z"
   },
   {
    "duration": 95,
    "start_time": "2022-04-18T18:46:14.509Z"
   },
   {
    "duration": 3,
    "start_time": "2022-04-18T18:46:14.606Z"
   },
   {
    "duration": 109,
    "start_time": "2022-04-18T18:46:14.611Z"
   },
   {
    "duration": 49,
    "start_time": "2022-04-18T18:46:14.722Z"
   },
   {
    "duration": 5,
    "start_time": "2022-04-18T18:46:14.776Z"
   },
   {
    "duration": 95,
    "start_time": "2022-04-18T18:46:14.783Z"
   },
   {
    "duration": 3,
    "start_time": "2022-04-18T18:46:14.881Z"
   },
   {
    "duration": 214,
    "start_time": "2022-04-18T18:46:14.887Z"
   },
   {
    "duration": 275,
    "start_time": "2022-04-18T18:46:15.103Z"
   },
   {
    "duration": 7,
    "start_time": "2022-04-18T18:46:15.380Z"
   },
   {
    "duration": 20,
    "start_time": "2022-04-18T18:46:15.389Z"
   },
   {
    "duration": 38,
    "start_time": "2022-04-18T18:46:15.411Z"
   },
   {
    "duration": 26,
    "start_time": "2022-04-18T18:46:15.451Z"
   },
   {
    "duration": 73,
    "start_time": "2022-04-18T18:46:15.479Z"
   },
   {
    "duration": 4,
    "start_time": "2022-04-18T18:46:15.556Z"
   },
   {
    "duration": 195,
    "start_time": "2022-04-18T18:46:15.562Z"
   },
   {
    "duration": 322,
    "start_time": "2022-04-18T18:46:15.758Z"
   },
   {
    "duration": 10,
    "start_time": "2022-04-18T18:46:16.081Z"
   },
   {
    "duration": 15,
    "start_time": "2022-04-18T18:46:16.092Z"
   },
   {
    "duration": 38,
    "start_time": "2022-04-18T18:46:16.108Z"
   },
   {
    "duration": 13,
    "start_time": "2022-04-18T18:46:16.148Z"
   },
   {
    "duration": 10,
    "start_time": "2022-04-18T18:46:16.162Z"
   },
   {
    "duration": 2,
    "start_time": "2022-04-18T18:46:16.174Z"
   },
   {
    "duration": 12,
    "start_time": "2022-04-18T18:46:16.177Z"
   },
   {
    "duration": 9,
    "start_time": "2022-04-18T18:46:16.191Z"
   },
   {
    "duration": 35,
    "start_time": "2022-04-18T18:46:16.202Z"
   },
   {
    "duration": 5,
    "start_time": "2022-04-18T18:46:16.238Z"
   },
   {
    "duration": 143,
    "start_time": "2022-04-18T18:46:16.244Z"
   },
   {
    "duration": 4,
    "start_time": "2022-04-18T18:46:16.389Z"
   },
   {
    "duration": 11,
    "start_time": "2022-04-18T18:46:16.395Z"
   },
   {
    "duration": 72,
    "start_time": "2022-04-18T18:46:16.407Z"
   },
   {
    "duration": 3,
    "start_time": "2022-04-18T18:46:16.481Z"
   },
   {
    "duration": 5,
    "start_time": "2022-04-18T18:46:16.486Z"
   },
   {
    "duration": 3864,
    "start_time": "2022-04-18T18:46:16.493Z"
   },
   {
    "duration": 912,
    "start_time": "2022-04-18T18:46:20.359Z"
   },
   {
    "duration": 937,
    "start_time": "2022-04-18T18:46:21.273Z"
   },
   {
    "duration": 22,
    "start_time": "2022-04-18T18:46:22.212Z"
   },
   {
    "duration": 46,
    "start_time": "2022-04-18T18:46:22.236Z"
   },
   {
    "duration": 26666,
    "start_time": "2022-04-18T18:46:22.284Z"
   },
   {
    "duration": 2,
    "start_time": "2022-04-18T18:48:14.096Z"
   },
   {
    "duration": 30190,
    "start_time": "2022-04-18T18:48:16.656Z"
   },
   {
    "duration": 147,
    "start_time": "2022-04-18T18:49:05.898Z"
   },
   {
    "duration": 5,
    "start_time": "2022-04-18T18:49:09.881Z"
   },
   {
    "duration": 19,
    "start_time": "2022-04-19T07:52:41.239Z"
   },
   {
    "duration": 2469,
    "start_time": "2022-04-19T07:54:33.389Z"
   },
   {
    "duration": 1041,
    "start_time": "2022-04-19T07:54:35.861Z"
   },
   {
    "duration": 28,
    "start_time": "2022-04-19T07:54:36.904Z"
   },
   {
    "duration": 183,
    "start_time": "2022-04-19T07:54:36.935Z"
   },
   {
    "duration": 172,
    "start_time": "2022-04-19T07:54:37.121Z"
   },
   {
    "duration": 173,
    "start_time": "2022-04-19T07:54:37.295Z"
   },
   {
    "duration": 5,
    "start_time": "2022-04-19T07:54:37.470Z"
   },
   {
    "duration": 37,
    "start_time": "2022-04-19T07:54:37.477Z"
   },
   {
    "duration": 236,
    "start_time": "2022-04-19T07:54:37.516Z"
   },
   {
    "duration": 693,
    "start_time": "2022-04-19T07:54:37.754Z"
   },
   {
    "duration": 952,
    "start_time": "2022-04-19T07:54:38.452Z"
   },
   {
    "duration": 53,
    "start_time": "2022-04-19T07:54:39.406Z"
   },
   {
    "duration": 67,
    "start_time": "2022-04-19T07:54:39.461Z"
   },
   {
    "duration": 119,
    "start_time": "2022-04-19T07:54:39.533Z"
   },
   {
    "duration": 3,
    "start_time": "2022-04-19T07:54:39.655Z"
   },
   {
    "duration": 185,
    "start_time": "2022-04-19T07:54:39.660Z"
   },
   {
    "duration": 74,
    "start_time": "2022-04-19T07:54:39.847Z"
   },
   {
    "duration": 7,
    "start_time": "2022-04-19T07:54:39.923Z"
   },
   {
    "duration": 91,
    "start_time": "2022-04-19T07:54:39.932Z"
   },
   {
    "duration": 4,
    "start_time": "2022-04-19T07:54:40.025Z"
   },
   {
    "duration": 267,
    "start_time": "2022-04-19T07:54:40.031Z"
   },
   {
    "duration": 342,
    "start_time": "2022-04-19T07:54:40.300Z"
   },
   {
    "duration": 13,
    "start_time": "2022-04-19T07:54:40.644Z"
   },
   {
    "duration": 10,
    "start_time": "2022-04-19T07:54:40.659Z"
   },
   {
    "duration": 4,
    "start_time": "2022-04-19T07:54:40.671Z"
   },
   {
    "duration": 41,
    "start_time": "2022-04-19T07:54:40.677Z"
   },
   {
    "duration": 33,
    "start_time": "2022-04-19T07:54:40.720Z"
   },
   {
    "duration": 6,
    "start_time": "2022-04-19T07:54:40.755Z"
   },
   {
    "duration": 257,
    "start_time": "2022-04-19T07:54:40.763Z"
   },
   {
    "duration": 437,
    "start_time": "2022-04-19T07:54:41.022Z"
   },
   {
    "duration": 12,
    "start_time": "2022-04-19T07:54:41.461Z"
   },
   {
    "duration": 15,
    "start_time": "2022-04-19T07:54:41.475Z"
   },
   {
    "duration": 15,
    "start_time": "2022-04-19T07:54:41.493Z"
   },
   {
    "duration": 52,
    "start_time": "2022-04-19T07:54:41.510Z"
   },
   {
    "duration": 14,
    "start_time": "2022-04-19T07:54:41.564Z"
   },
   {
    "duration": 3,
    "start_time": "2022-04-19T07:54:41.580Z"
   },
   {
    "duration": 8,
    "start_time": "2022-04-19T07:54:41.586Z"
   },
   {
    "duration": 8,
    "start_time": "2022-04-19T07:54:41.596Z"
   },
   {
    "duration": 49,
    "start_time": "2022-04-19T07:54:41.606Z"
   },
   {
    "duration": 3,
    "start_time": "2022-04-19T07:54:41.658Z"
   },
   {
    "duration": 4,
    "start_time": "2022-04-19T07:54:41.666Z"
   },
   {
    "duration": 5,
    "start_time": "2022-04-19T07:54:41.672Z"
   },
   {
    "duration": 4,
    "start_time": "2022-04-19T07:54:41.679Z"
   },
   {
    "duration": 129,
    "start_time": "2022-04-19T07:54:41.685Z"
   },
   {
    "duration": 4,
    "start_time": "2022-04-19T07:54:41.816Z"
   },
   {
    "duration": 9,
    "start_time": "2022-04-19T07:54:41.823Z"
   },
   {
    "duration": 2725,
    "start_time": "2022-04-19T07:54:41.835Z"
   },
   {
    "duration": 865,
    "start_time": "2022-04-19T07:54:44.563Z"
   },
   {
    "duration": 876,
    "start_time": "2022-04-19T07:54:45.430Z"
   },
   {
    "duration": 3,
    "start_time": "2022-04-19T07:54:46.309Z"
   },
   {
    "duration": 24547,
    "start_time": "2022-04-19T07:54:46.314Z"
   },
   {
    "duration": 216,
    "start_time": "2022-04-19T07:55:10.864Z"
   },
   {
    "duration": 98,
    "start_time": "2022-04-19T07:55:11.154Z"
   },
   {
    "duration": 5,
    "start_time": "2022-04-19T07:59:29.518Z"
   },
   {
    "duration": 9,
    "start_time": "2022-04-19T07:59:35.190Z"
   },
   {
    "duration": 171,
    "start_time": "2022-04-19T08:00:23.007Z"
   },
   {
    "duration": 4,
    "start_time": "2022-04-19T08:00:54.619Z"
   },
   {
    "duration": 8,
    "start_time": "2022-04-19T08:01:01.360Z"
   },
   {
    "duration": 6,
    "start_time": "2022-04-19T08:01:50.425Z"
   },
   {
    "duration": 7,
    "start_time": "2022-04-19T08:02:16.116Z"
   },
   {
    "duration": 14,
    "start_time": "2022-04-19T08:21:31.688Z"
   },
   {
    "duration": 6,
    "start_time": "2022-04-19T08:22:32.650Z"
   },
   {
    "duration": 5,
    "start_time": "2022-04-19T08:23:54.747Z"
   },
   {
    "duration": 2555,
    "start_time": "2022-04-19T08:23:54.755Z"
   },
   {
    "duration": 188,
    "start_time": "2022-04-19T08:23:57.312Z"
   },
   {
    "duration": 13,
    "start_time": "2022-04-19T08:23:57.504Z"
   },
   {
    "duration": 5,
    "start_time": "2022-04-19T08:30:46.896Z"
   },
   {
    "duration": 2459,
    "start_time": "2022-04-19T08:30:46.904Z"
   },
   {
    "duration": 238,
    "start_time": "2022-04-19T08:30:49.365Z"
   },
   {
    "duration": 9,
    "start_time": "2022-04-19T08:30:49.607Z"
   },
   {
    "duration": 6,
    "start_time": "2022-04-19T08:32:42.451Z"
   },
   {
    "duration": 8916,
    "start_time": "2022-04-19T08:32:42.461Z"
   },
   {
    "duration": 216,
    "start_time": "2022-04-19T08:32:51.380Z"
   },
   {
    "duration": 10,
    "start_time": "2022-04-19T08:32:51.599Z"
   },
   {
    "duration": 4,
    "start_time": "2022-04-19T08:34:20.118Z"
   },
   {
    "duration": 5345,
    "start_time": "2022-04-19T08:34:20.125Z"
   },
   {
    "duration": 189,
    "start_time": "2022-04-19T08:34:25.472Z"
   },
   {
    "duration": 7,
    "start_time": "2022-04-19T08:34:25.664Z"
   },
   {
    "duration": 4,
    "start_time": "2022-04-19T08:35:00.855Z"
   },
   {
    "duration": 11567,
    "start_time": "2022-04-19T08:35:00.862Z"
   },
   {
    "duration": 239,
    "start_time": "2022-04-19T08:35:12.431Z"
   },
   {
    "duration": 8,
    "start_time": "2022-04-19T08:35:12.673Z"
   },
   {
    "duration": 5,
    "start_time": "2022-04-19T08:35:25.600Z"
   },
   {
    "duration": 11300,
    "start_time": "2022-04-19T08:35:25.608Z"
   },
   {
    "duration": 224,
    "start_time": "2022-04-19T08:35:36.910Z"
   },
   {
    "duration": 16,
    "start_time": "2022-04-19T08:35:37.136Z"
   },
   {
    "duration": 181180,
    "start_time": "2022-04-19T08:41:31.126Z"
   },
   {
    "duration": 208019,
    "start_time": "2022-04-19T08:44:40.157Z"
   },
   {
    "duration": 2636,
    "start_time": "2022-04-19T08:50:14.590Z"
   },
   {
    "duration": 2218,
    "start_time": "2022-04-19T08:51:00.902Z"
   },
   {
    "duration": 1190,
    "start_time": "2022-04-19T08:51:03.123Z"
   },
   {
    "duration": 38,
    "start_time": "2022-04-19T08:51:04.316Z"
   },
   {
    "duration": 203,
    "start_time": "2022-04-19T08:51:04.356Z"
   },
   {
    "duration": 177,
    "start_time": "2022-04-19T08:51:04.562Z"
   },
   {
    "duration": 188,
    "start_time": "2022-04-19T08:51:04.741Z"
   },
   {
    "duration": 6,
    "start_time": "2022-04-19T08:51:04.932Z"
   },
   {
    "duration": 42,
    "start_time": "2022-04-19T08:51:04.952Z"
   },
   {
    "duration": 430,
    "start_time": "2022-04-19T08:51:04.997Z"
   },
   {
    "duration": 1103,
    "start_time": "2022-04-19T08:51:05.430Z"
   },
   {
    "duration": 1645,
    "start_time": "2022-04-19T08:51:06.536Z"
   },
   {
    "duration": 82,
    "start_time": "2022-04-19T08:51:08.184Z"
   },
   {
    "duration": 121,
    "start_time": "2022-04-19T08:51:08.269Z"
   },
   {
    "duration": 166,
    "start_time": "2022-04-19T08:51:08.398Z"
   },
   {
    "duration": 4,
    "start_time": "2022-04-19T08:51:08.568Z"
   },
   {
    "duration": 267,
    "start_time": "2022-04-19T08:51:08.575Z"
   },
   {
    "duration": 107,
    "start_time": "2022-04-19T08:51:08.846Z"
   },
   {
    "duration": 8,
    "start_time": "2022-04-19T08:51:08.956Z"
   },
   {
    "duration": 142,
    "start_time": "2022-04-19T08:51:08.968Z"
   },
   {
    "duration": 6,
    "start_time": "2022-04-19T08:51:09.113Z"
   },
   {
    "duration": 413,
    "start_time": "2022-04-19T08:51:09.122Z"
   },
   {
    "duration": 517,
    "start_time": "2022-04-19T08:51:09.538Z"
   },
   {
    "duration": 12,
    "start_time": "2022-04-19T08:51:10.058Z"
   },
   {
    "duration": 11,
    "start_time": "2022-04-19T08:51:10.073Z"
   },
   {
    "duration": 80,
    "start_time": "2022-04-19T08:51:10.087Z"
   },
   {
    "duration": 56,
    "start_time": "2022-04-19T08:51:10.171Z"
   },
   {
    "duration": 150,
    "start_time": "2022-04-19T08:51:10.230Z"
   },
   {
    "duration": 7,
    "start_time": "2022-04-19T08:51:10.383Z"
   },
   {
    "duration": 387,
    "start_time": "2022-04-19T08:51:10.393Z"
   },
   {
    "duration": 706,
    "start_time": "2022-04-19T08:51:10.783Z"
   },
   {
    "duration": 15,
    "start_time": "2022-04-19T08:51:11.492Z"
   },
   {
    "duration": 42,
    "start_time": "2022-04-19T08:51:11.510Z"
   },
   {
    "duration": 21,
    "start_time": "2022-04-19T08:51:11.555Z"
   },
   {
    "duration": 25,
    "start_time": "2022-04-19T08:51:11.579Z"
   },
   {
    "duration": 53,
    "start_time": "2022-04-19T08:51:11.607Z"
   },
   {
    "duration": 4,
    "start_time": "2022-04-19T08:51:11.663Z"
   },
   {
    "duration": 21,
    "start_time": "2022-04-19T08:51:11.670Z"
   },
   {
    "duration": 11,
    "start_time": "2022-04-19T08:51:11.695Z"
   },
   {
    "duration": 43,
    "start_time": "2022-04-19T08:51:11.709Z"
   },
   {
    "duration": 7,
    "start_time": "2022-04-19T08:51:11.755Z"
   },
   {
    "duration": 333,
    "start_time": "2022-04-19T08:51:11.772Z"
   },
   {
    "duration": 7,
    "start_time": "2022-04-19T08:51:12.108Z"
   },
   {
    "duration": 7,
    "start_time": "2022-04-19T08:51:12.118Z"
   },
   {
    "duration": 103,
    "start_time": "2022-04-19T08:51:12.127Z"
   },
   {
    "duration": 20,
    "start_time": "2022-04-19T08:51:12.233Z"
   },
   {
    "duration": 16,
    "start_time": "2022-04-19T08:51:12.256Z"
   },
   {
    "duration": 4731,
    "start_time": "2022-04-19T08:51:12.275Z"
   },
   {
    "duration": 1138,
    "start_time": "2022-04-19T08:51:17.008Z"
   },
   {
    "duration": 1151,
    "start_time": "2022-04-19T08:51:18.152Z"
   },
   {
    "duration": 7,
    "start_time": "2022-04-19T08:51:19.306Z"
   },
   {
    "duration": 8,
    "start_time": "2022-04-19T08:51:19.316Z"
   },
   {
    "duration": 3,
    "start_time": "2022-04-19T08:51:19.352Z"
   },
   {
    "duration": 32203,
    "start_time": "2022-04-19T08:51:19.358Z"
   },
   {
    "duration": 290,
    "start_time": "2022-04-19T08:51:51.563Z"
   },
   {
    "duration": 8,
    "start_time": "2022-04-19T08:51:51.856Z"
   },
   {
    "duration": 20,
    "start_time": "2022-04-19T08:51:51.952Z"
   },
   {
    "duration": 234222,
    "start_time": "2022-04-19T08:51:51.975Z"
   },
   {
    "duration": 324,
    "start_time": "2022-04-19T08:56:29.148Z"
   },
   {
    "duration": 3,
    "start_time": "2022-04-19T08:56:38.179Z"
   },
   {
    "duration": 34234,
    "start_time": "2022-04-19T08:56:40.627Z"
   },
   {
    "duration": 288,
    "start_time": "2022-04-19T08:57:14.864Z"
   },
   {
    "duration": 4,
    "start_time": "2022-04-19T09:03:34.744Z"
   },
   {
    "duration": 9018,
    "start_time": "2022-04-19T09:03:36.822Z"
   },
   {
    "duration": 176,
    "start_time": "2022-04-19T09:03:48.965Z"
   },
   {
    "duration": 214,
    "start_time": "2022-04-19T09:03:58.665Z"
   },
   {
    "duration": 7,
    "start_time": "2022-04-19T09:04:01.425Z"
   },
   {
    "duration": 14619904,
    "start_time": "2022-04-19T09:16:26.617Z"
   },
   {
    "duration": 587433,
    "start_time": "2022-04-19T13:21:35.265Z"
   },
   {
    "duration": 1156820,
    "start_time": "2022-04-19T13:34:45.950Z"
   },
   {
    "duration": 134,
    "start_time": "2022-04-19T13:54:24.745Z"
   },
   {
    "duration": 4,
    "start_time": "2022-04-19T14:04:46.646Z"
   },
   {
    "duration": 8289,
    "start_time": "2022-04-19T14:04:46.654Z"
   },
   {
    "duration": 200,
    "start_time": "2022-04-19T14:04:54.953Z"
   },
   {
    "duration": 5,
    "start_time": "2022-04-19T14:04:55.155Z"
   },
   {
    "duration": 7,
    "start_time": "2022-04-19T14:04:55.163Z"
   },
   {
    "duration": 11,
    "start_time": "2022-04-19T14:04:55.173Z"
   },
   {
    "duration": 1118345,
    "start_time": "2022-04-19T14:04:55.187Z"
   },
   {
    "duration": 199,
    "start_time": "2022-04-19T14:24:12.912Z"
   },
   {
    "duration": 2162,
    "start_time": "2022-04-19T14:24:34.560Z"
   },
   {
    "duration": 2804,
    "start_time": "2022-04-19T14:24:36.725Z"
   },
   {
    "duration": 35,
    "start_time": "2022-04-19T14:24:39.531Z"
   },
   {
    "duration": 184,
    "start_time": "2022-04-19T14:24:39.569Z"
   },
   {
    "duration": 171,
    "start_time": "2022-04-19T14:24:39.755Z"
   },
   {
    "duration": 181,
    "start_time": "2022-04-19T14:24:39.928Z"
   },
   {
    "duration": 6,
    "start_time": "2022-04-19T14:24:40.111Z"
   },
   {
    "duration": 58,
    "start_time": "2022-04-19T14:24:40.119Z"
   },
   {
    "duration": 245,
    "start_time": "2022-04-19T14:24:40.180Z"
   },
   {
    "duration": 715,
    "start_time": "2022-04-19T14:24:40.430Z"
   },
   {
    "duration": 1005,
    "start_time": "2022-04-19T14:24:41.147Z"
   },
   {
    "duration": 49,
    "start_time": "2022-04-19T14:24:42.154Z"
   },
   {
    "duration": 85,
    "start_time": "2022-04-19T14:24:42.205Z"
   },
   {
    "duration": 122,
    "start_time": "2022-04-19T14:24:42.292Z"
   },
   {
    "duration": 3,
    "start_time": "2022-04-19T14:24:42.416Z"
   },
   {
    "duration": 194,
    "start_time": "2022-04-19T14:24:42.421Z"
   },
   {
    "duration": 79,
    "start_time": "2022-04-19T14:24:42.617Z"
   },
   {
    "duration": 6,
    "start_time": "2022-04-19T14:24:42.698Z"
   },
   {
    "duration": 97,
    "start_time": "2022-04-19T14:24:42.705Z"
   },
   {
    "duration": 3,
    "start_time": "2022-04-19T14:24:42.805Z"
   },
   {
    "duration": 261,
    "start_time": "2022-04-19T14:24:42.810Z"
   },
   {
    "duration": 346,
    "start_time": "2022-04-19T14:24:43.074Z"
   },
   {
    "duration": 8,
    "start_time": "2022-04-19T14:24:43.422Z"
   },
   {
    "duration": 21,
    "start_time": "2022-04-19T14:24:43.432Z"
   },
   {
    "duration": 36,
    "start_time": "2022-04-19T14:24:43.455Z"
   },
   {
    "duration": 62,
    "start_time": "2022-04-19T14:24:43.493Z"
   },
   {
    "duration": 99,
    "start_time": "2022-04-19T14:24:43.558Z"
   },
   {
    "duration": 5,
    "start_time": "2022-04-19T14:24:43.663Z"
   },
   {
    "duration": 267,
    "start_time": "2022-04-19T14:24:43.670Z"
   },
   {
    "duration": 456,
    "start_time": "2022-04-19T14:24:43.939Z"
   },
   {
    "duration": 12,
    "start_time": "2022-04-19T14:24:44.397Z"
   },
   {
    "duration": 17,
    "start_time": "2022-04-19T14:24:44.411Z"
   },
   {
    "duration": 16,
    "start_time": "2022-04-19T14:24:44.451Z"
   },
   {
    "duration": 17,
    "start_time": "2022-04-19T14:24:44.470Z"
   },
   {
    "duration": 16,
    "start_time": "2022-04-19T14:24:44.489Z"
   },
   {
    "duration": 3,
    "start_time": "2022-04-19T14:24:44.507Z"
   },
   {
    "duration": 7,
    "start_time": "2022-04-19T14:24:44.552Z"
   },
   {
    "duration": 8,
    "start_time": "2022-04-19T14:24:44.562Z"
   },
   {
    "duration": 8,
    "start_time": "2022-04-19T14:24:44.572Z"
   },
   {
    "duration": 6,
    "start_time": "2022-04-19T14:24:44.582Z"
   },
   {
    "duration": 250,
    "start_time": "2022-04-19T14:24:44.590Z"
   },
   {
    "duration": 13,
    "start_time": "2022-04-19T14:24:44.842Z"
   },
   {
    "duration": 4,
    "start_time": "2022-04-19T14:25:17.242Z"
   },
   {
    "duration": 5,
    "start_time": "2022-04-19T14:25:20.434Z"
   },
   {
    "duration": 9,
    "start_time": "2022-04-19T14:25:29.259Z"
   },
   {
    "duration": 5,
    "start_time": "2022-04-19T14:31:28.412Z"
   },
   {
    "duration": 1082,
    "start_time": "2022-04-19T14:31:28.420Z"
   },
   {
    "duration": 20,
    "start_time": "2022-04-19T14:31:29.505Z"
   },
   {
    "duration": 186,
    "start_time": "2022-04-19T14:31:29.527Z"
   },
   {
    "duration": 170,
    "start_time": "2022-04-19T14:31:29.716Z"
   },
   {
    "duration": 175,
    "start_time": "2022-04-19T14:31:29.889Z"
   },
   {
    "duration": 6,
    "start_time": "2022-04-19T14:31:30.066Z"
   },
   {
    "duration": 38,
    "start_time": "2022-04-19T14:31:30.073Z"
   },
   {
    "duration": 250,
    "start_time": "2022-04-19T14:31:30.113Z"
   },
   {
    "duration": 703,
    "start_time": "2022-04-19T14:31:30.365Z"
   },
   {
    "duration": 933,
    "start_time": "2022-04-19T14:31:31.071Z"
   },
   {
    "duration": 67,
    "start_time": "2022-04-19T14:31:32.006Z"
   },
   {
    "duration": 75,
    "start_time": "2022-04-19T14:31:32.079Z"
   },
   {
    "duration": 123,
    "start_time": "2022-04-19T14:31:32.157Z"
   },
   {
    "duration": 4,
    "start_time": "2022-04-19T14:31:32.282Z"
   },
   {
    "duration": 183,
    "start_time": "2022-04-19T14:31:32.289Z"
   },
   {
    "duration": 88,
    "start_time": "2022-04-19T14:31:32.475Z"
   },
   {
    "duration": 6,
    "start_time": "2022-04-19T14:31:32.565Z"
   },
   {
    "duration": 94,
    "start_time": "2022-04-19T14:31:32.573Z"
   },
   {
    "duration": 3,
    "start_time": "2022-04-19T14:31:32.670Z"
   },
   {
    "duration": 247,
    "start_time": "2022-04-19T14:31:32.676Z"
   },
   {
    "duration": 352,
    "start_time": "2022-04-19T14:31:32.926Z"
   },
   {
    "duration": 9,
    "start_time": "2022-04-19T14:31:33.280Z"
   },
   {
    "duration": 11,
    "start_time": "2022-04-19T14:31:33.292Z"
   },
   {
    "duration": 63,
    "start_time": "2022-04-19T14:31:33.305Z"
   },
   {
    "duration": 36,
    "start_time": "2022-04-19T14:31:33.371Z"
   },
   {
    "duration": 111,
    "start_time": "2022-04-19T14:31:33.410Z"
   },
   {
    "duration": 5,
    "start_time": "2022-04-19T14:31:33.524Z"
   },
   {
    "duration": 273,
    "start_time": "2022-04-19T14:31:33.532Z"
   },
   {
    "duration": 365,
    "start_time": "2022-04-19T14:31:33.808Z"
   },
   {
    "duration": 11,
    "start_time": "2022-04-19T14:31:34.175Z"
   },
   {
    "duration": 12,
    "start_time": "2022-04-19T14:31:34.189Z"
   },
   {
    "duration": 48,
    "start_time": "2022-04-19T14:31:34.204Z"
   },
   {
    "duration": 17,
    "start_time": "2022-04-19T14:31:34.254Z"
   },
   {
    "duration": 16,
    "start_time": "2022-04-19T14:31:34.273Z"
   },
   {
    "duration": 4,
    "start_time": "2022-04-19T14:31:34.291Z"
   },
   {
    "duration": 8,
    "start_time": "2022-04-19T14:31:34.303Z"
   },
   {
    "duration": 46,
    "start_time": "2022-04-19T14:31:34.313Z"
   },
   {
    "duration": 9,
    "start_time": "2022-04-19T14:31:34.362Z"
   },
   {
    "duration": 7,
    "start_time": "2022-04-19T14:31:34.373Z"
   },
   {
    "duration": 274,
    "start_time": "2022-04-19T14:31:34.383Z"
   },
   {
    "duration": 6,
    "start_time": "2022-04-19T14:31:34.659Z"
   },
   {
    "duration": 27,
    "start_time": "2022-04-19T14:31:34.668Z"
   },
   {
    "duration": 4,
    "start_time": "2022-04-19T14:31:34.698Z"
   },
   {
    "duration": 117,
    "start_time": "2022-04-19T14:31:34.705Z"
   },
   {
    "duration": 4,
    "start_time": "2022-04-19T14:31:34.824Z"
   },
   {
    "duration": 21,
    "start_time": "2022-04-19T14:31:34.830Z"
   },
   {
    "duration": 3392,
    "start_time": "2022-04-19T14:31:34.854Z"
   },
   {
    "duration": 940,
    "start_time": "2022-04-19T14:31:38.251Z"
   },
   {
    "duration": 938,
    "start_time": "2022-04-19T14:31:39.194Z"
   },
   {
    "duration": 17,
    "start_time": "2022-04-19T14:31:40.135Z"
   },
   {
    "duration": 13,
    "start_time": "2022-04-19T14:31:40.154Z"
   },
   {
    "duration": 26,
    "start_time": "2022-04-19T14:31:40.169Z"
   },
   {
    "duration": 30883,
    "start_time": "2022-04-19T14:31:40.197Z"
   },
   {
    "duration": 270,
    "start_time": "2022-04-19T14:32:11.083Z"
   },
   {
    "duration": 8,
    "start_time": "2022-04-19T14:32:11.357Z"
   },
   {
    "duration": 90,
    "start_time": "2022-04-19T14:32:11.369Z"
   },
   {
    "duration": 12,
    "start_time": "2022-04-19T14:32:11.461Z"
   },
   {
    "duration": 7898,
    "start_time": "2022-04-19T14:32:11.476Z"
   },
   {
    "duration": 203,
    "start_time": "2022-04-19T14:32:19.377Z"
   },
   {
    "duration": 7,
    "start_time": "2022-04-19T14:32:19.583Z"
   },
   {
    "duration": 18,
    "start_time": "2022-04-19T14:32:19.592Z"
   },
   {
    "duration": 17,
    "start_time": "2022-04-19T14:32:19.612Z"
   },
   {
    "duration": 417477,
    "start_time": "2022-04-19T14:32:19.631Z"
   },
   {
    "duration": 177,
    "start_time": "2022-04-19T14:39:17.110Z"
   },
   {
    "duration": 12,
    "start_time": "2022-04-19T14:39:17.289Z"
   },
   {
    "duration": 12,
    "start_time": "2022-04-19T14:40:46.911Z"
   },
   {
    "duration": 77,
    "start_time": "2022-04-19T14:40:53.071Z"
   },
   {
    "duration": 28,
    "start_time": "2022-04-19T14:40:57.192Z"
   },
   {
    "duration": 12,
    "start_time": "2022-04-19T14:47:21.780Z"
   },
   {
    "duration": 5,
    "start_time": "2022-04-19T14:48:23.824Z"
   },
   {
    "duration": 8,
    "start_time": "2022-04-19T14:49:12.008Z"
   },
   {
    "duration": 8,
    "start_time": "2022-04-19T14:49:15.927Z"
   },
   {
    "duration": 27,
    "start_time": "2022-04-19T14:49:31.544Z"
   },
   {
    "duration": 111,
    "start_time": "2022-04-19T14:50:52.987Z"
   },
   {
    "duration": 5,
    "start_time": "2022-04-19T14:50:59.314Z"
   },
   {
    "duration": 187764,
    "start_time": "2022-04-19T14:51:05.293Z"
   },
   {
    "duration": 42801,
    "start_time": "2022-04-19T14:56:12.125Z"
   },
   {
    "duration": 4,
    "start_time": "2022-04-19T14:57:04.535Z"
   },
   {
    "duration": 632566,
    "start_time": "2022-04-19T14:57:07.352Z"
   },
   {
    "duration": 40067,
    "start_time": "2022-04-19T15:09:56.143Z"
   },
   {
    "duration": 2179,
    "start_time": "2022-04-19T15:13:17.653Z"
   },
   {
    "duration": 1271,
    "start_time": "2022-04-19T15:13:19.835Z"
   },
   {
    "duration": 29,
    "start_time": "2022-04-19T15:13:21.108Z"
   },
   {
    "duration": 222,
    "start_time": "2022-04-19T15:13:21.153Z"
   },
   {
    "duration": 219,
    "start_time": "2022-04-19T15:13:21.384Z"
   },
   {
    "duration": 184,
    "start_time": "2022-04-19T15:13:21.605Z"
   },
   {
    "duration": 6,
    "start_time": "2022-04-19T15:13:21.791Z"
   },
   {
    "duration": 59,
    "start_time": "2022-04-19T15:13:21.800Z"
   },
   {
    "duration": 248,
    "start_time": "2022-04-19T15:13:21.862Z"
   },
   {
    "duration": 796,
    "start_time": "2022-04-19T15:13:22.112Z"
   },
   {
    "duration": 1113,
    "start_time": "2022-04-19T15:13:22.910Z"
   },
   {
    "duration": 64,
    "start_time": "2022-04-19T15:13:24.025Z"
   },
   {
    "duration": 79,
    "start_time": "2022-04-19T15:13:24.092Z"
   },
   {
    "duration": 130,
    "start_time": "2022-04-19T15:13:24.177Z"
   },
   {
    "duration": 3,
    "start_time": "2022-04-19T15:13:24.309Z"
   },
   {
    "duration": 206,
    "start_time": "2022-04-19T15:13:24.314Z"
   },
   {
    "duration": 91,
    "start_time": "2022-04-19T15:13:24.522Z"
   },
   {
    "duration": 6,
    "start_time": "2022-04-19T15:13:24.615Z"
   },
   {
    "duration": 72,
    "start_time": "2022-04-19T15:13:24.623Z"
   },
   {
    "duration": 89,
    "start_time": "2022-04-19T15:13:24.697Z"
   },
   {
    "duration": 4,
    "start_time": "2022-04-19T15:13:24.789Z"
   },
   {
    "duration": 277,
    "start_time": "2022-04-19T15:13:24.796Z"
   },
   {
    "duration": 366,
    "start_time": "2022-04-19T15:13:25.076Z"
   },
   {
    "duration": 14,
    "start_time": "2022-04-19T15:13:25.454Z"
   },
   {
    "duration": 28,
    "start_time": "2022-04-19T15:13:25.470Z"
   },
   {
    "duration": 55,
    "start_time": "2022-04-19T15:13:25.500Z"
   },
   {
    "duration": 44,
    "start_time": "2022-04-19T15:13:25.558Z"
   },
   {
    "duration": 121,
    "start_time": "2022-04-19T15:13:25.605Z"
   },
   {
    "duration": 6,
    "start_time": "2022-04-19T15:13:25.729Z"
   },
   {
    "duration": 305,
    "start_time": "2022-04-19T15:13:25.736Z"
   },
   {
    "duration": 454,
    "start_time": "2022-04-19T15:13:26.043Z"
   },
   {
    "duration": 11,
    "start_time": "2022-04-19T15:13:26.499Z"
   },
   {
    "duration": 11,
    "start_time": "2022-04-19T15:13:26.512Z"
   },
   {
    "duration": 44,
    "start_time": "2022-04-19T15:13:26.525Z"
   },
   {
    "duration": 19,
    "start_time": "2022-04-19T15:13:26.572Z"
   },
   {
    "duration": 17,
    "start_time": "2022-04-19T15:13:26.593Z"
   },
   {
    "duration": 41,
    "start_time": "2022-04-19T15:13:26.613Z"
   },
   {
    "duration": 41,
    "start_time": "2022-04-19T15:13:26.656Z"
   },
   {
    "duration": 18,
    "start_time": "2022-04-19T15:13:26.699Z"
   },
   {
    "duration": 12,
    "start_time": "2022-04-19T15:13:26.719Z"
   },
   {
    "duration": 8,
    "start_time": "2022-04-19T15:13:26.737Z"
   },
   {
    "duration": 245,
    "start_time": "2022-04-19T15:13:26.747Z"
   },
   {
    "duration": 6,
    "start_time": "2022-04-19T15:13:26.994Z"
   },
   {
    "duration": 4,
    "start_time": "2022-04-19T15:13:27.002Z"
   },
   {
    "duration": 117,
    "start_time": "2022-04-19T15:13:27.008Z"
   },
   {
    "duration": 4,
    "start_time": "2022-04-19T15:13:27.127Z"
   },
   {
    "duration": 19,
    "start_time": "2022-04-19T15:13:27.133Z"
   },
   {
    "duration": 4624,
    "start_time": "2022-04-19T15:13:27.158Z"
   },
   {
    "duration": 1155,
    "start_time": "2022-04-19T15:13:31.785Z"
   },
   {
    "duration": 1172,
    "start_time": "2022-04-19T15:13:32.942Z"
   },
   {
    "duration": 4,
    "start_time": "2022-04-19T15:14:30.377Z"
   },
   {
    "duration": 4,
    "start_time": "2022-04-19T15:14:37.186Z"
   },
   {
    "duration": 455,
    "start_time": "2022-04-19T15:14:40.048Z"
   },
   {
    "duration": 2172,
    "start_time": "2022-04-19T15:18:06.111Z"
   },
   {
    "duration": 1135,
    "start_time": "2022-04-19T15:18:08.286Z"
   },
   {
    "duration": 41,
    "start_time": "2022-04-19T15:18:09.424Z"
   },
   {
    "duration": 177,
    "start_time": "2022-04-19T15:18:09.467Z"
   },
   {
    "duration": 176,
    "start_time": "2022-04-19T15:18:09.648Z"
   },
   {
    "duration": 193,
    "start_time": "2022-04-19T15:18:09.827Z"
   },
   {
    "duration": 7,
    "start_time": "2022-04-19T15:18:10.022Z"
   },
   {
    "duration": 68,
    "start_time": "2022-04-19T15:18:10.031Z"
   },
   {
    "duration": 254,
    "start_time": "2022-04-19T15:18:10.102Z"
   },
   {
    "duration": 718,
    "start_time": "2022-04-19T15:18:10.359Z"
   },
   {
    "duration": 1157,
    "start_time": "2022-04-19T15:18:11.079Z"
   },
   {
    "duration": 52,
    "start_time": "2022-04-19T15:18:12.239Z"
   },
   {
    "duration": 84,
    "start_time": "2022-04-19T15:18:12.294Z"
   },
   {
    "duration": 118,
    "start_time": "2022-04-19T15:18:12.383Z"
   },
   {
    "duration": 3,
    "start_time": "2022-04-19T15:18:12.504Z"
   },
   {
    "duration": 193,
    "start_time": "2022-04-19T15:18:12.509Z"
   },
   {
    "duration": 79,
    "start_time": "2022-04-19T15:18:12.705Z"
   },
   {
    "duration": 6,
    "start_time": "2022-04-19T15:18:12.786Z"
   },
   {
    "duration": 76,
    "start_time": "2022-04-19T15:18:12.794Z"
   },
   {
    "duration": 88,
    "start_time": "2022-04-19T15:18:12.873Z"
   },
   {
    "duration": 5,
    "start_time": "2022-04-19T15:18:12.964Z"
   },
   {
    "duration": 273,
    "start_time": "2022-04-19T15:18:12.971Z"
   },
   {
    "duration": 341,
    "start_time": "2022-04-19T15:18:13.246Z"
   },
   {
    "duration": 9,
    "start_time": "2022-04-19T15:18:13.590Z"
   },
   {
    "duration": 31,
    "start_time": "2022-04-19T15:18:13.602Z"
   },
   {
    "duration": 61,
    "start_time": "2022-04-19T15:18:13.636Z"
   },
   {
    "duration": 36,
    "start_time": "2022-04-19T15:18:13.700Z"
   },
   {
    "duration": 89,
    "start_time": "2022-04-19T15:18:13.739Z"
   },
   {
    "duration": 5,
    "start_time": "2022-04-19T15:18:13.830Z"
   },
   {
    "duration": 266,
    "start_time": "2022-04-19T15:18:13.852Z"
   },
   {
    "duration": 453,
    "start_time": "2022-04-19T15:18:14.121Z"
   },
   {
    "duration": 12,
    "start_time": "2022-04-19T15:18:14.576Z"
   },
   {
    "duration": 31,
    "start_time": "2022-04-19T15:18:14.590Z"
   },
   {
    "duration": 42,
    "start_time": "2022-04-19T15:18:14.623Z"
   },
   {
    "duration": 33,
    "start_time": "2022-04-19T15:18:14.668Z"
   },
   {
    "duration": 26,
    "start_time": "2022-04-19T15:18:14.703Z"
   },
   {
    "duration": 34,
    "start_time": "2022-04-19T15:18:14.731Z"
   },
   {
    "duration": 21,
    "start_time": "2022-04-19T15:18:14.767Z"
   },
   {
    "duration": 31,
    "start_time": "2022-04-19T15:18:14.790Z"
   },
   {
    "duration": 26,
    "start_time": "2022-04-19T15:18:14.823Z"
   },
   {
    "duration": 38,
    "start_time": "2022-04-19T15:18:14.860Z"
   },
   {
    "duration": 233,
    "start_time": "2022-04-19T15:18:14.900Z"
   },
   {
    "duration": 5,
    "start_time": "2022-04-19T15:18:15.136Z"
   },
   {
    "duration": 31,
    "start_time": "2022-04-19T15:18:15.143Z"
   },
   {
    "duration": 109,
    "start_time": "2022-04-19T15:18:15.176Z"
   },
   {
    "duration": 5,
    "start_time": "2022-04-19T15:18:15.288Z"
   },
   {
    "duration": 24,
    "start_time": "2022-04-19T15:18:15.294Z"
   },
   {
    "duration": 3554,
    "start_time": "2022-04-19T15:18:15.320Z"
   },
   {
    "duration": 1131,
    "start_time": "2022-04-19T15:18:18.876Z"
   },
   {
    "duration": 1076,
    "start_time": "2022-04-19T15:18:20.009Z"
   },
   {
    "duration": 6,
    "start_time": "2022-04-19T15:18:21.087Z"
   },
   {
    "duration": 12,
    "start_time": "2022-04-19T15:18:21.095Z"
   },
   {
    "duration": 10,
    "start_time": "2022-04-19T15:18:21.109Z"
   },
   {
    "duration": 47040,
    "start_time": "2022-04-19T15:18:21.121Z"
   },
   {
    "duration": 194,
    "start_time": "2022-04-19T15:19:08.168Z"
   },
   {
    "duration": 96,
    "start_time": "2022-04-19T15:19:08.372Z"
   },
   {
    "duration": 78,
    "start_time": "2022-04-19T15:19:08.474Z"
   },
   {
    "duration": 17,
    "start_time": "2022-04-19T15:19:08.554Z"
   },
   {
    "duration": 8954,
    "start_time": "2022-04-19T15:19:08.574Z"
   },
   {
    "duration": 204,
    "start_time": "2022-04-19T15:19:17.530Z"
   },
   {
    "duration": 17,
    "start_time": "2022-04-19T15:19:17.737Z"
   },
   {
    "duration": 19,
    "start_time": "2022-04-19T15:19:17.756Z"
   },
   {
    "duration": 17,
    "start_time": "2022-04-19T15:19:17.777Z"
   },
   {
    "duration": 647115,
    "start_time": "2022-04-19T15:19:17.797Z"
   },
   {
    "duration": 3522,
    "start_time": "2022-04-19T15:30:04.914Z"
   },
   {
    "duration": 15,
    "start_time": "2022-04-19T15:30:08.439Z"
   },
   {
    "duration": 12,
    "start_time": "2022-04-19T15:30:08.457Z"
   },
   {
    "duration": 11,
    "start_time": "2022-04-19T15:30:08.471Z"
   },
   {
    "duration": 692963,
    "start_time": "2022-04-19T15:30:08.484Z"
   },
   {
    "duration": 6,
    "start_time": "2022-04-19T15:47:36.278Z"
   },
   {
    "duration": 5,
    "start_time": "2022-04-19T15:48:49.391Z"
   },
   {
    "duration": 28,
    "start_time": "2022-04-19T15:55:31.151Z"
   },
   {
    "duration": 37,
    "start_time": "2022-04-19T15:55:48.071Z"
   },
   {
    "duration": 209,
    "start_time": "2022-04-19T15:56:22.615Z"
   },
   {
    "duration": 193,
    "start_time": "2022-04-19T15:56:33.873Z"
   },
   {
    "duration": 32,
    "start_time": "2022-04-19T15:56:48.833Z"
   },
   {
    "duration": 8,
    "start_time": "2022-04-19T15:57:03.440Z"
   },
   {
    "duration": 260,
    "start_time": "2022-04-19T15:57:14.212Z"
   },
   {
    "duration": 180,
    "start_time": "2022-04-19T15:59:59.719Z"
   },
   {
    "duration": 945,
    "start_time": "2022-04-19T16:00:09.941Z"
   },
   {
    "duration": 74,
    "start_time": "2022-04-19T16:00:40.455Z"
   },
   {
    "duration": 6832,
    "start_time": "2022-04-19T16:00:43.839Z"
   },
   {
    "duration": 4,
    "start_time": "2022-04-19T16:01:34.921Z"
   },
   {
    "duration": 56150,
    "start_time": "2022-04-19T16:01:39.218Z"
   },
   {
    "duration": 4,
    "start_time": "2022-04-19T16:03:26.468Z"
   },
   {
    "duration": 34890,
    "start_time": "2022-04-19T16:03:33.380Z"
   },
   {
    "duration": 4,
    "start_time": "2022-04-19T16:04:50.212Z"
   },
   {
    "duration": 110615,
    "start_time": "2022-04-19T16:04:52.157Z"
   },
   {
    "duration": 195053,
    "start_time": "2022-04-19T16:06:50.907Z"
   },
   {
    "duration": 52186,
    "start_time": "2022-04-19T16:10:34.585Z"
   },
   {
    "duration": 42638,
    "start_time": "2022-04-19T16:11:29.025Z"
   },
   {
    "duration": 99281,
    "start_time": "2022-04-19T16:12:16.498Z"
   },
   {
    "duration": 4,
    "start_time": "2022-04-19T16:14:05.934Z"
   },
   {
    "duration": 258281,
    "start_time": "2022-04-19T16:14:08.694Z"
   },
   {
    "duration": 3862,
    "start_time": "2022-04-19T17:18:59.903Z"
   },
   {
    "duration": 5,
    "start_time": "2022-04-19T17:19:35.590Z"
   },
   {
    "duration": 3596,
    "start_time": "2022-04-19T17:19:40.494Z"
   },
   {
    "duration": 4,
    "start_time": "2022-04-19T17:20:47.337Z"
   },
   {
    "duration": 15425,
    "start_time": "2022-04-19T17:20:52.928Z"
   },
   {
    "duration": 5,
    "start_time": "2022-04-19T17:21:20.601Z"
   },
   {
    "duration": 137131,
    "start_time": "2022-04-19T17:21:25.330Z"
   },
   {
    "duration": 27671,
    "start_time": "2022-04-19T17:24:36.799Z"
   },
   {
    "duration": 2981,
    "start_time": "2022-04-19T17:27:40.167Z"
   },
   {
    "duration": 47866,
    "start_time": "2022-04-19T17:28:11.910Z"
   },
   {
    "duration": 0,
    "start_time": "2022-04-19T17:28:59.779Z"
   },
   {
    "duration": 4,
    "start_time": "2022-04-19T17:29:01.896Z"
   },
   {
    "duration": 149672,
    "start_time": "2022-04-19T17:29:05.080Z"
   },
   {
    "duration": 129,
    "start_time": "2022-04-19T17:33:16.408Z"
   },
   {
    "duration": 13,
    "start_time": "2022-04-19T17:36:06.604Z"
   },
   {
    "duration": 6,
    "start_time": "2022-04-19T17:37:16.767Z"
   },
   {
    "duration": 5,
    "start_time": "2022-04-19T17:45:12.958Z"
   },
   {
    "duration": 6,
    "start_time": "2022-04-19T17:45:21.541Z"
   },
   {
    "duration": 178,
    "start_time": "2022-04-19T17:46:00.222Z"
   },
   {
    "duration": 7172,
    "start_time": "2022-04-19T17:46:05.143Z"
   },
   {
    "duration": 6,
    "start_time": "2022-04-19T17:47:12.126Z"
   },
   {
    "duration": 12,
    "start_time": "2022-04-19T17:48:09.323Z"
   },
   {
    "duration": 6,
    "start_time": "2022-04-19T17:48:12.802Z"
   },
   {
    "duration": 197,
    "start_time": "2022-04-19T17:48:14.779Z"
   },
   {
    "duration": 6,
    "start_time": "2022-04-19T17:48:51.251Z"
   },
   {
    "duration": 174,
    "start_time": "2022-04-19T17:48:53.179Z"
   },
   {
    "duration": 6,
    "start_time": "2022-04-19T17:49:15.012Z"
   },
   {
    "duration": 5,
    "start_time": "2022-04-19T17:49:18.292Z"
   },
   {
    "duration": 6,
    "start_time": "2022-04-19T17:49:26.445Z"
   },
   {
    "duration": 161,
    "start_time": "2022-04-19T17:49:28.597Z"
   },
   {
    "duration": 203,
    "start_time": "2022-04-19T17:50:11.809Z"
   },
   {
    "duration": 5480,
    "start_time": "2022-04-19T17:51:04.714Z"
   },
   {
    "duration": 3578,
    "start_time": "2022-04-19T17:51:15.232Z"
   },
   {
    "duration": 8,
    "start_time": "2022-04-19T17:51:39.346Z"
   },
   {
    "duration": 132,
    "start_time": "2022-04-19T17:51:42.730Z"
   },
   {
    "duration": 182,
    "start_time": "2022-04-19T17:51:48.450Z"
   },
   {
    "duration": 3519,
    "start_time": "2022-04-19T17:51:53.283Z"
   },
   {
    "duration": 115,
    "start_time": "2022-04-19T17:52:13.261Z"
   },
   {
    "duration": 6,
    "start_time": "2022-04-19T17:52:31.213Z"
   },
   {
    "duration": 153,
    "start_time": "2022-04-19T17:52:33.107Z"
   },
   {
    "duration": 189,
    "start_time": "2022-04-19T17:52:36.212Z"
   },
   {
    "duration": 3588,
    "start_time": "2022-04-19T17:52:39.855Z"
   },
   {
    "duration": 5,
    "start_time": "2022-04-19T17:53:10.429Z"
   },
   {
    "duration": 340,
    "start_time": "2022-04-19T17:53:12.421Z"
   },
   {
    "duration": 5,
    "start_time": "2022-04-19T17:53:32.846Z"
   },
   {
    "duration": 340,
    "start_time": "2022-04-19T17:53:35.022Z"
   },
   {
    "duration": 5,
    "start_time": "2022-04-19T17:56:39.566Z"
   },
   {
    "duration": 22773,
    "start_time": "2022-04-19T17:56:41.492Z"
   },
   {
    "duration": 5,
    "start_time": "2022-04-19T17:57:11.469Z"
   },
   {
    "duration": 160,
    "start_time": "2022-04-19T17:57:13.502Z"
   },
   {
    "duration": 6,
    "start_time": "2022-04-19T17:58:28.375Z"
   },
   {
    "duration": 4,
    "start_time": "2022-04-19T17:58:30.559Z"
   },
   {
    "duration": 7,
    "start_time": "2022-04-19T17:58:37.024Z"
   },
   {
    "duration": 5,
    "start_time": "2022-04-19T17:58:38.727Z"
   },
   {
    "duration": 6,
    "start_time": "2022-04-19T17:59:09.767Z"
   },
   {
    "duration": 24472,
    "start_time": "2022-04-19T17:59:11.896Z"
   },
   {
    "duration": 5,
    "start_time": "2022-04-19T18:00:10.308Z"
   },
   {
    "duration": 24513,
    "start_time": "2022-04-19T18:00:12.339Z"
   },
   {
    "duration": 15006,
    "start_time": "2022-04-19T18:00:51.932Z"
   },
   {
    "duration": 30774,
    "start_time": "2022-04-19T18:01:12.595Z"
   },
   {
    "duration": 1518,
    "start_time": "2022-04-19T18:02:20.647Z"
   },
   {
    "duration": 8746,
    "start_time": "2022-04-19T18:02:56.288Z"
   },
   {
    "duration": 151,
    "start_time": "2022-04-19T18:04:00.938Z"
   },
   {
    "duration": 142,
    "start_time": "2022-04-19T18:04:10.402Z"
   },
   {
    "duration": 10040,
    "start_time": "2022-04-19T18:05:14.580Z"
   },
   {
    "duration": 146,
    "start_time": "2022-04-19T18:05:33.997Z"
   },
   {
    "duration": 28,
    "start_time": "2022-04-19T18:05:47.036Z"
   },
   {
    "duration": 73,
    "start_time": "2022-04-19T18:06:32.615Z"
   },
   {
    "duration": 152,
    "start_time": "2022-04-19T18:06:37.879Z"
   },
   {
    "duration": 157,
    "start_time": "2022-04-19T18:07:04.583Z"
   },
   {
    "duration": 9586,
    "start_time": "2022-04-19T18:07:07.792Z"
   },
   {
    "duration": 2025,
    "start_time": "2022-04-19T18:16:16.081Z"
   },
   {
    "duration": 1197,
    "start_time": "2022-04-19T18:16:18.109Z"
   },
   {
    "duration": 26,
    "start_time": "2022-04-19T18:16:19.308Z"
   },
   {
    "duration": 187,
    "start_time": "2022-04-19T18:16:19.352Z"
   },
   {
    "duration": 178,
    "start_time": "2022-04-19T18:16:19.543Z"
   },
   {
    "duration": 179,
    "start_time": "2022-04-19T18:16:19.723Z"
   },
   {
    "duration": 6,
    "start_time": "2022-04-19T18:16:19.904Z"
   },
   {
    "duration": 56,
    "start_time": "2022-04-19T18:16:19.912Z"
   },
   {
    "duration": 242,
    "start_time": "2022-04-19T18:16:19.971Z"
   },
   {
    "duration": 711,
    "start_time": "2022-04-19T18:16:20.215Z"
   },
   {
    "duration": 1067,
    "start_time": "2022-04-19T18:16:20.928Z"
   },
   {
    "duration": 61,
    "start_time": "2022-04-19T18:16:21.997Z"
   },
   {
    "duration": 73,
    "start_time": "2022-04-19T18:16:22.060Z"
   },
   {
    "duration": 124,
    "start_time": "2022-04-19T18:16:22.137Z"
   },
   {
    "duration": 4,
    "start_time": "2022-04-19T18:16:22.264Z"
   },
   {
    "duration": 189,
    "start_time": "2022-04-19T18:16:22.270Z"
   },
   {
    "duration": 76,
    "start_time": "2022-04-19T18:16:22.461Z"
   },
   {
    "duration": 15,
    "start_time": "2022-04-19T18:16:22.539Z"
   },
   {
    "duration": 120,
    "start_time": "2022-04-19T18:16:22.556Z"
   },
   {
    "duration": 87,
    "start_time": "2022-04-19T18:16:22.678Z"
   },
   {
    "duration": 4,
    "start_time": "2022-04-19T18:16:22.767Z"
   },
   {
    "duration": 268,
    "start_time": "2022-04-19T18:16:22.773Z"
   },
   {
    "duration": 346,
    "start_time": "2022-04-19T18:16:23.043Z"
   },
   {
    "duration": 11,
    "start_time": "2022-04-19T18:16:23.392Z"
   },
   {
    "duration": 10,
    "start_time": "2022-04-19T18:16:23.405Z"
   },
   {
    "duration": 68,
    "start_time": "2022-04-19T18:16:23.418Z"
   },
   {
    "duration": 38,
    "start_time": "2022-04-19T18:16:23.488Z"
   },
   {
    "duration": 100,
    "start_time": "2022-04-19T18:16:23.551Z"
   },
   {
    "duration": 5,
    "start_time": "2022-04-19T18:16:23.654Z"
   },
   {
    "duration": 361,
    "start_time": "2022-04-19T18:16:23.662Z"
   },
   {
    "duration": 429,
    "start_time": "2022-04-19T18:16:24.025Z"
   },
   {
    "duration": 11,
    "start_time": "2022-04-19T18:16:24.457Z"
   },
   {
    "duration": 16,
    "start_time": "2022-04-19T18:16:24.470Z"
   },
   {
    "duration": 22,
    "start_time": "2022-04-19T18:16:24.488Z"
   },
   {
    "duration": 47,
    "start_time": "2022-04-19T18:16:24.512Z"
   },
   {
    "duration": 15,
    "start_time": "2022-04-19T18:16:24.561Z"
   },
   {
    "duration": 19,
    "start_time": "2022-04-19T18:16:24.577Z"
   },
   {
    "duration": 21,
    "start_time": "2022-04-19T18:16:24.598Z"
   },
   {
    "duration": 19,
    "start_time": "2022-04-19T18:16:24.620Z"
   },
   {
    "duration": 22,
    "start_time": "2022-04-19T18:16:24.640Z"
   },
   {
    "duration": 7,
    "start_time": "2022-04-19T18:16:24.669Z"
   },
   {
    "duration": 235,
    "start_time": "2022-04-19T18:16:24.678Z"
   },
   {
    "duration": 5,
    "start_time": "2022-04-19T18:16:24.915Z"
   },
   {
    "duration": 34,
    "start_time": "2022-04-19T18:16:24.922Z"
   },
   {
    "duration": 99,
    "start_time": "2022-04-19T18:16:24.958Z"
   },
   {
    "duration": 5,
    "start_time": "2022-04-19T18:16:25.059Z"
   },
   {
    "duration": 21,
    "start_time": "2022-04-19T18:16:25.066Z"
   },
   {
    "duration": 3962,
    "start_time": "2022-04-19T18:16:25.089Z"
   },
   {
    "duration": 1132,
    "start_time": "2022-04-19T18:16:29.054Z"
   },
   {
    "duration": 1129,
    "start_time": "2022-04-19T18:16:30.188Z"
   },
   {
    "duration": 6,
    "start_time": "2022-04-19T18:16:31.319Z"
   },
   {
    "duration": 34,
    "start_time": "2022-04-19T18:16:31.327Z"
   },
   {
    "duration": 34,
    "start_time": "2022-04-19T18:16:31.363Z"
   },
   {
    "duration": 22761,
    "start_time": "2022-04-19T18:16:31.399Z"
   },
   {
    "duration": 290,
    "start_time": "2022-04-19T18:16:54.162Z"
   },
   {
    "duration": 98,
    "start_time": "2022-04-19T18:16:54.455Z"
   },
   {
    "duration": 5,
    "start_time": "2022-04-19T18:16:54.555Z"
   },
   {
    "duration": 8,
    "start_time": "2022-04-19T18:16:54.562Z"
   },
   {
    "duration": 7916,
    "start_time": "2022-04-19T18:16:54.572Z"
   },
   {
    "duration": 202,
    "start_time": "2022-04-19T18:17:02.490Z"
   },
   {
    "duration": 6,
    "start_time": "2022-04-19T18:17:02.694Z"
   },
   {
    "duration": 6,
    "start_time": "2022-04-19T18:17:02.702Z"
   },
   {
    "duration": 10,
    "start_time": "2022-04-19T18:17:02.710Z"
   },
   {
    "duration": 590064,
    "start_time": "2022-04-19T18:17:02.723Z"
   },
   {
    "duration": 3366,
    "start_time": "2022-04-19T18:26:52.789Z"
   },
   {
    "duration": 6,
    "start_time": "2022-04-19T18:26:56.157Z"
   },
   {
    "duration": 16,
    "start_time": "2022-04-19T18:26:56.165Z"
   },
   {
    "duration": 13,
    "start_time": "2022-04-19T18:26:56.183Z"
   },
   {
    "duration": 293,
    "start_time": "2022-04-19T18:26:56.199Z"
   },
   {
    "duration": 299,
    "start_time": "2022-04-19T18:26:56.495Z"
   },
   {
    "duration": 4,
    "start_time": "2022-04-19T18:26:56.796Z"
   },
   {
    "duration": 33,
    "start_time": "2022-04-19T18:26:56.803Z"
   },
   {
    "duration": 0,
    "start_time": "2022-04-19T18:26:56.838Z"
   },
   {
    "duration": 0,
    "start_time": "2022-04-19T18:26:56.839Z"
   },
   {
    "duration": 0,
    "start_time": "2022-04-19T18:26:56.841Z"
   },
   {
    "duration": 0,
    "start_time": "2022-04-19T18:26:56.842Z"
   },
   {
    "duration": 0,
    "start_time": "2022-04-19T18:26:56.843Z"
   },
   {
    "duration": 0,
    "start_time": "2022-04-19T18:26:56.845Z"
   },
   {
    "duration": 0,
    "start_time": "2022-04-19T18:26:56.852Z"
   },
   {
    "duration": 1859,
    "start_time": "2022-04-19T18:29:22.883Z"
   },
   {
    "duration": 1998,
    "start_time": "2022-04-19T18:29:35.715Z"
   },
   {
    "duration": 671437,
    "start_time": "2022-04-19T18:30:54.918Z"
   },
   {
    "duration": 20,
    "start_time": "2022-04-19T18:43:37.369Z"
   },
   {
    "duration": 4,
    "start_time": "2022-04-19T18:43:41.651Z"
   },
   {
    "duration": 12976,
    "start_time": "2022-04-19T18:43:44.185Z"
   },
   {
    "duration": 5,
    "start_time": "2022-04-19T18:44:05.155Z"
   },
   {
    "duration": 24535,
    "start_time": "2022-04-19T18:44:07.217Z"
   },
   {
    "duration": 15094,
    "start_time": "2022-04-19T18:44:41.640Z"
   },
   {
    "duration": 31774,
    "start_time": "2022-04-19T18:44:56.736Z"
   },
   {
    "duration": 8841,
    "start_time": "2022-04-19T18:45:28.512Z"
   },
   {
    "duration": 9804,
    "start_time": "2022-04-19T18:45:37.356Z"
   },
   {
    "duration": 7481,
    "start_time": "2022-04-19T18:55:54.782Z"
   },
   {
    "duration": 1761,
    "start_time": "2022-05-25T09:34:59.641Z"
   },
   {
    "duration": 1101,
    "start_time": "2022-05-25T09:35:01.404Z"
   },
   {
    "duration": 17,
    "start_time": "2022-05-25T09:35:02.506Z"
   },
   {
    "duration": 143,
    "start_time": "2022-05-25T09:35:02.525Z"
   },
   {
    "duration": 116,
    "start_time": "2022-05-25T09:35:02.669Z"
   },
   {
    "duration": 123,
    "start_time": "2022-05-25T09:35:02.786Z"
   },
   {
    "duration": 9,
    "start_time": "2022-05-25T09:35:02.910Z"
   },
   {
    "duration": 35,
    "start_time": "2022-05-25T09:35:02.921Z"
   },
   {
    "duration": 189,
    "start_time": "2022-05-25T09:35:02.957Z"
   },
   {
    "duration": 426,
    "start_time": "2022-05-25T09:35:03.149Z"
   },
   {
    "duration": 635,
    "start_time": "2022-05-25T09:35:03.576Z"
   },
   {
    "duration": 28,
    "start_time": "2022-05-25T09:35:04.212Z"
   },
   {
    "duration": 68,
    "start_time": "2022-05-25T09:35:04.242Z"
   },
   {
    "duration": 69,
    "start_time": "2022-05-25T09:35:04.312Z"
   },
   {
    "duration": 12,
    "start_time": "2022-05-25T09:35:04.383Z"
   },
   {
    "duration": 97,
    "start_time": "2022-05-25T09:35:04.397Z"
   },
   {
    "duration": 36,
    "start_time": "2022-05-25T09:35:04.496Z"
   },
   {
    "duration": 4,
    "start_time": "2022-05-25T09:35:04.533Z"
   },
   {
    "duration": 86,
    "start_time": "2022-05-25T09:35:04.539Z"
   },
   {
    "duration": 70,
    "start_time": "2022-05-25T09:35:04.626Z"
   },
   {
    "duration": 3,
    "start_time": "2022-05-25T09:35:04.698Z"
   },
   {
    "duration": 163,
    "start_time": "2022-05-25T09:35:04.703Z"
   },
   {
    "duration": 210,
    "start_time": "2022-05-25T09:35:04.868Z"
   },
   {
    "duration": 18,
    "start_time": "2022-05-25T09:35:05.080Z"
   },
   {
    "duration": 7,
    "start_time": "2022-05-25T09:35:05.099Z"
   },
   {
    "duration": 19,
    "start_time": "2022-05-25T09:35:05.108Z"
   },
   {
    "duration": 21,
    "start_time": "2022-05-25T09:35:05.129Z"
   },
   {
    "duration": 83,
    "start_time": "2022-05-25T09:35:05.155Z"
   },
   {
    "duration": 4,
    "start_time": "2022-05-25T09:35:05.239Z"
   },
   {
    "duration": 164,
    "start_time": "2022-05-25T09:35:05.245Z"
   },
   {
    "duration": 207,
    "start_time": "2022-05-25T09:35:05.411Z"
   },
   {
    "duration": 10,
    "start_time": "2022-05-25T09:35:05.619Z"
   },
   {
    "duration": 8,
    "start_time": "2022-05-25T09:35:05.630Z"
   },
   {
    "duration": 10,
    "start_time": "2022-05-25T09:35:05.639Z"
   },
   {
    "duration": 10,
    "start_time": "2022-05-25T09:35:05.651Z"
   },
   {
    "duration": 41,
    "start_time": "2022-05-25T09:35:05.662Z"
   },
   {
    "duration": 2,
    "start_time": "2022-05-25T09:35:05.705Z"
   },
   {
    "duration": 11,
    "start_time": "2022-05-25T09:35:05.709Z"
   },
   {
    "duration": 8,
    "start_time": "2022-05-25T09:35:05.721Z"
   },
   {
    "duration": 5,
    "start_time": "2022-05-25T09:35:05.731Z"
   },
   {
    "duration": 5,
    "start_time": "2022-05-25T09:35:05.737Z"
   },
   {
    "duration": 147,
    "start_time": "2022-05-25T09:35:05.743Z"
   },
   {
    "duration": 4,
    "start_time": "2022-05-25T09:35:05.893Z"
   },
   {
    "duration": 16,
    "start_time": "2022-05-25T09:35:05.898Z"
   },
   {
    "duration": 54,
    "start_time": "2022-05-25T09:35:05.916Z"
   },
   {
    "duration": 3,
    "start_time": "2022-05-25T09:35:05.971Z"
   },
   {
    "duration": 11,
    "start_time": "2022-05-25T09:35:05.975Z"
   },
   {
    "duration": 2982,
    "start_time": "2022-05-25T09:35:05.988Z"
   },
   {
    "duration": 798,
    "start_time": "2022-05-25T09:35:08.972Z"
   },
   {
    "duration": 738,
    "start_time": "2022-05-25T09:35:09.772Z"
   },
   {
    "duration": 4,
    "start_time": "2022-05-25T09:35:10.512Z"
   },
   {
    "duration": 8,
    "start_time": "2022-05-25T09:35:10.518Z"
   },
   {
    "duration": 7,
    "start_time": "2022-05-25T09:35:10.527Z"
   },
   {
    "duration": 24358,
    "start_time": "2022-05-25T09:35:10.536Z"
   },
   {
    "duration": 206,
    "start_time": "2022-05-25T09:35:34.897Z"
   },
   {
    "duration": 92,
    "start_time": "2022-05-25T09:35:35.105Z"
   },
   {
    "duration": 30,
    "start_time": "2022-05-25T09:35:35.199Z"
   },
   {
    "duration": 26,
    "start_time": "2022-05-25T09:35:35.230Z"
   },
   {
    "duration": 6721,
    "start_time": "2022-05-25T09:35:35.294Z"
   },
   {
    "duration": 378,
    "start_time": "2022-05-25T09:35:42.017Z"
   },
   {
    "duration": 4,
    "start_time": "2022-05-25T09:35:42.397Z"
   },
   {
    "duration": 27,
    "start_time": "2022-05-25T09:35:42.403Z"
   },
   {
    "duration": 29,
    "start_time": "2022-05-25T09:35:42.431Z"
   },
   {
    "duration": 443053,
    "start_time": "2022-05-25T09:35:42.495Z"
   },
   {
    "duration": 3260,
    "start_time": "2022-05-25T09:43:05.550Z"
   },
   {
    "duration": 5,
    "start_time": "2022-05-25T09:43:08.812Z"
   },
   {
    "duration": 19,
    "start_time": "2022-05-25T09:43:08.819Z"
   },
   {
    "duration": 32,
    "start_time": "2022-05-25T09:43:08.840Z"
   },
   {
    "duration": 289611,
    "start_time": "2022-05-25T09:43:08.875Z"
   },
   {
    "duration": 177,
    "start_time": "2022-05-25T09:47:58.488Z"
   },
   {
    "duration": 2,
    "start_time": "2022-05-25T09:47:58.667Z"
   },
   {
    "duration": 9033,
    "start_time": "2022-05-25T09:47:58.670Z"
   },
   {
    "duration": 3,
    "start_time": "2022-05-25T09:48:07.705Z"
   },
   {
    "duration": 24392,
    "start_time": "2022-05-25T09:48:07.710Z"
   },
   {
    "duration": 1589,
    "start_time": "2022-05-25T09:48:32.196Z"
   },
   {
    "duration": 28019,
    "start_time": "2022-05-25T09:48:33.786Z"
   },
   {
    "duration": 6127,
    "start_time": "2022-05-25T09:49:01.807Z"
   },
   {
    "duration": 5777,
    "start_time": "2022-05-25T09:49:07.936Z"
   },
   {
    "duration": 46,
    "start_time": "2022-05-25T09:54:11.365Z"
   },
   {
    "duration": 4,
    "start_time": "2022-05-25T09:54:19.432Z"
   },
   {
    "duration": 4,
    "start_time": "2022-05-25T09:55:53.585Z"
   },
   {
    "duration": 5,
    "start_time": "2022-05-25T09:57:58.779Z"
   },
   {
    "duration": 23776,
    "start_time": "2022-05-25T09:58:09.426Z"
   },
   {
    "duration": 4,
    "start_time": "2022-05-25T09:58:41.601Z"
   },
   {
    "duration": 51,
    "start_time": "2022-05-25T10:15:22.952Z"
   },
   {
    "duration": 1317,
    "start_time": "2022-05-25T10:15:30.805Z"
   },
   {
    "duration": 797,
    "start_time": "2022-05-25T10:15:32.124Z"
   },
   {
    "duration": 17,
    "start_time": "2022-05-25T10:15:32.922Z"
   },
   {
    "duration": 135,
    "start_time": "2022-05-25T10:15:32.941Z"
   },
   {
    "duration": 132,
    "start_time": "2022-05-25T10:15:33.077Z"
   },
   {
    "duration": 133,
    "start_time": "2022-05-25T10:15:33.210Z"
   },
   {
    "duration": 3,
    "start_time": "2022-05-25T10:15:33.345Z"
   },
   {
    "duration": 21,
    "start_time": "2022-05-25T10:15:33.350Z"
   },
   {
    "duration": 182,
    "start_time": "2022-05-25T10:15:33.373Z"
   },
   {
    "duration": 446,
    "start_time": "2022-05-25T10:15:33.558Z"
   },
   {
    "duration": 675,
    "start_time": "2022-05-25T10:15:34.006Z"
   },
   {
    "duration": 31,
    "start_time": "2022-05-25T10:15:34.682Z"
   },
   {
    "duration": 35,
    "start_time": "2022-05-25T10:15:34.715Z"
   },
   {
    "duration": 95,
    "start_time": "2022-05-25T10:15:34.751Z"
   },
   {
    "duration": 3,
    "start_time": "2022-05-25T10:15:34.847Z"
   },
   {
    "duration": 102,
    "start_time": "2022-05-25T10:15:34.851Z"
   },
   {
    "duration": 43,
    "start_time": "2022-05-25T10:15:34.954Z"
   },
   {
    "duration": 5,
    "start_time": "2022-05-25T10:15:34.998Z"
   },
   {
    "duration": 82,
    "start_time": "2022-05-25T10:15:35.004Z"
   },
   {
    "duration": 64,
    "start_time": "2022-05-25T10:15:35.088Z"
   },
   {
    "duration": 3,
    "start_time": "2022-05-25T10:15:35.153Z"
   },
   {
    "duration": 176,
    "start_time": "2022-05-25T10:15:35.157Z"
   },
   {
    "duration": 206,
    "start_time": "2022-05-25T10:15:35.335Z"
   },
   {
    "duration": 7,
    "start_time": "2022-05-25T10:15:35.542Z"
   },
   {
    "duration": 16,
    "start_time": "2022-05-25T10:15:35.550Z"
   },
   {
    "duration": 30,
    "start_time": "2022-05-25T10:15:35.567Z"
   },
   {
    "duration": 19,
    "start_time": "2022-05-25T10:15:35.599Z"
   },
   {
    "duration": 54,
    "start_time": "2022-05-25T10:15:35.623Z"
   },
   {
    "duration": 3,
    "start_time": "2022-05-25T10:15:35.679Z"
   },
   {
    "duration": 158,
    "start_time": "2022-05-25T10:15:35.693Z"
   },
   {
    "duration": 224,
    "start_time": "2022-05-25T10:15:35.852Z"
   },
   {
    "duration": 17,
    "start_time": "2022-05-25T10:15:36.078Z"
   },
   {
    "duration": 11,
    "start_time": "2022-05-25T10:15:36.096Z"
   },
   {
    "duration": 12,
    "start_time": "2022-05-25T10:15:36.109Z"
   },
   {
    "duration": 18,
    "start_time": "2022-05-25T10:15:36.122Z"
   },
   {
    "duration": 22,
    "start_time": "2022-05-25T10:15:36.141Z"
   },
   {
    "duration": 4,
    "start_time": "2022-05-25T10:15:36.164Z"
   },
   {
    "duration": 27,
    "start_time": "2022-05-25T10:15:36.170Z"
   },
   {
    "duration": 18,
    "start_time": "2022-05-25T10:15:36.199Z"
   },
   {
    "duration": 23,
    "start_time": "2022-05-25T10:15:36.219Z"
   },
   {
    "duration": 14,
    "start_time": "2022-05-25T10:15:36.243Z"
   },
   {
    "duration": 130,
    "start_time": "2022-05-25T10:15:36.258Z"
   },
   {
    "duration": 5,
    "start_time": "2022-05-25T10:15:36.390Z"
   },
   {
    "duration": 9,
    "start_time": "2022-05-25T10:15:36.396Z"
   },
   {
    "duration": 88,
    "start_time": "2022-05-25T10:15:36.406Z"
   },
   {
    "duration": 3,
    "start_time": "2022-05-25T10:15:36.496Z"
   },
   {
    "duration": 24,
    "start_time": "2022-05-25T10:15:36.501Z"
   },
   {
    "duration": 2693,
    "start_time": "2022-05-25T10:15:36.526Z"
   },
   {
    "duration": 763,
    "start_time": "2022-05-25T10:15:39.221Z"
   },
   {
    "duration": 782,
    "start_time": "2022-05-25T10:15:39.985Z"
   },
   {
    "duration": 5,
    "start_time": "2022-05-25T10:15:40.768Z"
   },
   {
    "duration": 7,
    "start_time": "2022-05-25T10:15:40.774Z"
   },
   {
    "duration": 12,
    "start_time": "2022-05-25T10:15:40.783Z"
   },
   {
    "duration": 18498,
    "start_time": "2022-05-25T10:15:40.796Z"
   },
   {
    "duration": 201,
    "start_time": "2022-05-25T10:15:59.297Z"
   },
   {
    "duration": 95,
    "start_time": "2022-05-25T10:15:59.500Z"
   },
   {
    "duration": 5,
    "start_time": "2022-05-25T10:15:59.597Z"
   },
   {
    "duration": 9,
    "start_time": "2022-05-25T10:15:59.603Z"
   },
   {
    "duration": 6307,
    "start_time": "2022-05-25T10:15:59.614Z"
   },
   {
    "duration": 181,
    "start_time": "2022-05-25T10:16:05.923Z"
   },
   {
    "duration": 5,
    "start_time": "2022-05-25T10:16:06.106Z"
   },
   {
    "duration": 6,
    "start_time": "2022-05-25T10:16:06.113Z"
   },
   {
    "duration": 11,
    "start_time": "2022-05-25T10:16:06.121Z"
   },
   {
    "duration": 5,
    "start_time": "2022-05-25T10:16:06.133Z"
   },
   {
    "duration": 8,
    "start_time": "2022-05-25T10:16:06.139Z"
   },
   {
    "duration": 436051,
    "start_time": "2022-05-25T10:16:06.149Z"
   },
   {
    "duration": 3042,
    "start_time": "2022-05-25T10:23:22.202Z"
   },
   {
    "duration": 5,
    "start_time": "2022-05-25T10:23:25.246Z"
   },
   {
    "duration": 8,
    "start_time": "2022-05-25T10:23:25.253Z"
   },
   {
    "duration": 7,
    "start_time": "2022-05-25T10:23:25.262Z"
   },
   {
    "duration": 286310,
    "start_time": "2022-05-25T10:23:25.271Z"
   },
   {
    "duration": 172,
    "start_time": "2022-05-25T10:28:11.582Z"
   },
   {
    "duration": 2,
    "start_time": "2022-05-25T10:28:11.756Z"
   },
   {
    "duration": 6542,
    "start_time": "2022-05-25T10:28:11.760Z"
   },
   {
    "duration": 5,
    "start_time": "2022-05-25T10:28:18.304Z"
   },
   {
    "duration": 24384,
    "start_time": "2022-05-25T10:28:18.311Z"
   },
   {
    "duration": 1587,
    "start_time": "2022-05-25T10:28:42.697Z"
   },
   {
    "duration": 27868,
    "start_time": "2022-05-25T10:28:44.286Z"
   },
   {
    "duration": 6121,
    "start_time": "2022-05-25T10:29:12.155Z"
   },
   {
    "duration": 5818,
    "start_time": "2022-05-25T10:29:18.277Z"
   },
   {
    "duration": 3,
    "start_time": "2022-05-25T10:29:24.097Z"
   },
   {
    "duration": 6337,
    "start_time": "2022-05-25T10:32:24.412Z"
   },
   {
    "duration": 4,
    "start_time": "2022-05-25T10:32:37.617Z"
   },
   {
    "duration": 1311,
    "start_time": "2022-05-25T10:39:11.333Z"
   },
   {
    "duration": 844,
    "start_time": "2022-05-25T10:39:12.646Z"
   },
   {
    "duration": 17,
    "start_time": "2022-05-25T10:39:13.492Z"
   },
   {
    "duration": 139,
    "start_time": "2022-05-25T10:39:13.511Z"
   },
   {
    "duration": 127,
    "start_time": "2022-05-25T10:39:13.651Z"
   },
   {
    "duration": 124,
    "start_time": "2022-05-25T10:39:13.780Z"
   },
   {
    "duration": 4,
    "start_time": "2022-05-25T10:39:13.905Z"
   },
   {
    "duration": 29,
    "start_time": "2022-05-25T10:39:13.910Z"
   },
   {
    "duration": 188,
    "start_time": "2022-05-25T10:39:13.941Z"
   },
   {
    "duration": 452,
    "start_time": "2022-05-25T10:39:14.132Z"
   },
   {
    "duration": 692,
    "start_time": "2022-05-25T10:39:14.586Z"
   },
   {
    "duration": 33,
    "start_time": "2022-05-25T10:39:15.279Z"
   },
   {
    "duration": 52,
    "start_time": "2022-05-25T10:39:15.313Z"
   },
   {
    "duration": 85,
    "start_time": "2022-05-25T10:39:15.367Z"
   },
   {
    "duration": 3,
    "start_time": "2022-05-25T10:39:15.454Z"
   },
   {
    "duration": 99,
    "start_time": "2022-05-25T10:39:15.458Z"
   },
   {
    "duration": 42,
    "start_time": "2022-05-25T10:39:15.559Z"
   },
   {
    "duration": 4,
    "start_time": "2022-05-25T10:39:15.603Z"
   },
   {
    "duration": 96,
    "start_time": "2022-05-25T10:39:15.609Z"
   },
   {
    "duration": 63,
    "start_time": "2022-05-25T10:39:15.707Z"
   },
   {
    "duration": 3,
    "start_time": "2022-05-25T10:39:15.771Z"
   },
   {
    "duration": 179,
    "start_time": "2022-05-25T10:39:15.775Z"
   },
   {
    "duration": 234,
    "start_time": "2022-05-25T10:39:15.956Z"
   },
   {
    "duration": 9,
    "start_time": "2022-05-25T10:39:16.191Z"
   },
   {
    "duration": 6,
    "start_time": "2022-05-25T10:39:16.202Z"
   },
   {
    "duration": 22,
    "start_time": "2022-05-25T10:39:16.209Z"
   },
   {
    "duration": 22,
    "start_time": "2022-05-25T10:39:16.233Z"
   },
   {
    "duration": 77,
    "start_time": "2022-05-25T10:39:16.259Z"
   },
   {
    "duration": 5,
    "start_time": "2022-05-25T10:39:16.338Z"
   },
   {
    "duration": 178,
    "start_time": "2022-05-25T10:39:16.344Z"
   },
   {
    "duration": 206,
    "start_time": "2022-05-25T10:39:16.524Z"
   },
   {
    "duration": 10,
    "start_time": "2022-05-25T10:39:16.731Z"
   },
   {
    "duration": 7,
    "start_time": "2022-05-25T10:39:16.742Z"
   },
   {
    "duration": 9,
    "start_time": "2022-05-25T10:39:16.751Z"
   },
   {
    "duration": 37,
    "start_time": "2022-05-25T10:39:16.762Z"
   },
   {
    "duration": 10,
    "start_time": "2022-05-25T10:39:16.801Z"
   },
   {
    "duration": 3,
    "start_time": "2022-05-25T10:39:16.812Z"
   },
   {
    "duration": 7,
    "start_time": "2022-05-25T10:39:16.816Z"
   },
   {
    "duration": 7,
    "start_time": "2022-05-25T10:39:16.824Z"
   },
   {
    "duration": 6,
    "start_time": "2022-05-25T10:39:16.832Z"
   },
   {
    "duration": 6,
    "start_time": "2022-05-25T10:39:16.840Z"
   },
   {
    "duration": 156,
    "start_time": "2022-05-25T10:39:16.847Z"
   },
   {
    "duration": 4,
    "start_time": "2022-05-25T10:39:17.004Z"
   },
   {
    "duration": 6,
    "start_time": "2022-05-25T10:39:17.010Z"
   },
   {
    "duration": 52,
    "start_time": "2022-05-25T10:39:17.018Z"
   },
   {
    "duration": 3,
    "start_time": "2022-05-25T10:39:17.072Z"
   },
   {
    "duration": 19,
    "start_time": "2022-05-25T10:39:17.076Z"
   },
   {
    "duration": 3018,
    "start_time": "2022-05-25T10:39:17.097Z"
   },
   {
    "duration": 865,
    "start_time": "2022-05-25T10:39:20.117Z"
   },
   {
    "duration": 862,
    "start_time": "2022-05-25T10:39:20.984Z"
   },
   {
    "duration": 4,
    "start_time": "2022-05-25T10:39:21.848Z"
   },
   {
    "duration": 14,
    "start_time": "2022-05-25T10:39:21.854Z"
   },
   {
    "duration": 13,
    "start_time": "2022-05-25T10:39:21.869Z"
   },
   {
    "duration": 17810,
    "start_time": "2022-05-25T10:39:21.884Z"
   },
   {
    "duration": 202,
    "start_time": "2022-05-25T10:39:39.696Z"
   },
   {
    "duration": 95,
    "start_time": "2022-05-25T10:39:39.900Z"
   },
   {
    "duration": 6,
    "start_time": "2022-05-25T10:39:39.997Z"
   },
   {
    "duration": 7,
    "start_time": "2022-05-25T10:39:40.005Z"
   },
   {
    "duration": 6650,
    "start_time": "2022-05-25T10:39:40.013Z"
   },
   {
    "duration": 178,
    "start_time": "2022-05-25T10:39:46.665Z"
   },
   {
    "duration": 4,
    "start_time": "2022-05-25T10:39:46.845Z"
   },
   {
    "duration": 24,
    "start_time": "2022-05-25T10:39:46.851Z"
   },
   {
    "duration": 38,
    "start_time": "2022-05-25T10:39:46.877Z"
   },
   {
    "duration": 27,
    "start_time": "2022-05-25T10:39:46.917Z"
   },
   {
    "duration": 13,
    "start_time": "2022-05-25T10:39:46.946Z"
   },
   {
    "duration": 442717,
    "start_time": "2022-05-25T10:39:46.961Z"
   },
   {
    "duration": 3182,
    "start_time": "2022-05-25T10:47:09.680Z"
   },
   {
    "duration": 4,
    "start_time": "2022-05-25T10:47:12.864Z"
   },
   {
    "duration": 4,
    "start_time": "2022-05-25T10:47:12.870Z"
   },
   {
    "duration": 8,
    "start_time": "2022-05-25T10:47:12.876Z"
   },
   {
    "duration": 279988,
    "start_time": "2022-05-25T10:47:12.895Z"
   },
   {
    "duration": 185,
    "start_time": "2022-05-25T10:51:52.884Z"
   },
   {
    "duration": 3,
    "start_time": "2022-05-25T10:51:53.071Z"
   },
   {
    "duration": 6719,
    "start_time": "2022-05-25T10:51:53.076Z"
   },
   {
    "duration": 5,
    "start_time": "2022-05-25T10:51:59.796Z"
   },
   {
    "duration": 24298,
    "start_time": "2022-05-25T10:51:59.802Z"
   },
   {
    "duration": 1666,
    "start_time": "2022-05-25T10:52:24.101Z"
   },
   {
    "duration": 28074,
    "start_time": "2022-05-25T10:52:25.769Z"
   },
   {
    "duration": 6306,
    "start_time": "2022-05-25T10:52:53.845Z"
   },
   {
    "duration": 5949,
    "start_time": "2022-05-25T10:53:00.153Z"
   },
   {
    "duration": 4,
    "start_time": "2022-05-25T10:53:06.104Z"
   },
   {
    "duration": 4,
    "start_time": "2022-05-25T10:53:06.113Z"
   },
   {
    "duration": 9,
    "start_time": "2022-05-25T10:53:18.330Z"
   },
   {
    "duration": 23701,
    "start_time": "2022-05-25T11:34:44.495Z"
   },
   {
    "duration": 4,
    "start_time": "2022-05-25T11:35:15.396Z"
   },
   {
    "duration": 194,
    "start_time": "2022-05-25T11:35:18.011Z"
   },
   {
    "duration": 173,
    "start_time": "2022-05-25T11:35:23.289Z"
   },
   {
    "duration": 3183,
    "start_time": "2022-05-25T11:35:25.955Z"
   },
   {
    "duration": 680,
    "start_time": "2022-05-25T11:35:32.475Z"
   },
   {
    "duration": 638,
    "start_time": "2022-05-25T11:35:38.458Z"
   },
   {
    "duration": 7,
    "start_time": "2022-05-25T11:35:47.888Z"
   },
   {
    "duration": 9,
    "start_time": "2022-05-25T11:35:51.069Z"
   },
   {
    "duration": 3,
    "start_time": "2022-05-25T11:37:33.668Z"
   },
   {
    "duration": 114,
    "start_time": "2022-05-25T11:37:35.786Z"
   },
   {
    "duration": 169,
    "start_time": "2022-05-25T11:37:37.844Z"
   },
   {
    "duration": 3109,
    "start_time": "2022-05-25T11:37:40.315Z"
   },
   {
    "duration": 691,
    "start_time": "2022-05-25T11:37:43.426Z"
   },
   {
    "duration": 636,
    "start_time": "2022-05-25T11:37:48.675Z"
   },
   {
    "duration": 40,
    "start_time": "2022-05-25T11:37:51.228Z"
   },
   {
    "duration": 137,
    "start_time": "2022-05-25T11:37:56.028Z"
   },
   {
    "duration": 50,
    "start_time": "2022-05-25T11:38:03.292Z"
   },
   {
    "duration": 7,
    "start_time": "2022-05-25T11:38:08.158Z"
   },
   {
    "duration": 13,
    "start_time": "2022-05-25T11:38:10.605Z"
   },
   {
    "duration": 6,
    "start_time": "2022-05-25T11:38:19.499Z"
   },
   {
    "duration": 8,
    "start_time": "2022-05-25T11:38:24.131Z"
   },
   {
    "duration": 127,
    "start_time": "2022-05-25T11:39:37.337Z"
   },
   {
    "duration": 1559,
    "start_time": "2022-05-25T13:09:17.111Z"
   },
   {
    "duration": 1462,
    "start_time": "2022-05-25T13:09:18.672Z"
   },
   {
    "duration": 80,
    "start_time": "2022-05-25T13:09:20.136Z"
   },
   {
    "duration": 391,
    "start_time": "2022-05-25T13:09:20.218Z"
   },
   {
    "duration": 389,
    "start_time": "2022-05-25T13:09:20.612Z"
   },
   {
    "duration": 229,
    "start_time": "2022-05-25T13:09:21.002Z"
   },
   {
    "duration": 3,
    "start_time": "2022-05-25T13:09:21.233Z"
   },
   {
    "duration": 84,
    "start_time": "2022-05-25T13:09:21.238Z"
   },
   {
    "duration": 391,
    "start_time": "2022-05-25T13:09:21.324Z"
   },
   {
    "duration": 582,
    "start_time": "2022-05-25T13:09:21.717Z"
   },
   {
    "duration": 820,
    "start_time": "2022-05-25T13:09:22.301Z"
   },
   {
    "duration": 31,
    "start_time": "2022-05-25T13:09:23.123Z"
   },
   {
    "duration": 71,
    "start_time": "2022-05-25T13:09:23.156Z"
   },
   {
    "duration": 97,
    "start_time": "2022-05-25T13:09:23.229Z"
   },
   {
    "duration": 3,
    "start_time": "2022-05-25T13:09:23.327Z"
   },
   {
    "duration": 115,
    "start_time": "2022-05-25T13:09:23.332Z"
   },
   {
    "duration": 45,
    "start_time": "2022-05-25T13:09:23.449Z"
   },
   {
    "duration": 6,
    "start_time": "2022-05-25T13:09:23.496Z"
   },
   {
    "duration": 107,
    "start_time": "2022-05-25T13:09:23.504Z"
   },
   {
    "duration": 68,
    "start_time": "2022-05-25T13:09:23.614Z"
   },
   {
    "duration": 11,
    "start_time": "2022-05-25T13:09:23.684Z"
   },
   {
    "duration": 180,
    "start_time": "2022-05-25T13:09:23.698Z"
   },
   {
    "duration": 272,
    "start_time": "2022-05-25T13:09:23.880Z"
   },
   {
    "duration": 8,
    "start_time": "2022-05-25T13:09:24.154Z"
   },
   {
    "duration": 6,
    "start_time": "2022-05-25T13:09:24.164Z"
   },
   {
    "duration": 47,
    "start_time": "2022-05-25T13:09:24.172Z"
   },
   {
    "duration": 23,
    "start_time": "2022-05-25T13:09:24.221Z"
   },
   {
    "duration": 71,
    "start_time": "2022-05-25T13:09:24.248Z"
   },
   {
    "duration": 8,
    "start_time": "2022-05-25T13:09:24.321Z"
   },
   {
    "duration": 173,
    "start_time": "2022-05-25T13:09:24.332Z"
   },
   {
    "duration": 247,
    "start_time": "2022-05-25T13:09:24.507Z"
   },
   {
    "duration": 10,
    "start_time": "2022-05-25T13:09:24.755Z"
   },
   {
    "duration": 7,
    "start_time": "2022-05-25T13:09:24.766Z"
   },
   {
    "duration": 39,
    "start_time": "2022-05-25T13:09:24.775Z"
   },
   {
    "duration": 11,
    "start_time": "2022-05-25T13:09:24.817Z"
   },
   {
    "duration": 9,
    "start_time": "2022-05-25T13:09:24.830Z"
   },
   {
    "duration": 2,
    "start_time": "2022-05-25T13:09:24.841Z"
   },
   {
    "duration": 8,
    "start_time": "2022-05-25T13:09:24.844Z"
   },
   {
    "duration": 6,
    "start_time": "2022-05-25T13:09:24.853Z"
   },
   {
    "duration": 12,
    "start_time": "2022-05-25T13:09:24.860Z"
   },
   {
    "duration": 30,
    "start_time": "2022-05-25T13:09:24.873Z"
   },
   {
    "duration": 145,
    "start_time": "2022-05-25T13:09:24.905Z"
   },
   {
    "duration": 4,
    "start_time": "2022-05-25T13:09:25.052Z"
   },
   {
    "duration": 10,
    "start_time": "2022-05-25T13:09:25.057Z"
   },
   {
    "duration": 75,
    "start_time": "2022-05-25T13:09:25.069Z"
   },
   {
    "duration": 3,
    "start_time": "2022-05-25T13:09:25.146Z"
   },
   {
    "duration": 9,
    "start_time": "2022-05-25T13:09:25.150Z"
   },
   {
    "duration": 3331,
    "start_time": "2022-05-25T13:09:25.160Z"
   },
   {
    "duration": 931,
    "start_time": "2022-05-25T13:09:28.494Z"
   },
   {
    "duration": 846,
    "start_time": "2022-05-25T13:09:29.426Z"
   },
   {
    "duration": 6,
    "start_time": "2022-05-25T13:09:30.274Z"
   },
   {
    "duration": 16,
    "start_time": "2022-05-25T13:09:30.281Z"
   },
   {
    "duration": 9,
    "start_time": "2022-05-25T13:09:30.299Z"
   },
   {
    "duration": 54711,
    "start_time": "2022-05-25T13:09:30.310Z"
   },
   {
    "duration": 273,
    "start_time": "2022-05-25T13:10:25.023Z"
   },
   {
    "duration": 12,
    "start_time": "2022-05-25T13:10:25.299Z"
   },
   {
    "duration": 102,
    "start_time": "2022-05-25T13:10:25.314Z"
   },
   {
    "duration": 34,
    "start_time": "2022-05-25T13:10:25.419Z"
   },
   {
    "duration": 6844,
    "start_time": "2022-05-25T13:10:25.455Z"
   },
   {
    "duration": 196,
    "start_time": "2022-05-25T13:10:32.301Z"
   },
   {
    "duration": 7,
    "start_time": "2022-05-25T13:10:32.500Z"
   },
   {
    "duration": 14,
    "start_time": "2022-05-25T13:10:32.510Z"
   },
   {
    "duration": 10,
    "start_time": "2022-05-25T13:10:32.526Z"
   },
   {
    "duration": 481922,
    "start_time": "2022-05-25T13:10:32.538Z"
   },
   {
    "duration": 3272,
    "start_time": "2022-05-25T13:18:34.461Z"
   },
   {
    "duration": 5,
    "start_time": "2022-05-25T13:18:37.735Z"
   },
   {
    "duration": 281,
    "start_time": "2022-05-25T13:18:37.742Z"
   },
   {
    "duration": 0,
    "start_time": "2022-05-25T13:18:38.026Z"
   },
   {
    "duration": 0,
    "start_time": "2022-05-25T13:18:38.028Z"
   },
   {
    "duration": 0,
    "start_time": "2022-05-25T13:18:38.029Z"
   },
   {
    "duration": 0,
    "start_time": "2022-05-25T13:18:38.030Z"
   },
   {
    "duration": 0,
    "start_time": "2022-05-25T13:18:38.031Z"
   },
   {
    "duration": 0,
    "start_time": "2022-05-25T13:18:38.032Z"
   },
   {
    "duration": 0,
    "start_time": "2022-05-25T13:18:38.033Z"
   },
   {
    "duration": 0,
    "start_time": "2022-05-25T13:18:38.034Z"
   },
   {
    "duration": 0,
    "start_time": "2022-05-25T13:18:38.036Z"
   },
   {
    "duration": 0,
    "start_time": "2022-05-25T13:18:38.036Z"
   },
   {
    "duration": 1,
    "start_time": "2022-05-25T13:18:38.037Z"
   },
   {
    "duration": 0,
    "start_time": "2022-05-25T13:18:38.039Z"
   },
   {
    "duration": 0,
    "start_time": "2022-05-25T13:18:38.040Z"
   },
   {
    "duration": 0,
    "start_time": "2022-05-25T13:18:38.042Z"
   },
   {
    "duration": 472,
    "start_time": "2022-05-25T13:19:25.667Z"
   },
   {
    "duration": 580,
    "start_time": "2022-05-25T13:19:43.655Z"
   },
   {
    "duration": 518,
    "start_time": "2022-05-25T13:20:08.496Z"
   },
   {
    "duration": 553,
    "start_time": "2022-05-25T13:20:37.856Z"
   },
   {
    "duration": 520,
    "start_time": "2022-05-25T13:21:46.751Z"
   },
   {
    "duration": 1653,
    "start_time": "2022-05-25T13:56:05.852Z"
   },
   {
    "duration": 1184,
    "start_time": "2022-05-25T13:56:07.507Z"
   },
   {
    "duration": 19,
    "start_time": "2022-05-25T13:56:08.694Z"
   },
   {
    "duration": 243,
    "start_time": "2022-05-25T13:56:08.716Z"
   },
   {
    "duration": 220,
    "start_time": "2022-05-25T13:56:08.961Z"
   },
   {
    "duration": 191,
    "start_time": "2022-05-25T13:56:09.184Z"
   },
   {
    "duration": 16,
    "start_time": "2022-05-25T13:56:09.378Z"
   },
   {
    "duration": 40,
    "start_time": "2022-05-25T13:56:09.396Z"
   },
   {
    "duration": 301,
    "start_time": "2022-05-25T13:56:09.439Z"
   },
   {
    "duration": 557,
    "start_time": "2022-05-25T13:56:09.743Z"
   },
   {
    "duration": 804,
    "start_time": "2022-05-25T13:56:10.303Z"
   },
   {
    "duration": 33,
    "start_time": "2022-05-25T13:56:11.109Z"
   },
   {
    "duration": 69,
    "start_time": "2022-05-25T13:56:11.143Z"
   },
   {
    "duration": 86,
    "start_time": "2022-05-25T13:56:11.213Z"
   },
   {
    "duration": 4,
    "start_time": "2022-05-25T13:56:11.300Z"
   },
   {
    "duration": 125,
    "start_time": "2022-05-25T13:56:11.305Z"
   },
   {
    "duration": 40,
    "start_time": "2022-05-25T13:56:11.432Z"
   },
   {
    "duration": 4,
    "start_time": "2022-05-25T13:56:11.474Z"
   },
   {
    "duration": 81,
    "start_time": "2022-05-25T13:56:11.493Z"
   },
   {
    "duration": 129,
    "start_time": "2022-05-25T13:56:11.575Z"
   },
   {
    "duration": 4,
    "start_time": "2022-05-25T13:56:11.707Z"
   },
   {
    "duration": 398,
    "start_time": "2022-05-25T13:56:11.713Z"
   },
   {
    "duration": 492,
    "start_time": "2022-05-25T13:56:12.113Z"
   },
   {
    "duration": 9,
    "start_time": "2022-05-25T13:56:12.607Z"
   },
   {
    "duration": 7,
    "start_time": "2022-05-25T13:56:12.618Z"
   },
   {
    "duration": 77,
    "start_time": "2022-05-25T13:56:12.627Z"
   },
   {
    "duration": 23,
    "start_time": "2022-05-25T13:56:12.707Z"
   },
   {
    "duration": 163,
    "start_time": "2022-05-25T13:56:12.734Z"
   },
   {
    "duration": 3,
    "start_time": "2022-05-25T13:56:12.899Z"
   },
   {
    "duration": 399,
    "start_time": "2022-05-25T13:56:12.904Z"
   },
   {
    "duration": 425,
    "start_time": "2022-05-25T13:56:13.305Z"
   },
   {
    "duration": 12,
    "start_time": "2022-05-25T13:56:13.732Z"
   },
   {
    "duration": 8,
    "start_time": "2022-05-25T13:56:13.746Z"
   },
   {
    "duration": 11,
    "start_time": "2022-05-25T13:56:13.756Z"
   },
   {
    "duration": 11,
    "start_time": "2022-05-25T13:56:13.795Z"
   },
   {
    "duration": 12,
    "start_time": "2022-05-25T13:56:13.810Z"
   },
   {
    "duration": 2,
    "start_time": "2022-05-25T13:56:13.823Z"
   },
   {
    "duration": 12,
    "start_time": "2022-05-25T13:56:13.827Z"
   },
   {
    "duration": 7,
    "start_time": "2022-05-25T13:56:13.841Z"
   },
   {
    "duration": 25,
    "start_time": "2022-05-25T13:56:13.850Z"
   },
   {
    "duration": 20,
    "start_time": "2022-05-25T13:56:13.877Z"
   },
   {
    "duration": 139,
    "start_time": "2022-05-25T13:56:13.899Z"
   },
   {
    "duration": 4,
    "start_time": "2022-05-25T13:56:14.040Z"
   },
   {
    "duration": 9,
    "start_time": "2022-05-25T13:56:14.046Z"
   },
   {
    "duration": 83,
    "start_time": "2022-05-25T13:56:14.057Z"
   },
   {
    "duration": 4,
    "start_time": "2022-05-25T13:56:14.142Z"
   },
   {
    "duration": 11,
    "start_time": "2022-05-25T13:56:14.149Z"
   },
   {
    "duration": 3039,
    "start_time": "2022-05-25T13:56:14.162Z"
   },
   {
    "duration": 838,
    "start_time": "2022-05-25T13:56:17.202Z"
   },
   {
    "duration": 871,
    "start_time": "2022-05-25T13:56:18.042Z"
   },
   {
    "duration": 7,
    "start_time": "2022-05-25T13:56:18.915Z"
   },
   {
    "duration": 16,
    "start_time": "2022-05-25T13:56:18.924Z"
   },
   {
    "duration": 24,
    "start_time": "2022-05-25T13:56:18.942Z"
   },
   {
    "duration": 22248,
    "start_time": "2022-05-25T13:56:18.968Z"
   },
   {
    "duration": 183,
    "start_time": "2022-05-25T13:56:41.218Z"
   },
   {
    "duration": 93,
    "start_time": "2022-05-25T13:56:41.403Z"
   },
   {
    "duration": 95,
    "start_time": "2022-05-25T13:56:41.499Z"
   },
   {
    "duration": 3,
    "start_time": "2022-05-25T13:56:41.596Z"
   },
   {
    "duration": 6898,
    "start_time": "2022-05-25T13:56:41.600Z"
   },
   {
    "duration": 176,
    "start_time": "2022-05-25T13:56:48.500Z"
   },
   {
    "duration": 5,
    "start_time": "2022-05-25T13:56:48.677Z"
   },
   {
    "duration": 13,
    "start_time": "2022-05-25T13:56:48.684Z"
   },
   {
    "duration": 14,
    "start_time": "2022-05-25T13:56:48.699Z"
   },
   {
    "duration": 467045,
    "start_time": "2022-05-25T13:56:48.714Z"
   },
   {
    "duration": 3398,
    "start_time": "2022-05-25T14:04:35.762Z"
   },
   {
    "duration": 7,
    "start_time": "2022-05-25T14:04:39.162Z"
   },
   {
    "duration": 515,
    "start_time": "2022-05-25T14:04:39.171Z"
   },
   {
    "duration": 3,
    "start_time": "2022-05-25T14:04:39.693Z"
   },
   {
    "duration": 13,
    "start_time": "2022-05-25T14:04:39.698Z"
   },
   {
    "duration": 283421,
    "start_time": "2022-05-25T14:04:39.713Z"
   },
   {
    "duration": 121,
    "start_time": "2022-05-25T14:09:23.136Z"
   },
   {
    "duration": 0,
    "start_time": "2022-05-25T14:09:23.258Z"
   },
   {
    "duration": 0,
    "start_time": "2022-05-25T14:09:23.259Z"
   },
   {
    "duration": 0,
    "start_time": "2022-05-25T14:09:23.261Z"
   },
   {
    "duration": 0,
    "start_time": "2022-05-25T14:09:23.262Z"
   },
   {
    "duration": 0,
    "start_time": "2022-05-25T14:09:23.263Z"
   },
   {
    "duration": 0,
    "start_time": "2022-05-25T14:09:23.264Z"
   },
   {
    "duration": 0,
    "start_time": "2022-05-25T14:09:23.265Z"
   },
   {
    "duration": 0,
    "start_time": "2022-05-25T14:09:23.266Z"
   },
   {
    "duration": 0,
    "start_time": "2022-05-25T14:09:23.267Z"
   },
   {
    "duration": 0,
    "start_time": "2022-05-25T14:09:23.268Z"
   },
   {
    "duration": 182,
    "start_time": "2022-05-25T14:10:58.046Z"
   },
   {
    "duration": 3,
    "start_time": "2022-05-25T14:11:00.835Z"
   },
   {
    "duration": 7124,
    "start_time": "2022-05-25T14:11:04.773Z"
   },
   {
    "duration": 4,
    "start_time": "2022-05-25T14:11:26.405Z"
   },
   {
    "duration": 401,
    "start_time": "2022-05-25T14:11:28.798Z"
   },
   {
    "duration": 556,
    "start_time": "2022-05-25T14:11:30.898Z"
   },
   {
    "duration": 3361,
    "start_time": "2022-05-25T14:11:33.334Z"
   },
   {
    "duration": 693,
    "start_time": "2022-05-25T14:11:37.798Z"
   },
   {
    "duration": 546,
    "start_time": "2022-05-25T14:11:40.055Z"
   },
   {
    "duration": 7,
    "start_time": "2022-05-25T14:11:42.581Z"
   },
   {
    "duration": 8,
    "start_time": "2022-05-25T14:11:46.309Z"
   },
   {
    "duration": 28,
    "start_time": "2022-05-25T14:34:36.591Z"
   },
   {
    "duration": 12,
    "start_time": "2022-05-25T14:34:49.828Z"
   },
   {
    "duration": 13,
    "start_time": "2022-05-25T14:35:01.327Z"
   },
   {
    "duration": 4,
    "start_time": "2022-05-25T14:35:08.771Z"
   },
   {
    "duration": 6,
    "start_time": "2022-05-25T14:35:38.776Z"
   },
   {
    "duration": 22,
    "start_time": "2022-05-25T14:35:42.537Z"
   },
   {
    "duration": 13,
    "start_time": "2022-05-25T14:36:52.382Z"
   },
   {
    "duration": 493,
    "start_time": "2022-05-25T14:37:02.280Z"
   },
   {
    "duration": 1486,
    "start_time": "2022-05-25T14:38:04.712Z"
   },
   {
    "duration": 1059,
    "start_time": "2022-05-25T14:38:06.201Z"
   },
   {
    "duration": 17,
    "start_time": "2022-05-25T14:38:07.261Z"
   },
   {
    "duration": 154,
    "start_time": "2022-05-25T14:38:07.280Z"
   },
   {
    "duration": 131,
    "start_time": "2022-05-25T14:38:07.436Z"
   },
   {
    "duration": 156,
    "start_time": "2022-05-25T14:38:07.569Z"
   },
   {
    "duration": 7,
    "start_time": "2022-05-25T14:38:07.727Z"
   },
   {
    "duration": 32,
    "start_time": "2022-05-25T14:38:07.736Z"
   },
   {
    "duration": 203,
    "start_time": "2022-05-25T14:38:07.771Z"
   },
   {
    "duration": 541,
    "start_time": "2022-05-25T14:38:07.977Z"
   },
   {
    "duration": 818,
    "start_time": "2022-05-25T14:38:08.520Z"
   },
   {
    "duration": 30,
    "start_time": "2022-05-25T14:38:09.339Z"
   },
   {
    "duration": 66,
    "start_time": "2022-05-25T14:38:09.371Z"
   },
   {
    "duration": 92,
    "start_time": "2022-05-25T14:38:09.438Z"
   },
   {
    "duration": 3,
    "start_time": "2022-05-25T14:38:09.532Z"
   },
   {
    "duration": 112,
    "start_time": "2022-05-25T14:38:09.536Z"
   },
   {
    "duration": 35,
    "start_time": "2022-05-25T14:38:09.649Z"
   },
   {
    "duration": 30,
    "start_time": "2022-05-25T14:38:09.686Z"
   },
   {
    "duration": 76,
    "start_time": "2022-05-25T14:38:09.718Z"
   },
   {
    "duration": 70,
    "start_time": "2022-05-25T14:38:09.796Z"
   },
   {
    "duration": 3,
    "start_time": "2022-05-25T14:38:09.867Z"
   },
   {
    "duration": 183,
    "start_time": "2022-05-25T14:38:09.872Z"
   },
   {
    "duration": 230,
    "start_time": "2022-05-25T14:38:10.057Z"
   },
   {
    "duration": 17,
    "start_time": "2022-05-25T14:38:10.293Z"
   },
   {
    "duration": 11,
    "start_time": "2022-05-25T14:38:10.313Z"
   },
   {
    "duration": 21,
    "start_time": "2022-05-25T14:38:10.326Z"
   },
   {
    "duration": 46,
    "start_time": "2022-05-25T14:38:10.349Z"
   },
   {
    "duration": 51,
    "start_time": "2022-05-25T14:38:10.404Z"
   },
   {
    "duration": 3,
    "start_time": "2022-05-25T14:38:10.457Z"
   },
   {
    "duration": 188,
    "start_time": "2022-05-25T14:38:10.462Z"
   },
   {
    "duration": 274,
    "start_time": "2022-05-25T14:38:10.652Z"
   },
   {
    "duration": 11,
    "start_time": "2022-05-25T14:38:10.928Z"
   },
   {
    "duration": 8,
    "start_time": "2022-05-25T14:38:10.940Z"
   },
   {
    "duration": 11,
    "start_time": "2022-05-25T14:38:10.950Z"
   },
   {
    "duration": 35,
    "start_time": "2022-05-25T14:38:10.962Z"
   },
   {
    "duration": 14,
    "start_time": "2022-05-25T14:38:11.000Z"
   },
   {
    "duration": 3,
    "start_time": "2022-05-25T14:38:11.016Z"
   },
   {
    "duration": 8,
    "start_time": "2022-05-25T14:38:11.020Z"
   },
   {
    "duration": 8,
    "start_time": "2022-05-25T14:38:11.029Z"
   },
   {
    "duration": 6,
    "start_time": "2022-05-25T14:38:11.038Z"
   },
   {
    "duration": 5,
    "start_time": "2022-05-25T14:38:11.045Z"
   },
   {
    "duration": 149,
    "start_time": "2022-05-25T14:38:11.051Z"
   },
   {
    "duration": 5,
    "start_time": "2022-05-25T14:38:11.202Z"
   },
   {
    "duration": 21,
    "start_time": "2022-05-25T14:38:11.208Z"
   },
   {
    "duration": 53,
    "start_time": "2022-05-25T14:38:11.230Z"
   },
   {
    "duration": 10,
    "start_time": "2022-05-25T14:38:11.284Z"
   },
   {
    "duration": 15,
    "start_time": "2022-05-25T14:38:11.296Z"
   },
   {
    "duration": 2936,
    "start_time": "2022-05-25T14:38:11.313Z"
   },
   {
    "duration": 955,
    "start_time": "2022-05-25T14:38:14.251Z"
   },
   {
    "duration": 919,
    "start_time": "2022-05-25T14:38:15.209Z"
   },
   {
    "duration": 6,
    "start_time": "2022-05-25T14:38:16.130Z"
   },
   {
    "duration": 6,
    "start_time": "2022-05-25T14:38:16.137Z"
   },
   {
    "duration": 5,
    "start_time": "2022-05-25T14:38:16.145Z"
   },
   {
    "duration": 67660,
    "start_time": "2022-05-25T14:38:16.151Z"
   },
   {
    "duration": 196,
    "start_time": "2022-05-25T14:39:23.813Z"
   },
   {
    "duration": 86,
    "start_time": "2022-05-25T14:39:24.013Z"
   },
   {
    "duration": 118,
    "start_time": "2022-05-25T14:39:24.104Z"
   },
   {
    "duration": 5,
    "start_time": "2022-05-25T14:39:24.224Z"
   },
   {
    "duration": 6601,
    "start_time": "2022-05-25T14:39:24.230Z"
   },
   {
    "duration": 193,
    "start_time": "2022-05-25T14:39:30.833Z"
   },
   {
    "duration": 5,
    "start_time": "2022-05-25T14:39:31.028Z"
   },
   {
    "duration": 12,
    "start_time": "2022-05-25T14:39:31.034Z"
   },
   {
    "duration": 30,
    "start_time": "2022-05-25T14:39:31.047Z"
   },
   {
    "duration": 424313,
    "start_time": "2022-05-25T14:39:31.079Z"
   },
   {
    "duration": 3172,
    "start_time": "2022-05-25T14:46:35.395Z"
   },
   {
    "duration": 4,
    "start_time": "2022-05-25T14:46:38.569Z"
   },
   {
    "duration": 557,
    "start_time": "2022-05-25T14:46:38.575Z"
   },
   {
    "duration": 4,
    "start_time": "2022-05-25T14:46:39.134Z"
   },
   {
    "duration": 24,
    "start_time": "2022-05-25T14:46:39.139Z"
   },
   {
    "duration": 326045,
    "start_time": "2022-05-25T14:46:39.165Z"
   },
   {
    "duration": 208,
    "start_time": "2022-05-25T14:52:05.213Z"
   },
   {
    "duration": 3,
    "start_time": "2022-05-25T14:52:05.423Z"
   },
   {
    "duration": 273972,
    "start_time": "2022-05-25T14:52:05.427Z"
   },
   {
    "duration": 4,
    "start_time": "2022-05-25T14:56:39.402Z"
   },
   {
    "duration": 196,
    "start_time": "2022-05-25T14:56:39.408Z"
   },
   {
    "duration": 269,
    "start_time": "2022-05-25T14:56:39.606Z"
   },
   {
    "duration": 3449,
    "start_time": "2022-05-25T14:56:39.877Z"
   },
   {
    "duration": 811,
    "start_time": "2022-05-25T14:56:43.329Z"
   },
   {
    "duration": 657,
    "start_time": "2022-05-25T14:56:44.141Z"
   },
   {
    "duration": 9,
    "start_time": "2022-05-25T14:56:44.800Z"
   },
   {
    "duration": 19,
    "start_time": "2022-05-25T14:56:44.811Z"
   },
   {
    "duration": 72,
    "start_time": "2022-05-26T05:49:39.171Z"
   },
   {
    "duration": 1866,
    "start_time": "2022-05-26T05:49:50.707Z"
   },
   {
    "duration": 3341,
    "start_time": "2022-05-26T05:49:52.575Z"
   },
   {
    "duration": 20,
    "start_time": "2022-05-26T05:49:55.918Z"
   },
   {
    "duration": 157,
    "start_time": "2022-05-26T05:49:55.940Z"
   },
   {
    "duration": 137,
    "start_time": "2022-05-26T05:49:56.100Z"
   },
   {
    "duration": 195,
    "start_time": "2022-05-26T05:49:56.239Z"
   },
   {
    "duration": 5,
    "start_time": "2022-05-26T05:49:56.437Z"
   },
   {
    "duration": 42,
    "start_time": "2022-05-26T05:49:56.444Z"
   },
   {
    "duration": 215,
    "start_time": "2022-05-26T05:49:56.488Z"
   },
   {
    "duration": 513,
    "start_time": "2022-05-26T05:49:56.705Z"
   },
   {
    "duration": 879,
    "start_time": "2022-05-26T05:49:57.220Z"
   },
   {
    "duration": 43,
    "start_time": "2022-05-26T05:49:58.102Z"
   },
   {
    "duration": 80,
    "start_time": "2022-05-26T05:49:58.147Z"
   },
   {
    "duration": 88,
    "start_time": "2022-05-26T05:49:58.231Z"
   },
   {
    "duration": 7,
    "start_time": "2022-05-26T05:49:58.321Z"
   },
   {
    "duration": 178,
    "start_time": "2022-05-26T05:49:58.331Z"
   },
   {
    "duration": 48,
    "start_time": "2022-05-26T05:49:58.512Z"
   },
   {
    "duration": 5,
    "start_time": "2022-05-26T05:49:58.562Z"
   },
   {
    "duration": 128,
    "start_time": "2022-05-26T05:49:58.569Z"
   },
   {
    "duration": 79,
    "start_time": "2022-05-26T05:49:58.706Z"
   },
   {
    "duration": 3,
    "start_time": "2022-05-26T05:49:58.787Z"
   },
   {
    "duration": 229,
    "start_time": "2022-05-26T05:49:58.792Z"
   },
   {
    "duration": 256,
    "start_time": "2022-05-26T05:49:59.023Z"
   },
   {
    "duration": 14,
    "start_time": "2022-05-26T05:49:59.281Z"
   },
   {
    "duration": 26,
    "start_time": "2022-05-26T05:49:59.297Z"
   },
   {
    "duration": 24,
    "start_time": "2022-05-26T05:49:59.325Z"
   },
   {
    "duration": 45,
    "start_time": "2022-05-26T05:49:59.352Z"
   },
   {
    "duration": 61,
    "start_time": "2022-05-26T05:49:59.400Z"
   },
   {
    "duration": 5,
    "start_time": "2022-05-26T05:49:59.464Z"
   },
   {
    "duration": 205,
    "start_time": "2022-05-26T05:49:59.484Z"
   },
   {
    "duration": 288,
    "start_time": "2022-05-26T05:49:59.692Z"
   },
   {
    "duration": 14,
    "start_time": "2022-05-26T05:49:59.984Z"
   },
   {
    "duration": 38,
    "start_time": "2022-05-26T05:50:00.000Z"
   },
   {
    "duration": 76,
    "start_time": "2022-05-26T05:50:00.042Z"
   },
   {
    "duration": 62,
    "start_time": "2022-05-26T05:50:00.121Z"
   },
   {
    "duration": 51,
    "start_time": "2022-05-26T05:50:00.185Z"
   },
   {
    "duration": 31,
    "start_time": "2022-05-26T05:50:00.237Z"
   },
   {
    "duration": 52,
    "start_time": "2022-05-26T05:50:00.270Z"
   },
   {
    "duration": 34,
    "start_time": "2022-05-26T05:50:00.325Z"
   },
   {
    "duration": 48,
    "start_time": "2022-05-26T05:50:00.362Z"
   },
   {
    "duration": 22,
    "start_time": "2022-05-26T05:50:00.418Z"
   },
   {
    "duration": 162,
    "start_time": "2022-05-26T05:50:00.442Z"
   },
   {
    "duration": 7,
    "start_time": "2022-05-26T05:50:00.607Z"
   },
   {
    "duration": 27,
    "start_time": "2022-05-26T05:50:00.616Z"
   },
   {
    "duration": 117,
    "start_time": "2022-05-26T05:50:00.644Z"
   },
   {
    "duration": 4,
    "start_time": "2022-05-26T05:50:00.763Z"
   },
   {
    "duration": 40,
    "start_time": "2022-05-26T05:50:00.769Z"
   },
   {
    "duration": 2816,
    "start_time": "2022-05-26T05:50:00.812Z"
   },
   {
    "duration": 874,
    "start_time": "2022-05-26T05:50:03.630Z"
   },
   {
    "duration": 829,
    "start_time": "2022-05-26T05:50:04.506Z"
   },
   {
    "duration": 7,
    "start_time": "2022-05-26T05:50:05.337Z"
   },
   {
    "duration": 9,
    "start_time": "2022-05-26T05:50:05.346Z"
   },
   {
    "duration": 9,
    "start_time": "2022-05-26T05:50:05.357Z"
   },
   {
    "duration": 24832,
    "start_time": "2022-05-26T05:50:05.369Z"
   },
   {
    "duration": 281,
    "start_time": "2022-05-26T05:50:30.207Z"
   },
   {
    "duration": 9,
    "start_time": "2022-05-26T05:50:30.494Z"
   },
   {
    "duration": 115,
    "start_time": "2022-05-26T05:50:30.510Z"
   },
   {
    "duration": 23,
    "start_time": "2022-05-26T05:50:30.628Z"
   },
   {
    "duration": 6658,
    "start_time": "2022-05-26T05:50:30.653Z"
   },
   {
    "duration": 191,
    "start_time": "2022-05-26T05:50:37.322Z"
   },
   {
    "duration": 5,
    "start_time": "2022-05-26T05:50:37.515Z"
   },
   {
    "duration": 48,
    "start_time": "2022-05-26T05:50:37.522Z"
   },
   {
    "duration": 11,
    "start_time": "2022-05-26T05:50:37.573Z"
   },
   {
    "duration": 465754,
    "start_time": "2022-05-26T05:50:37.586Z"
   },
   {
    "duration": 3379,
    "start_time": "2022-05-26T05:58:23.343Z"
   },
   {
    "duration": 5,
    "start_time": "2022-05-26T05:58:26.725Z"
   },
   {
    "duration": 594,
    "start_time": "2022-05-26T05:58:26.732Z"
   },
   {
    "duration": 4,
    "start_time": "2022-05-26T05:58:27.328Z"
   },
   {
    "duration": 11,
    "start_time": "2022-05-26T05:58:27.334Z"
   },
   {
    "duration": 338884,
    "start_time": "2022-05-26T05:58:27.347Z"
   },
   {
    "duration": 229,
    "start_time": "2022-05-26T06:04:06.232Z"
   },
   {
    "duration": 4,
    "start_time": "2022-05-26T06:04:06.464Z"
   },
   {
    "duration": 384924,
    "start_time": "2022-05-26T06:04:06.470Z"
   },
   {
    "duration": 5,
    "start_time": "2022-05-26T06:10:31.396Z"
   },
   {
    "duration": 189,
    "start_time": "2022-05-26T06:10:31.402Z"
   },
   {
    "duration": 303,
    "start_time": "2022-05-26T06:10:31.594Z"
   },
   {
    "duration": 3111,
    "start_time": "2022-05-26T06:10:31.899Z"
   },
   {
    "duration": 758,
    "start_time": "2022-05-26T06:10:35.013Z"
   },
   {
    "duration": 720,
    "start_time": "2022-05-26T06:10:35.772Z"
   },
   {
    "duration": 9,
    "start_time": "2022-05-26T06:10:36.494Z"
   },
   {
    "duration": 5,
    "start_time": "2022-05-26T06:13:12.798Z"
   },
   {
    "duration": 4,
    "start_time": "2022-05-26T06:13:22.992Z"
   },
   {
    "duration": 4,
    "start_time": "2022-05-26T06:16:07.698Z"
   },
   {
    "duration": 319130,
    "start_time": "2022-05-26T06:16:15.694Z"
   },
   {
    "duration": 1194,
    "start_time": "2022-05-26T06:22:17.795Z"
   },
   {
    "duration": 1498,
    "start_time": "2022-05-26T06:27:22.163Z"
   },
   {
    "duration": 948,
    "start_time": "2022-05-26T06:27:23.663Z"
   },
   {
    "duration": 17,
    "start_time": "2022-05-26T06:27:24.613Z"
   },
   {
    "duration": 162,
    "start_time": "2022-05-26T06:27:24.633Z"
   },
   {
    "duration": 150,
    "start_time": "2022-05-26T06:27:24.799Z"
   },
   {
    "duration": 150,
    "start_time": "2022-05-26T06:27:24.950Z"
   },
   {
    "duration": 5,
    "start_time": "2022-05-26T06:27:25.101Z"
   },
   {
    "duration": 30,
    "start_time": "2022-05-26T06:27:25.107Z"
   },
   {
    "duration": 196,
    "start_time": "2022-05-26T06:27:25.140Z"
   },
   {
    "duration": 488,
    "start_time": "2022-05-26T06:27:25.339Z"
   },
   {
    "duration": 757,
    "start_time": "2022-05-26T06:27:25.828Z"
   },
   {
    "duration": 33,
    "start_time": "2022-05-26T06:27:26.587Z"
   },
   {
    "duration": 68,
    "start_time": "2022-05-26T06:27:26.622Z"
   },
   {
    "duration": 92,
    "start_time": "2022-05-26T06:27:26.692Z"
   },
   {
    "duration": 4,
    "start_time": "2022-05-26T06:27:26.787Z"
   },
   {
    "duration": 107,
    "start_time": "2022-05-26T06:27:26.793Z"
   },
   {
    "duration": 40,
    "start_time": "2022-05-26T06:27:26.903Z"
   },
   {
    "duration": 4,
    "start_time": "2022-05-26T06:27:26.945Z"
   },
   {
    "duration": 98,
    "start_time": "2022-05-26T06:27:26.951Z"
   },
   {
    "duration": 81,
    "start_time": "2022-05-26T06:27:27.051Z"
   },
   {
    "duration": 3,
    "start_time": "2022-05-26T06:27:27.133Z"
   },
   {
    "duration": 189,
    "start_time": "2022-05-26T06:27:27.137Z"
   },
   {
    "duration": 253,
    "start_time": "2022-05-26T06:27:27.328Z"
   },
   {
    "duration": 21,
    "start_time": "2022-05-26T06:27:27.582Z"
   },
   {
    "duration": 15,
    "start_time": "2022-05-26T06:27:27.606Z"
   },
   {
    "duration": 20,
    "start_time": "2022-05-26T06:27:27.622Z"
   },
   {
    "duration": 40,
    "start_time": "2022-05-26T06:27:27.644Z"
   },
   {
    "duration": 51,
    "start_time": "2022-05-26T06:27:27.691Z"
   },
   {
    "duration": 4,
    "start_time": "2022-05-26T06:27:27.744Z"
   },
   {
    "duration": 230,
    "start_time": "2022-05-26T06:27:27.749Z"
   },
   {
    "duration": 414,
    "start_time": "2022-05-26T06:27:27.980Z"
   },
   {
    "duration": 11,
    "start_time": "2022-05-26T06:27:28.397Z"
   },
   {
    "duration": 7,
    "start_time": "2022-05-26T06:27:28.410Z"
   },
   {
    "duration": 78,
    "start_time": "2022-05-26T06:27:28.419Z"
   },
   {
    "duration": 15,
    "start_time": "2022-05-26T06:27:28.500Z"
   },
   {
    "duration": 10,
    "start_time": "2022-05-26T06:27:28.516Z"
   },
   {
    "duration": 3,
    "start_time": "2022-05-26T06:27:28.528Z"
   },
   {
    "duration": 58,
    "start_time": "2022-05-26T06:27:28.532Z"
   },
   {
    "duration": 18,
    "start_time": "2022-05-26T06:27:28.592Z"
   },
   {
    "duration": 10,
    "start_time": "2022-05-26T06:27:28.611Z"
   },
   {
    "duration": 10,
    "start_time": "2022-05-26T06:27:28.623Z"
   },
   {
    "duration": 190,
    "start_time": "2022-05-26T06:27:28.635Z"
   },
   {
    "duration": 58,
    "start_time": "2022-05-26T06:27:28.826Z"
   },
   {
    "duration": 4,
    "start_time": "2022-05-26T06:27:28.887Z"
   },
   {
    "duration": 116,
    "start_time": "2022-05-26T06:27:28.893Z"
   },
   {
    "duration": 4,
    "start_time": "2022-05-26T06:27:29.011Z"
   },
   {
    "duration": 6,
    "start_time": "2022-05-26T06:27:29.016Z"
   },
   {
    "duration": 3051,
    "start_time": "2022-05-26T06:27:29.024Z"
   },
   {
    "duration": 856,
    "start_time": "2022-05-26T06:27:32.077Z"
   },
   {
    "duration": 836,
    "start_time": "2022-05-26T06:27:32.935Z"
   },
   {
    "duration": 12,
    "start_time": "2022-05-26T06:27:33.774Z"
   },
   {
    "duration": 22,
    "start_time": "2022-05-26T06:27:33.789Z"
   },
   {
    "duration": 21,
    "start_time": "2022-05-26T06:27:33.812Z"
   },
   {
    "duration": 19666,
    "start_time": "2022-05-26T06:27:33.835Z"
   },
   {
    "duration": 284,
    "start_time": "2022-05-26T06:27:53.503Z"
   },
   {
    "duration": 6,
    "start_time": "2022-05-26T06:27:53.789Z"
   },
   {
    "duration": 114,
    "start_time": "2022-05-26T06:27:53.797Z"
   },
   {
    "duration": 5,
    "start_time": "2022-05-26T06:27:53.913Z"
   },
   {
    "duration": 6200,
    "start_time": "2022-05-26T06:27:53.920Z"
   },
   {
    "duration": 196,
    "start_time": "2022-05-26T06:28:00.122Z"
   },
   {
    "duration": 6,
    "start_time": "2022-05-26T06:28:00.320Z"
   },
   {
    "duration": 28,
    "start_time": "2022-05-26T06:28:00.328Z"
   },
   {
    "duration": 22,
    "start_time": "2022-05-26T06:28:00.357Z"
   },
   {
    "duration": 430810,
    "start_time": "2022-05-26T06:28:00.382Z"
   },
   {
    "duration": 3226,
    "start_time": "2022-05-26T06:35:11.194Z"
   },
   {
    "duration": 5,
    "start_time": "2022-05-26T06:35:14.422Z"
   },
   {
    "duration": 547,
    "start_time": "2022-05-26T06:35:14.429Z"
   },
   {
    "duration": 4,
    "start_time": "2022-05-26T06:35:14.985Z"
   },
   {
    "duration": 149,
    "start_time": "2022-05-26T06:35:14.991Z"
   },
   {
    "duration": 0,
    "start_time": "2022-05-26T06:35:15.143Z"
   },
   {
    "duration": 0,
    "start_time": "2022-05-26T06:35:15.144Z"
   },
   {
    "duration": 0,
    "start_time": "2022-05-26T06:35:15.145Z"
   },
   {
    "duration": 0,
    "start_time": "2022-05-26T06:35:15.146Z"
   },
   {
    "duration": 0,
    "start_time": "2022-05-26T06:35:15.147Z"
   },
   {
    "duration": 0,
    "start_time": "2022-05-26T06:35:15.148Z"
   },
   {
    "duration": 0,
    "start_time": "2022-05-26T06:35:15.149Z"
   },
   {
    "duration": 0,
    "start_time": "2022-05-26T06:35:15.152Z"
   },
   {
    "duration": 0,
    "start_time": "2022-05-26T06:35:15.153Z"
   },
   {
    "duration": 0,
    "start_time": "2022-05-26T06:35:15.155Z"
   },
   {
    "duration": 0,
    "start_time": "2022-05-26T06:35:15.156Z"
   },
   {
    "duration": 0,
    "start_time": "2022-05-26T06:35:15.158Z"
   },
   {
    "duration": 0,
    "start_time": "2022-05-26T06:35:15.160Z"
   },
   {
    "duration": 4,
    "start_time": "2022-05-26T06:39:57.083Z"
   },
   {
    "duration": 4,
    "start_time": "2022-05-26T06:40:05.969Z"
   },
   {
    "duration": 306710,
    "start_time": "2022-05-26T06:40:05.976Z"
   },
   {
    "duration": 198,
    "start_time": "2022-05-26T06:45:12.688Z"
   },
   {
    "duration": 3,
    "start_time": "2022-05-26T06:45:12.888Z"
   },
   {
    "duration": 429098,
    "start_time": "2022-05-26T06:45:12.893Z"
   },
   {
    "duration": 4,
    "start_time": "2022-05-26T06:52:21.993Z"
   },
   {
    "duration": 191,
    "start_time": "2022-05-26T06:52:21.998Z"
   },
   {
    "duration": 306,
    "start_time": "2022-05-26T06:52:22.193Z"
   },
   {
    "duration": 3087,
    "start_time": "2022-05-26T06:52:22.501Z"
   },
   {
    "duration": 994,
    "start_time": "2022-05-26T06:52:25.590Z"
   },
   {
    "duration": 722,
    "start_time": "2022-05-26T06:52:26.586Z"
   },
   {
    "duration": 9,
    "start_time": "2022-05-26T06:52:27.310Z"
   },
   {
    "duration": 16,
    "start_time": "2022-05-26T06:52:27.321Z"
   },
   {
    "duration": 3,
    "start_time": "2022-05-26T06:53:46.613Z"
   },
   {
    "duration": 327901,
    "start_time": "2022-05-26T06:53:48.697Z"
   },
   {
    "duration": 32,
    "start_time": "2022-05-26T07:00:20.028Z"
   },
   {
    "duration": 3,
    "start_time": "2022-05-26T07:00:24.896Z"
   },
   {
    "duration": 221026,
    "start_time": "2022-05-26T07:00:27.762Z"
   },
   {
    "duration": 3,
    "start_time": "2022-05-26T07:04:25.721Z"
   },
   {
    "duration": 36092,
    "start_time": "2022-05-26T07:04:27.797Z"
   },
   {
    "duration": 455,
    "start_time": "2022-05-26T07:05:21.132Z"
   },
   {
    "duration": 3,
    "start_time": "2022-05-26T07:05:31.420Z"
   },
   {
    "duration": 7854,
    "start_time": "2022-05-26T07:05:33.036Z"
   },
   {
    "duration": 3,
    "start_time": "2022-05-26T07:05:45.905Z"
   },
   {
    "duration": 14366,
    "start_time": "2022-05-26T07:05:47.618Z"
   },
   {
    "duration": 491,
    "start_time": "2022-05-26T07:06:19.796Z"
   },
   {
    "duration": 4,
    "start_time": "2022-05-26T07:06:30.034Z"
   },
   {
    "duration": 5676,
    "start_time": "2022-05-26T07:06:33.617Z"
   },
   {
    "duration": 498,
    "start_time": "2022-05-26T07:06:48.788Z"
   },
   {
    "duration": 3,
    "start_time": "2022-05-26T07:07:19.034Z"
   },
   {
    "duration": 5543,
    "start_time": "2022-05-26T07:07:22.843Z"
   },
   {
    "duration": 401,
    "start_time": "2022-05-26T07:07:44.502Z"
   },
   {
    "duration": 1374,
    "start_time": "2022-05-26T07:09:03.390Z"
   },
   {
    "duration": 893,
    "start_time": "2022-05-26T07:09:04.766Z"
   },
   {
    "duration": 24,
    "start_time": "2022-05-26T07:09:05.661Z"
   },
   {
    "duration": 134,
    "start_time": "2022-05-26T07:09:05.687Z"
   },
   {
    "duration": 118,
    "start_time": "2022-05-26T07:09:05.822Z"
   },
   {
    "duration": 125,
    "start_time": "2022-05-26T07:09:05.942Z"
   },
   {
    "duration": 9,
    "start_time": "2022-05-26T07:09:06.069Z"
   },
   {
    "duration": 46,
    "start_time": "2022-05-26T07:09:06.080Z"
   },
   {
    "duration": 187,
    "start_time": "2022-05-26T07:09:06.128Z"
   },
   {
    "duration": 485,
    "start_time": "2022-05-26T07:09:06.318Z"
   },
   {
    "duration": 713,
    "start_time": "2022-05-26T07:09:06.805Z"
   },
   {
    "duration": 35,
    "start_time": "2022-05-26T07:09:07.520Z"
   },
   {
    "duration": 57,
    "start_time": "2022-05-26T07:09:07.557Z"
   },
   {
    "duration": 93,
    "start_time": "2022-05-26T07:09:07.616Z"
   },
   {
    "duration": 3,
    "start_time": "2022-05-26T07:09:07.711Z"
   },
   {
    "duration": 99,
    "start_time": "2022-05-26T07:09:07.716Z"
   },
   {
    "duration": 39,
    "start_time": "2022-05-26T07:09:07.817Z"
   },
   {
    "duration": 4,
    "start_time": "2022-05-26T07:09:07.858Z"
   },
   {
    "duration": 101,
    "start_time": "2022-05-26T07:09:07.864Z"
   },
   {
    "duration": 100,
    "start_time": "2022-05-26T07:09:07.967Z"
   },
   {
    "duration": 3,
    "start_time": "2022-05-26T07:09:08.069Z"
   },
   {
    "duration": 202,
    "start_time": "2022-05-26T07:09:08.084Z"
   },
   {
    "duration": 243,
    "start_time": "2022-05-26T07:09:08.288Z"
   },
   {
    "duration": 12,
    "start_time": "2022-05-26T07:09:08.532Z"
   },
   {
    "duration": 9,
    "start_time": "2022-05-26T07:09:08.546Z"
   },
   {
    "duration": 40,
    "start_time": "2022-05-26T07:09:08.557Z"
   },
   {
    "duration": 21,
    "start_time": "2022-05-26T07:09:08.599Z"
   },
   {
    "duration": 59,
    "start_time": "2022-05-26T07:09:08.625Z"
   },
   {
    "duration": 4,
    "start_time": "2022-05-26T07:09:08.685Z"
   },
   {
    "duration": 172,
    "start_time": "2022-05-26T07:09:08.691Z"
   },
   {
    "duration": 229,
    "start_time": "2022-05-26T07:09:08.865Z"
   },
   {
    "duration": 10,
    "start_time": "2022-05-26T07:09:09.096Z"
   },
   {
    "duration": 21,
    "start_time": "2022-05-26T07:09:09.108Z"
   },
   {
    "duration": 11,
    "start_time": "2022-05-26T07:09:09.131Z"
   },
   {
    "duration": 11,
    "start_time": "2022-05-26T07:09:09.143Z"
   },
   {
    "duration": 30,
    "start_time": "2022-05-26T07:09:09.155Z"
   },
   {
    "duration": 2,
    "start_time": "2022-05-26T07:09:09.187Z"
   },
   {
    "duration": 12,
    "start_time": "2022-05-26T07:09:09.190Z"
   },
   {
    "duration": 13,
    "start_time": "2022-05-26T07:09:09.204Z"
   },
   {
    "duration": 6,
    "start_time": "2022-05-26T07:09:09.219Z"
   },
   {
    "duration": 7,
    "start_time": "2022-05-26T07:09:09.226Z"
   },
   {
    "duration": 127,
    "start_time": "2022-05-26T07:09:09.235Z"
   },
   {
    "duration": 4,
    "start_time": "2022-05-26T07:09:09.364Z"
   },
   {
    "duration": 4,
    "start_time": "2022-05-26T07:09:09.370Z"
   },
   {
    "duration": 49,
    "start_time": "2022-05-26T07:09:09.384Z"
   },
   {
    "duration": 4,
    "start_time": "2022-05-26T07:09:09.434Z"
   },
   {
    "duration": 8,
    "start_time": "2022-05-26T07:09:09.439Z"
   },
   {
    "duration": 3160,
    "start_time": "2022-05-26T07:09:09.448Z"
   },
   {
    "duration": 851,
    "start_time": "2022-05-26T07:09:12.610Z"
   },
   {
    "duration": 853,
    "start_time": "2022-05-26T07:09:13.462Z"
   },
   {
    "duration": 5,
    "start_time": "2022-05-26T07:09:14.317Z"
   },
   {
    "duration": 7,
    "start_time": "2022-05-26T07:09:14.324Z"
   },
   {
    "duration": 4,
    "start_time": "2022-05-26T07:09:14.333Z"
   },
   {
    "duration": 16648,
    "start_time": "2022-05-26T07:09:14.339Z"
   },
   {
    "duration": 207,
    "start_time": "2022-05-26T07:09:30.990Z"
   },
   {
    "duration": 90,
    "start_time": "2022-05-26T07:09:31.199Z"
   },
   {
    "duration": 106,
    "start_time": "2022-05-26T07:09:31.292Z"
   },
   {
    "duration": 19,
    "start_time": "2022-05-26T07:09:31.400Z"
   },
   {
    "duration": 5770,
    "start_time": "2022-05-26T07:09:31.421Z"
   },
   {
    "duration": 195,
    "start_time": "2022-05-26T07:09:37.192Z"
   },
   {
    "duration": 5,
    "start_time": "2022-05-26T07:09:37.390Z"
   },
   {
    "duration": 9,
    "start_time": "2022-05-26T07:09:37.397Z"
   },
   {
    "duration": 8,
    "start_time": "2022-05-26T07:09:37.408Z"
   },
   {
    "duration": 421447,
    "start_time": "2022-05-26T07:09:37.417Z"
   },
   {
    "duration": 3212,
    "start_time": "2022-05-26T07:16:38.866Z"
   },
   {
    "duration": 17,
    "start_time": "2022-05-26T07:16:42.080Z"
   },
   {
    "duration": 578,
    "start_time": "2022-05-26T07:16:42.100Z"
   },
   {
    "duration": 4,
    "start_time": "2022-05-26T07:16:42.683Z"
   },
   {
    "duration": 25,
    "start_time": "2022-05-26T07:16:42.690Z"
   },
   {
    "duration": 340643,
    "start_time": "2022-05-26T07:16:42.717Z"
   },
   {
    "duration": 210,
    "start_time": "2022-05-26T07:22:23.362Z"
   },
   {
    "duration": 4,
    "start_time": "2022-05-26T07:22:23.574Z"
   },
   {
    "duration": 106003,
    "start_time": "2022-05-26T07:22:23.584Z"
   },
   {
    "duration": 6,
    "start_time": "2022-05-26T07:24:09.589Z"
   },
   {
    "duration": 197,
    "start_time": "2022-05-26T07:24:09.597Z"
   },
   {
    "duration": 344,
    "start_time": "2022-05-26T07:24:09.797Z"
   },
   {
    "duration": 3342,
    "start_time": "2022-05-26T07:24:10.142Z"
   },
   {
    "duration": 1074,
    "start_time": "2022-05-26T07:24:13.486Z"
   },
   {
    "duration": 525,
    "start_time": "2022-05-26T07:24:14.562Z"
   },
   {
    "duration": 9,
    "start_time": "2022-05-26T07:24:15.089Z"
   },
   {
    "duration": 17,
    "start_time": "2022-05-26T07:24:15.100Z"
   }
  ],
  "kernelspec": {
   "display_name": "Python 3",
   "language": "python",
   "name": "python3"
  },
  "language_info": {
   "codemirror_mode": {
    "name": "ipython",
    "version": 3
   },
   "file_extension": ".py",
   "mimetype": "text/x-python",
   "name": "python",
   "nbconvert_exporter": "python",
   "pygments_lexer": "ipython3",
   "version": "3.8.2"
  },
  "toc": {
   "base_numbering": 1,
   "nav_menu": {},
   "number_sections": true,
   "sideBar": true,
   "skip_h1_title": true,
   "title_cell": "Table of Contents",
   "title_sidebar": "Contents",
   "toc_cell": false,
   "toc_position": {
    "height": "calc(100% - 180px)",
    "left": "10px",
    "top": "150px",
    "width": "366.391px"
   },
   "toc_section_display": true,
   "toc_window_display": true
  }
 },
 "nbformat": 4,
 "nbformat_minor": 2
}
